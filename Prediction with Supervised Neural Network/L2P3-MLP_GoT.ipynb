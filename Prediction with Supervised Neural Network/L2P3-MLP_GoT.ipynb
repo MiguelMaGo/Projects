{
 "cells": [
  {
   "cell_type": "markdown",
   "metadata": {},
   "source": [
    "## Laboratorio 2 - MLP (Convocatoria Extraordinaria)\n",
    "## Parte 2: Game of Thrones\n",
    "### Inteligencia Artificial II\n",
    "\n",
    "### Miguel Márquez Gonzalez"
   ]
  },
  {
   "cell_type": "markdown",
   "metadata": {},
   "source": [
    "---"
   ]
  },
  {
   "cell_type": "markdown",
   "metadata": {},
   "source": [
    "#### Librerías usadas"
   ]
  },
  {
   "cell_type": "code",
   "execution_count": 1,
   "metadata": {},
   "outputs": [],
   "source": [
    "import numpy as np\n",
    "import pandas as pd\n",
    "import matplotlib.pyplot as plt\n",
    "from sklearn.model_selection import train_test_split"
   ]
  },
  {
   "cell_type": "code",
   "execution_count": 2,
   "metadata": {},
   "outputs": [],
   "source": [
    "import tensorflow as tf\n",
    "from tensorflow import keras\n",
    "from tensorflow.keras.models import Sequential\n",
    "from tensorflow.keras.layers import Dense\n",
    "from tensorflow.keras.utils import plot_model"
   ]
  },
  {
   "cell_type": "markdown",
   "metadata": {},
   "source": [
    "---"
   ]
  },
  {
   "cell_type": "markdown",
   "metadata": {},
   "source": [
    "#### Variables y parámetros"
   ]
  },
  {
   "cell_type": "code",
   "execution_count": 3,
   "metadata": {},
   "outputs": [],
   "source": [
    "ds_path = ''\n",
    "ds_name_train = ds_path + 'got_train.csv'\n",
    "ds_name_pred = ds_path + 'got_predict.csv'"
   ]
  },
  {
   "cell_type": "markdown",
   "metadata": {},
   "source": [
    "#### Carga de datos y pre-procesamiento"
   ]
  },
  {
   "cell_type": "markdown",
   "metadata": {},
   "source": [
    "Lectura del dataset"
   ]
  },
  {
   "cell_type": "code",
   "execution_count": 4,
   "metadata": {
    "scrolled": false
   },
   "outputs": [
    {
     "name": "stdout",
     "output_type": "stream",
     "text": [
      "Shape train: (1946, 33)\n",
      "Shape predict: (5, 33)\n",
      "<class 'pandas.core.frame.DataFrame'>\n",
      "RangeIndex: 1946 entries, 0 to 1945\n",
      "Data columns (total 33 columns):\n",
      " #   Column             Non-Null Count  Dtype  \n",
      "---  ------             --------------  -----  \n",
      " 0   S.No               1946 non-null   int64  \n",
      " 1   actual             1946 non-null   int64  \n",
      " 2   pred               1946 non-null   int64  \n",
      " 3   alive              1946 non-null   float64\n",
      " 4   plod               1946 non-null   float64\n",
      " 5   name               1946 non-null   object \n",
      " 6   title              938 non-null    object \n",
      " 7   male               1946 non-null   int64  \n",
      " 8   culture            677 non-null    object \n",
      " 9   dateOfBirth        433 non-null    float64\n",
      " 10  DateoFdeath        444 non-null    float64\n",
      " 11  mother             21 non-null     object \n",
      " 12  father             26 non-null     object \n",
      " 13  heir               23 non-null     object \n",
      " 14  house              1519 non-null   object \n",
      " 15  spouse             276 non-null    object \n",
      " 16  book1              1946 non-null   int64  \n",
      " 17  book2              1946 non-null   int64  \n",
      " 18  book3              1946 non-null   int64  \n",
      " 19  book4              1946 non-null   int64  \n",
      " 20  book5              1946 non-null   int64  \n",
      " 21  isAliveMother      21 non-null     float64\n",
      " 22  isAliveFather      26 non-null     float64\n",
      " 23  isAliveHeir        23 non-null     float64\n",
      " 24  isAliveSpouse      276 non-null    float64\n",
      " 25  isMarried          1946 non-null   int64  \n",
      " 26  isNoble            1946 non-null   int64  \n",
      " 27  age                433 non-null    float64\n",
      " 28  numDeadRelations   1946 non-null   int64  \n",
      " 29  boolDeadRelations  1946 non-null   int64  \n",
      " 30  isPopular          1946 non-null   int64  \n",
      " 31  popularity         1946 non-null   float64\n",
      " 32  isAlive            1946 non-null   int64  \n",
      "dtypes: float64(10), int64(15), object(8)\n",
      "memory usage: 501.8+ KB\n"
     ]
    }
   ],
   "source": [
    "df_train = pd.read_csv(ds_name_train)\n",
    "df_pred = pd.read_csv(ds_name_pred)\n",
    "\n",
    "print('Shape train:', df_train.shape)\n",
    "print('Shape predict:', df_pred.shape)\n",
    "df_train.info()"
   ]
  },
  {
   "cell_type": "markdown",
   "metadata": {},
   "source": [
    "Seleccionar unicamente los atributos que se van a usar"
   ]
  },
  {
   "cell_type": "code",
   "execution_count": 5,
   "metadata": {
    "scrolled": false
   },
   "outputs": [],
   "source": [
    "df_pred_orig = df_pred.copy()\n",
    "df_train = df_train[['alive','male','book1','book2','book3','book4','book5','isMarried','isNoble','numDeadRelations','isPopular']]\n",
    "df_pred = df_pred[['male','book1','book2','book3','book4','book5','isMarried','isNoble','numDeadRelations','isPopular']]"
   ]
  },
  {
   "cell_type": "code",
   "execution_count": 6,
   "metadata": {},
   "outputs": [
    {
     "name": "stdout",
     "output_type": "stream",
     "text": [
      "Train:\n"
     ]
    },
    {
     "data": {
      "text/html": [
       "<div>\n",
       "<style scoped>\n",
       "    .dataframe tbody tr th:only-of-type {\n",
       "        vertical-align: middle;\n",
       "    }\n",
       "\n",
       "    .dataframe tbody tr th {\n",
       "        vertical-align: top;\n",
       "    }\n",
       "\n",
       "    .dataframe thead th {\n",
       "        text-align: right;\n",
       "    }\n",
       "</style>\n",
       "<table border=\"1\" class=\"dataframe\">\n",
       "  <thead>\n",
       "    <tr style=\"text-align: right;\">\n",
       "      <th></th>\n",
       "      <th>alive</th>\n",
       "      <th>male</th>\n",
       "      <th>book1</th>\n",
       "      <th>book2</th>\n",
       "      <th>book3</th>\n",
       "      <th>book4</th>\n",
       "      <th>book5</th>\n",
       "      <th>isMarried</th>\n",
       "      <th>isNoble</th>\n",
       "      <th>numDeadRelations</th>\n",
       "      <th>isPopular</th>\n",
       "    </tr>\n",
       "  </thead>\n",
       "  <tbody>\n",
       "    <tr>\n",
       "      <th>0</th>\n",
       "      <td>0.054</td>\n",
       "      <td>1</td>\n",
       "      <td>0</td>\n",
       "      <td>0</td>\n",
       "      <td>0</td>\n",
       "      <td>0</td>\n",
       "      <td>0</td>\n",
       "      <td>0</td>\n",
       "      <td>0</td>\n",
       "      <td>11</td>\n",
       "      <td>1</td>\n",
       "    </tr>\n",
       "    <tr>\n",
       "      <th>1</th>\n",
       "      <td>0.387</td>\n",
       "      <td>1</td>\n",
       "      <td>1</td>\n",
       "      <td>1</td>\n",
       "      <td>1</td>\n",
       "      <td>1</td>\n",
       "      <td>1</td>\n",
       "      <td>1</td>\n",
       "      <td>1</td>\n",
       "      <td>1</td>\n",
       "      <td>1</td>\n",
       "    </tr>\n",
       "    <tr>\n",
       "      <th>2</th>\n",
       "      <td>0.493</td>\n",
       "      <td>1</td>\n",
       "      <td>0</td>\n",
       "      <td>0</td>\n",
       "      <td>0</td>\n",
       "      <td>1</td>\n",
       "      <td>0</td>\n",
       "      <td>0</td>\n",
       "      <td>1</td>\n",
       "      <td>0</td>\n",
       "      <td>0</td>\n",
       "    </tr>\n",
       "    <tr>\n",
       "      <th>3</th>\n",
       "      <td>0.076</td>\n",
       "      <td>0</td>\n",
       "      <td>0</td>\n",
       "      <td>0</td>\n",
       "      <td>0</td>\n",
       "      <td>0</td>\n",
       "      <td>0</td>\n",
       "      <td>1</td>\n",
       "      <td>1</td>\n",
       "      <td>0</td>\n",
       "      <td>0</td>\n",
       "    </tr>\n",
       "    <tr>\n",
       "      <th>4</th>\n",
       "      <td>0.617</td>\n",
       "      <td>0</td>\n",
       "      <td>0</td>\n",
       "      <td>0</td>\n",
       "      <td>0</td>\n",
       "      <td>1</td>\n",
       "      <td>0</td>\n",
       "      <td>1</td>\n",
       "      <td>1</td>\n",
       "      <td>0</td>\n",
       "      <td>0</td>\n",
       "    </tr>\n",
       "  </tbody>\n",
       "</table>\n",
       "</div>"
      ],
      "text/plain": [
       "   alive  male  book1  book2  book3  book4  book5  isMarried  isNoble  \\\n",
       "0  0.054     1      0      0      0      0      0          0        0   \n",
       "1  0.387     1      1      1      1      1      1          1        1   \n",
       "2  0.493     1      0      0      0      1      0          0        1   \n",
       "3  0.076     0      0      0      0      0      0          1        1   \n",
       "4  0.617     0      0      0      0      1      0          1        1   \n",
       "\n",
       "   numDeadRelations  isPopular  \n",
       "0                11          1  \n",
       "1                 1          1  \n",
       "2                 0          0  \n",
       "3                 0          0  \n",
       "4                 0          0  "
      ]
     },
     "metadata": {},
     "output_type": "display_data"
    },
    {
     "name": "stdout",
     "output_type": "stream",
     "text": [
      "\n",
      "Predicción:\n"
     ]
    },
    {
     "data": {
      "text/html": [
       "<div>\n",
       "<style scoped>\n",
       "    .dataframe tbody tr th:only-of-type {\n",
       "        vertical-align: middle;\n",
       "    }\n",
       "\n",
       "    .dataframe tbody tr th {\n",
       "        vertical-align: top;\n",
       "    }\n",
       "\n",
       "    .dataframe thead th {\n",
       "        text-align: right;\n",
       "    }\n",
       "</style>\n",
       "<table border=\"1\" class=\"dataframe\">\n",
       "  <thead>\n",
       "    <tr style=\"text-align: right;\">\n",
       "      <th></th>\n",
       "      <th>male</th>\n",
       "      <th>book1</th>\n",
       "      <th>book2</th>\n",
       "      <th>book3</th>\n",
       "      <th>book4</th>\n",
       "      <th>book5</th>\n",
       "      <th>isMarried</th>\n",
       "      <th>isNoble</th>\n",
       "      <th>numDeadRelations</th>\n",
       "      <th>isPopular</th>\n",
       "    </tr>\n",
       "  </thead>\n",
       "  <tbody>\n",
       "    <tr>\n",
       "      <th>0</th>\n",
       "      <td>1</td>\n",
       "      <td>0</td>\n",
       "      <td>0</td>\n",
       "      <td>0</td>\n",
       "      <td>0</td>\n",
       "      <td>0</td>\n",
       "      <td>0</td>\n",
       "      <td>0</td>\n",
       "      <td>5</td>\n",
       "      <td>1</td>\n",
       "    </tr>\n",
       "    <tr>\n",
       "      <th>1</th>\n",
       "      <td>0</td>\n",
       "      <td>1</td>\n",
       "      <td>1</td>\n",
       "      <td>1</td>\n",
       "      <td>1</td>\n",
       "      <td>1</td>\n",
       "      <td>1</td>\n",
       "      <td>1</td>\n",
       "      <td>15</td>\n",
       "      <td>1</td>\n",
       "    </tr>\n",
       "    <tr>\n",
       "      <th>2</th>\n",
       "      <td>1</td>\n",
       "      <td>0</td>\n",
       "      <td>0</td>\n",
       "      <td>1</td>\n",
       "      <td>1</td>\n",
       "      <td>1</td>\n",
       "      <td>0</td>\n",
       "      <td>0</td>\n",
       "      <td>0</td>\n",
       "      <td>0</td>\n",
       "    </tr>\n",
       "    <tr>\n",
       "      <th>3</th>\n",
       "      <td>1</td>\n",
       "      <td>1</td>\n",
       "      <td>1</td>\n",
       "      <td>1</td>\n",
       "      <td>1</td>\n",
       "      <td>1</td>\n",
       "      <td>0</td>\n",
       "      <td>1</td>\n",
       "      <td>0</td>\n",
       "      <td>0</td>\n",
       "    </tr>\n",
       "    <tr>\n",
       "      <th>4</th>\n",
       "      <td>1</td>\n",
       "      <td>0</td>\n",
       "      <td>0</td>\n",
       "      <td>0</td>\n",
       "      <td>0</td>\n",
       "      <td>0</td>\n",
       "      <td>0</td>\n",
       "      <td>1</td>\n",
       "      <td>0</td>\n",
       "      <td>0</td>\n",
       "    </tr>\n",
       "  </tbody>\n",
       "</table>\n",
       "</div>"
      ],
      "text/plain": [
       "   male  book1  book2  book3  book4  book5  isMarried  isNoble  \\\n",
       "0     1      0      0      0      0      0          0        0   \n",
       "1     0      1      1      1      1      1          1        1   \n",
       "2     1      0      0      1      1      1          0        0   \n",
       "3     1      1      1      1      1      1          0        1   \n",
       "4     1      0      0      0      0      0          0        1   \n",
       "\n",
       "   numDeadRelations  isPopular  \n",
       "0                 5          1  \n",
       "1                15          1  \n",
       "2                 0          0  \n",
       "3                 0          0  \n",
       "4                 0          0  "
      ]
     },
     "metadata": {},
     "output_type": "display_data"
    }
   ],
   "source": [
    "print('Train:')\n",
    "display(df_train.head())\n",
    "print('\\nPredicción:')\n",
    "display(df_pred.head())"
   ]
  },
  {
   "cell_type": "markdown",
   "metadata": {},
   "source": [
    "Comrpobar si hay NaNs o datos que no queramos"
   ]
  },
  {
   "cell_type": "code",
   "execution_count": 7,
   "metadata": {},
   "outputs": [
    {
     "data": {
      "text/plain": [
       "array([11,  1,  0,  5,  3, 12, 10,  7,  4,  6, 15,  8,  2,  9],\n",
       "      dtype=int64)"
      ]
     },
     "execution_count": 7,
     "metadata": {},
     "output_type": "execute_result"
    }
   ],
   "source": [
    "df_train.numDeadRelations.unique()"
   ]
  },
  {
   "cell_type": "code",
   "execution_count": 8,
   "metadata": {},
   "outputs": [
    {
     "data": {
      "text/plain": [
       "alive               0\n",
       "male                0\n",
       "book1               0\n",
       "book2               0\n",
       "book3               0\n",
       "book4               0\n",
       "book5               0\n",
       "isMarried           0\n",
       "isNoble             0\n",
       "numDeadRelations    0\n",
       "isPopular           0\n",
       "dtype: int64"
      ]
     },
     "execution_count": 8,
     "metadata": {},
     "output_type": "execute_result"
    }
   ],
   "source": [
    "df_train.isnull().sum()"
   ]
  },
  {
   "cell_type": "markdown",
   "metadata": {},
   "source": [
    "Los datos están listos para entrenar la red"
   ]
  },
  {
   "cell_type": "markdown",
   "metadata": {},
   "source": [
    "Separación en variables y target"
   ]
  },
  {
   "cell_type": "code",
   "execution_count": 9,
   "metadata": {},
   "outputs": [],
   "source": [
    "X= df_train.drop('alive',axis=1)\n",
    "y= df_train['alive'] # Clase target"
   ]
  },
  {
   "cell_type": "markdown",
   "metadata": {},
   "source": [
    "Separación entre entrenamiento y evaluación"
   ]
  },
  {
   "cell_type": "code",
   "execution_count": 10,
   "metadata": {},
   "outputs": [],
   "source": [
    "X_train, X_test, y_train, y_test = train_test_split(X, y, test_size=0.25, random_state=42)"
   ]
  },
  {
   "cell_type": "markdown",
   "metadata": {},
   "source": [
    "---"
   ]
  },
  {
   "cell_type": "markdown",
   "metadata": {},
   "source": [
    "### MLP"
   ]
  },
  {
   "cell_type": "code",
   "execution_count": 11,
   "metadata": {},
   "outputs": [
    {
     "data": {
      "text/plain": [
       "10"
      ]
     },
     "execution_count": 11,
     "metadata": {},
     "output_type": "execute_result"
    }
   ],
   "source": [
    "np.shape(X_train)[1]"
   ]
  },
  {
   "cell_type": "code",
   "execution_count": 12,
   "metadata": {},
   "outputs": [],
   "source": [
    "model = Sequential()\n",
    "model.add(Dense(10, activation='relu', input_dim=10))\n",
    "model.add(Dense(5, activation='relu'))\n",
    "model.add(Dense(1, activation='sigmoid'))\n",
    "\n",
    "model.compile(optimizer= 'adam', loss='mse', metrics=['accuracy'])"
   ]
  },
  {
   "cell_type": "code",
   "execution_count": 13,
   "metadata": {
    "scrolled": true
   },
   "outputs": [
    {
     "name": "stdout",
     "output_type": "stream",
     "text": [
      "Model: \"sequential\"\n",
      "_________________________________________________________________\n",
      "Layer (type)                 Output Shape              Param #   \n",
      "=================================================================\n",
      "dense (Dense)                (None, 10)                110       \n",
      "_________________________________________________________________\n",
      "dense_1 (Dense)              (None, 5)                 55        \n",
      "_________________________________________________________________\n",
      "dense_2 (Dense)              (None, 1)                 6         \n",
      "=================================================================\n",
      "Total params: 171\n",
      "Trainable params: 171\n",
      "Non-trainable params: 0\n",
      "_________________________________________________________________\n"
     ]
    }
   ],
   "source": [
    "model.summary()"
   ]
  },
  {
   "cell_type": "code",
   "execution_count": 14,
   "metadata": {
    "scrolled": true
   },
   "outputs": [
    {
     "name": "stdout",
     "output_type": "stream",
     "text": [
      "WARNING:tensorflow:Falling back from v2 loop because of error: Failed to find data adapter that can handle input: <class 'pandas.core.frame.DataFrame'>, <class 'NoneType'>\n",
      "Train on 1459 samples\n",
      "Epoch 1/200\n",
      "1459/1459 [==============================] - 0s 87us/sample - loss: 0.1137 - accuracy: 0.0027\n",
      "Epoch 2/200\n",
      "1459/1459 [==============================] - 0s 13us/sample - loss: 0.1072 - accuracy: 0.0021\n",
      "Epoch 3/200\n",
      "1459/1459 [==============================] - 0s 11us/sample - loss: 0.1019 - accuracy: 0.0021\n",
      "Epoch 4/200\n",
      "1459/1459 [==============================] - 0s 13us/sample - loss: 0.0983 - accuracy: 0.0014\n",
      "Epoch 5/200\n",
      "1459/1459 [==============================] - 0s 12us/sample - loss: 0.0951 - accuracy: 0.0014\n",
      "Epoch 6/200\n",
      "1459/1459 [==============================] - 0s 11us/sample - loss: 0.0926 - accuracy: 0.0014\n",
      "Epoch 7/200\n",
      "1459/1459 [==============================] - 0s 13us/sample - loss: 0.0904 - accuracy: 0.0014\n",
      "Epoch 8/200\n",
      "1459/1459 [==============================] - 0s 11us/sample - loss: 0.0883 - accuracy: 0.0014\n",
      "Epoch 9/200\n",
      "1459/1459 [==============================] - 0s 11us/sample - loss: 0.0864 - accuracy: 0.0014\n",
      "Epoch 10/200\n",
      "1459/1459 [==============================] - 0s 10us/sample - loss: 0.0848 - accuracy: 0.0014\n",
      "Epoch 11/200\n",
      "1459/1459 [==============================] - 0s 12us/sample - loss: 0.0835 - accuracy: 0.0014\n",
      "Epoch 12/200\n",
      "1459/1459 [==============================] - 0s 14us/sample - loss: 0.0824 - accuracy: 0.0014\n",
      "Epoch 13/200\n",
      "1459/1459 [==============================] - 0s 11us/sample - loss: 0.0814 - accuracy: 0.0014\n",
      "Epoch 14/200\n",
      "1459/1459 [==============================] - 0s 14us/sample - loss: 0.0804 - accuracy: 0.0014\n",
      "Epoch 15/200\n",
      "1459/1459 [==============================] - 0s 14us/sample - loss: 0.0795 - accuracy: 0.0014\n",
      "Epoch 16/200\n",
      "1459/1459 [==============================] - 0s 14us/sample - loss: 0.0786 - accuracy: 0.0014\n",
      "Epoch 17/200\n",
      "1459/1459 [==============================] - 0s 12us/sample - loss: 0.0777 - accuracy: 0.0014\n",
      "Epoch 18/200\n",
      "1459/1459 [==============================] - 0s 10us/sample - loss: 0.0768 - accuracy: 0.0014\n",
      "Epoch 19/200\n",
      "1459/1459 [==============================] - 0s 15us/sample - loss: 0.0758 - accuracy: 0.0014\n",
      "Epoch 20/200\n",
      "1459/1459 [==============================] - 0s 15us/sample - loss: 0.0750 - accuracy: 0.0014\n",
      "Epoch 21/200\n",
      "1459/1459 [==============================] - 0s 11us/sample - loss: 0.0741 - accuracy: 0.0014\n",
      "Epoch 22/200\n",
      "1459/1459 [==============================] - 0s 10us/sample - loss: 0.0733 - accuracy: 0.0014\n",
      "Epoch 23/200\n",
      "1459/1459 [==============================] - 0s 13us/sample - loss: 0.0725 - accuracy: 0.0014\n",
      "Epoch 24/200\n",
      "1459/1459 [==============================] - 0s 10us/sample - loss: 0.0718 - accuracy: 0.0014\n",
      "Epoch 25/200\n",
      "1459/1459 [==============================] - 0s 15us/sample - loss: 0.0711 - accuracy: 0.0014\n",
      "Epoch 26/200\n",
      "1459/1459 [==============================] - 0s 14us/sample - loss: 0.0705 - accuracy: 0.0014\n",
      "Epoch 27/200\n",
      "1459/1459 [==============================] - 0s 10us/sample - loss: 0.0700 - accuracy: 0.0014\n",
      "Epoch 28/200\n",
      "1459/1459 [==============================] - 0s 16us/sample - loss: 0.0694 - accuracy: 0.0014\n",
      "Epoch 29/200\n",
      "1459/1459 [==============================] - 0s 13us/sample - loss: 0.0689 - accuracy: 0.0014\n",
      "Epoch 30/200\n",
      "1459/1459 [==============================] - 0s 11us/sample - loss: 0.0685 - accuracy: 0.0014\n",
      "Epoch 31/200\n",
      "1459/1459 [==============================] - 0s 10us/sample - loss: 0.0681 - accuracy: 0.0014\n",
      "Epoch 32/200\n",
      "1459/1459 [==============================] - 0s 12us/sample - loss: 0.0676 - accuracy: 0.0014\n",
      "Epoch 33/200\n",
      "1459/1459 [==============================] - 0s 13us/sample - loss: 0.0673 - accuracy: 0.0014\n",
      "Epoch 34/200\n",
      "1459/1459 [==============================] - 0s 19us/sample - loss: 0.0670 - accuracy: 0.0014\n",
      "Epoch 35/200\n",
      "1459/1459 [==============================] - 0s 16us/sample - loss: 0.0667 - accuracy: 0.0014\n",
      "Epoch 36/200\n",
      "1459/1459 [==============================] - 0s 21us/sample - loss: 0.0664 - accuracy: 0.0014\n",
      "Epoch 37/200\n",
      "1459/1459 [==============================] - 0s 11us/sample - loss: 0.0661 - accuracy: 0.0014\n",
      "Epoch 38/200\n",
      "1459/1459 [==============================] - 0s 11us/sample - loss: 0.0659 - accuracy: 0.0014\n",
      "Epoch 39/200\n",
      "1459/1459 [==============================] - 0s 9us/sample - loss: 0.0657 - accuracy: 0.0014\n",
      "Epoch 40/200\n",
      "1459/1459 [==============================] - 0s 10us/sample - loss: 0.0654 - accuracy: 0.0014\n",
      "Epoch 41/200\n",
      "1459/1459 [==============================] - 0s 10us/sample - loss: 0.0652 - accuracy: 0.0014\n",
      "Epoch 42/200\n",
      "1459/1459 [==============================] - 0s 11us/sample - loss: 0.0650 - accuracy: 0.0021\n",
      "Epoch 43/200\n",
      "1459/1459 [==============================] - 0s 10us/sample - loss: 0.0648 - accuracy: 0.0021\n",
      "Epoch 44/200\n",
      "1459/1459 [==============================] - 0s 12us/sample - loss: 0.0646 - accuracy: 0.0021\n",
      "Epoch 45/200\n",
      "1459/1459 [==============================] - 0s 15us/sample - loss: 0.0645 - accuracy: 0.0021\n",
      "Epoch 46/200\n",
      "1459/1459 [==============================] - 0s 17us/sample - loss: 0.0643 - accuracy: 0.0021\n",
      "Epoch 47/200\n",
      "1459/1459 [==============================] - 0s 17us/sample - loss: 0.0641 - accuracy: 0.0021\n",
      "Epoch 48/200\n",
      "1459/1459 [==============================] - 0s 17us/sample - loss: 0.0640 - accuracy: 0.0021\n",
      "Epoch 49/200\n",
      "1459/1459 [==============================] - 0s 13us/sample - loss: 0.0638 - accuracy: 0.0021\n",
      "Epoch 50/200\n",
      "1459/1459 [==============================] - 0s 10us/sample - loss: 0.0636 - accuracy: 0.0021\n",
      "Epoch 51/200\n",
      "1459/1459 [==============================] - 0s 10us/sample - loss: 0.0634 - accuracy: 0.0021\n",
      "Epoch 52/200\n",
      "1459/1459 [==============================] - 0s 13us/sample - loss: 0.0633 - accuracy: 0.0021\n",
      "Epoch 53/200\n",
      "1459/1459 [==============================] - 0s 8us/sample - loss: 0.0631 - accuracy: 0.0027\n",
      "Epoch 54/200\n",
      "1459/1459 [==============================] - 0s 13us/sample - loss: 0.0629 - accuracy: 0.0027\n",
      "Epoch 55/200\n",
      "1459/1459 [==============================] - 0s 9us/sample - loss: 0.0628 - accuracy: 0.0027\n",
      "Epoch 56/200\n",
      "1459/1459 [==============================] - 0s 8us/sample - loss: 0.0627 - accuracy: 0.0027\n",
      "Epoch 57/200\n",
      "1459/1459 [==============================] - 0s 11us/sample - loss: 0.0625 - accuracy: 0.0027\n",
      "Epoch 58/200\n",
      "1459/1459 [==============================] - 0s 9us/sample - loss: 0.0624 - accuracy: 0.0027\n",
      "Epoch 59/200\n",
      "1459/1459 [==============================] - 0s 10us/sample - loss: 0.0623 - accuracy: 0.0027\n",
      "Epoch 60/200\n",
      "1459/1459 [==============================] - 0s 12us/sample - loss: 0.0622 - accuracy: 0.0027\n",
      "Epoch 61/200\n",
      "1459/1459 [==============================] - 0s 16us/sample - loss: 0.0621 - accuracy: 0.0027\n",
      "Epoch 62/200\n",
      "1459/1459 [==============================] - 0s 14us/sample - loss: 0.0620 - accuracy: 0.0027\n",
      "Epoch 63/200\n",
      "1459/1459 [==============================] - 0s 10us/sample - loss: 0.0620 - accuracy: 0.0027\n",
      "Epoch 64/200\n",
      "1459/1459 [==============================] - 0s 11us/sample - loss: 0.0619 - accuracy: 0.0027\n",
      "Epoch 65/200\n",
      "1459/1459 [==============================] - 0s 9us/sample - loss: 0.0618 - accuracy: 0.0027\n",
      "Epoch 66/200\n",
      "1459/1459 [==============================] - 0s 10us/sample - loss: 0.0617 - accuracy: 0.0027\n",
      "Epoch 67/200\n",
      "1459/1459 [==============================] - 0s 10us/sample - loss: 0.0616 - accuracy: 0.0027\n",
      "Epoch 68/200\n",
      "1459/1459 [==============================] - 0s 10us/sample - loss: 0.0616 - accuracy: 0.0027\n",
      "Epoch 69/200\n",
      "1459/1459 [==============================] - 0s 10us/sample - loss: 0.0615 - accuracy: 0.0027\n",
      "Epoch 70/200\n",
      "1459/1459 [==============================] - 0s 12us/sample - loss: 0.0614 - accuracy: 0.0027\n",
      "Epoch 71/200\n",
      "1459/1459 [==============================] - 0s 14us/sample - loss: 0.0614 - accuracy: 0.0027\n",
      "Epoch 72/200\n",
      "1459/1459 [==============================] - 0s 10us/sample - loss: 0.0613 - accuracy: 0.0027\n",
      "Epoch 73/200\n",
      "1459/1459 [==============================] - 0s 10us/sample - loss: 0.0612 - accuracy: 0.0027\n",
      "Epoch 74/200\n",
      "1459/1459 [==============================] - 0s 10us/sample - loss: 0.0612 - accuracy: 0.0027\n",
      "Epoch 75/200\n"
     ]
    },
    {
     "name": "stdout",
     "output_type": "stream",
     "text": [
      "1459/1459 [==============================] - 0s 9us/sample - loss: 0.0611 - accuracy: 0.0027\n",
      "Epoch 76/200\n",
      "1459/1459 [==============================] - 0s 10us/sample - loss: 0.0610 - accuracy: 0.0027\n",
      "Epoch 77/200\n",
      "1459/1459 [==============================] - 0s 28us/sample - loss: 0.0610 - accuracy: 0.0027\n",
      "Epoch 78/200\n",
      "1459/1459 [==============================] - 0s 11us/sample - loss: 0.0609 - accuracy: 0.0027\n",
      "Epoch 79/200\n",
      "1459/1459 [==============================] - 0s 15us/sample - loss: 0.0609 - accuracy: 0.0027\n",
      "Epoch 80/200\n",
      "1459/1459 [==============================] - 0s 11us/sample - loss: 0.0608 - accuracy: 0.0027\n",
      "Epoch 81/200\n",
      "1459/1459 [==============================] - 0s 16us/sample - loss: 0.0608 - accuracy: 0.0027\n",
      "Epoch 82/200\n",
      "1459/1459 [==============================] - 0s 11us/sample - loss: 0.0607 - accuracy: 0.0027\n",
      "Epoch 83/200\n",
      "1459/1459 [==============================] - 0s 10us/sample - loss: 0.0606 - accuracy: 0.0027\n",
      "Epoch 84/200\n",
      "1459/1459 [==============================] - 0s 13us/sample - loss: 0.0606 - accuracy: 0.0027\n",
      "Epoch 85/200\n",
      "1459/1459 [==============================] - 0s 19us/sample - loss: 0.0605 - accuracy: 0.0027\n",
      "Epoch 86/200\n",
      "1459/1459 [==============================] - 0s 11us/sample - loss: 0.0605 - accuracy: 0.0027\n",
      "Epoch 87/200\n",
      "1459/1459 [==============================] - 0s 12us/sample - loss: 0.0604 - accuracy: 0.0027\n",
      "Epoch 88/200\n",
      "1459/1459 [==============================] - 0s 9us/sample - loss: 0.0604 - accuracy: 0.0027\n",
      "Epoch 89/200\n",
      "1459/1459 [==============================] - 0s 10us/sample - loss: 0.0603 - accuracy: 0.0027\n",
      "Epoch 90/200\n",
      "1459/1459 [==============================] - 0s 11us/sample - loss: 0.0603 - accuracy: 0.0027\n",
      "Epoch 91/200\n",
      "1459/1459 [==============================] - 0s 10us/sample - loss: 0.0602 - accuracy: 0.0034\n",
      "Epoch 92/200\n",
      "1459/1459 [==============================] - 0s 11us/sample - loss: 0.0601 - accuracy: 0.0034\n",
      "Epoch 93/200\n",
      "1459/1459 [==============================] - 0s 17us/sample - loss: 0.0601 - accuracy: 0.0034\n",
      "Epoch 94/200\n",
      "1459/1459 [==============================] - 0s 13us/sample - loss: 0.0600 - accuracy: 0.0034\n",
      "Epoch 95/200\n",
      "1459/1459 [==============================] - 0s 14us/sample - loss: 0.0599 - accuracy: 0.0034\n",
      "Epoch 96/200\n",
      "1459/1459 [==============================] - 0s 11us/sample - loss: 0.0599 - accuracy: 0.0034\n",
      "Epoch 97/200\n",
      "1459/1459 [==============================] - 0s 12us/sample - loss: 0.0598 - accuracy: 0.0034\n",
      "Epoch 98/200\n",
      "1459/1459 [==============================] - 0s 13us/sample - loss: 0.0598 - accuracy: 0.0034\n",
      "Epoch 99/200\n",
      "1459/1459 [==============================] - 0s 11us/sample - loss: 0.0597 - accuracy: 0.0034\n",
      "Epoch 100/200\n",
      "1459/1459 [==============================] - 0s 18us/sample - loss: 0.0597 - accuracy: 0.0034\n",
      "Epoch 101/200\n",
      "1459/1459 [==============================] - 0s 12us/sample - loss: 0.0596 - accuracy: 0.0034\n",
      "Epoch 102/200\n",
      "1459/1459 [==============================] - 0s 10us/sample - loss: 0.0596 - accuracy: 0.0034\n",
      "Epoch 103/200\n",
      "1459/1459 [==============================] - 0s 10us/sample - loss: 0.0595 - accuracy: 0.0034\n",
      "Epoch 104/200\n",
      "1459/1459 [==============================] - 0s 12us/sample - loss: 0.0594 - accuracy: 0.0034\n",
      "Epoch 105/200\n",
      "1459/1459 [==============================] - 0s 17us/sample - loss: 0.0594 - accuracy: 0.0034\n",
      "Epoch 106/200\n",
      "1459/1459 [==============================] - 0s 13us/sample - loss: 0.0593 - accuracy: 0.0034\n",
      "Epoch 107/200\n",
      "1459/1459 [==============================] - 0s 11us/sample - loss: 0.0593 - accuracy: 0.0034\n",
      "Epoch 108/200\n",
      "1459/1459 [==============================] - 0s 16us/sample - loss: 0.0592 - accuracy: 0.0034\n",
      "Epoch 109/200\n",
      "1459/1459 [==============================] - 0s 10us/sample - loss: 0.0592 - accuracy: 0.0034\n",
      "Epoch 110/200\n",
      "1459/1459 [==============================] - 0s 12us/sample - loss: 0.0591 - accuracy: 0.0034\n",
      "Epoch 111/200\n",
      "1459/1459 [==============================] - 0s 10us/sample - loss: 0.0591 - accuracy: 0.0034\n",
      "Epoch 112/200\n",
      "1459/1459 [==============================] - 0s 12us/sample - loss: 0.0590 - accuracy: 0.0034\n",
      "Epoch 113/200\n",
      "1459/1459 [==============================] - 0s 10us/sample - loss: 0.0590 - accuracy: 0.0034\n",
      "Epoch 114/200\n",
      "1459/1459 [==============================] - 0s 17us/sample - loss: 0.0589 - accuracy: 0.0034\n",
      "Epoch 115/200\n",
      "1459/1459 [==============================] - 0s 14us/sample - loss: 0.0589 - accuracy: 0.0034\n",
      "Epoch 116/200\n",
      "1459/1459 [==============================] - 0s 13us/sample - loss: 0.0588 - accuracy: 0.0034\n",
      "Epoch 117/200\n",
      "1459/1459 [==============================] - 0s 15us/sample - loss: 0.0588 - accuracy: 0.0034\n",
      "Epoch 118/200\n",
      "1459/1459 [==============================] - 0s 11us/sample - loss: 0.0587 - accuracy: 0.0034\n",
      "Epoch 119/200\n",
      "1459/1459 [==============================] - ETA: 0s - loss: 0.0616 - accuracy: 0.00 - 0s 12us/sample - loss: 0.0587 - accuracy: 0.0034\n",
      "Epoch 120/200\n",
      "1459/1459 [==============================] - 0s 11us/sample - loss: 0.0587 - accuracy: 0.0034\n",
      "Epoch 121/200\n",
      "1459/1459 [==============================] - 0s 9us/sample - loss: 0.0586 - accuracy: 0.0034\n",
      "Epoch 122/200\n",
      "1459/1459 [==============================] - 0s 10us/sample - loss: 0.0586 - accuracy: 0.0034\n",
      "Epoch 123/200\n",
      "1459/1459 [==============================] - 0s 11us/sample - loss: 0.0585 - accuracy: 0.0034\n",
      "Epoch 124/200\n",
      "1459/1459 [==============================] - 0s 11us/sample - loss: 0.0585 - accuracy: 0.0034\n",
      "Epoch 125/200\n",
      "1459/1459 [==============================] - 0s 11us/sample - loss: 0.0585 - accuracy: 0.0034\n",
      "Epoch 126/200\n",
      "1459/1459 [==============================] - 0s 16us/sample - loss: 0.0584 - accuracy: 0.0034\n",
      "Epoch 127/200\n",
      "1459/1459 [==============================] - 0s 11us/sample - loss: 0.0584 - accuracy: 0.0034\n",
      "Epoch 128/200\n",
      "1459/1459 [==============================] - 0s 11us/sample - loss: 0.0584 - accuracy: 0.0034\n",
      "Epoch 129/200\n",
      "1459/1459 [==============================] - 0s 10us/sample - loss: 0.0583 - accuracy: 0.0034\n",
      "Epoch 130/200\n",
      "1459/1459 [==============================] - 0s 11us/sample - loss: 0.0583 - accuracy: 0.0034\n",
      "Epoch 131/200\n",
      "1459/1459 [==============================] - 0s 10us/sample - loss: 0.0583 - accuracy: 0.0034\n",
      "Epoch 132/200\n",
      "1459/1459 [==============================] - 0s 8us/sample - loss: 0.0583 - accuracy: 0.0034\n",
      "Epoch 133/200\n",
      "1459/1459 [==============================] - 0s 11us/sample - loss: 0.0582 - accuracy: 0.0034\n",
      "Epoch 134/200\n",
      "1459/1459 [==============================] - 0s 10us/sample - loss: 0.0582 - accuracy: 0.0034\n",
      "Epoch 135/200\n",
      "1459/1459 [==============================] - 0s 10us/sample - loss: 0.0581 - accuracy: 0.0034\n",
      "Epoch 136/200\n",
      "1459/1459 [==============================] - 0s 10us/sample - loss: 0.0581 - accuracy: 0.0034\n",
      "Epoch 137/200\n",
      "1459/1459 [==============================] - 0s 10us/sample - loss: 0.0581 - accuracy: 0.0034\n",
      "Epoch 138/200\n",
      "1459/1459 [==============================] - 0s 10us/sample - loss: 0.0580 - accuracy: 0.0034\n",
      "Epoch 139/200\n",
      "1459/1459 [==============================] - 0s 12us/sample - loss: 0.0580 - accuracy: 0.0034\n",
      "Epoch 140/200\n",
      "1459/1459 [==============================] - 0s 10us/sample - loss: 0.0580 - accuracy: 0.0034\n",
      "Epoch 141/200\n",
      "1459/1459 [==============================] - 0s 10us/sample - loss: 0.0580 - accuracy: 0.0034\n",
      "Epoch 142/200\n",
      "1459/1459 [==============================] - 0s 8us/sample - loss: 0.0579 - accuracy: 0.0027\n",
      "Epoch 143/200\n",
      "1459/1459 [==============================] - 0s 10us/sample - loss: 0.0579 - accuracy: 0.0027\n",
      "Epoch 144/200\n",
      "1459/1459 [==============================] - 0s 10us/sample - loss: 0.0579 - accuracy: 0.0034\n",
      "Epoch 145/200\n",
      "1459/1459 [==============================] - 0s 10us/sample - loss: 0.0578 - accuracy: 0.0027\n",
      "Epoch 146/200\n",
      "1459/1459 [==============================] - 0s 11us/sample - loss: 0.0578 - accuracy: 0.0027\n",
      "Epoch 147/200\n",
      "1459/1459 [==============================] - 0s 10us/sample - loss: 0.0578 - accuracy: 0.0027\n",
      "Epoch 148/200\n",
      "1459/1459 [==============================] - 0s 12us/sample - loss: 0.0577 - accuracy: 0.0027\n",
      "Epoch 149/200\n",
      "1459/1459 [==============================] - 0s 8us/sample - loss: 0.0577 - accuracy: 0.0027\n",
      "Epoch 150/200\n"
     ]
    },
    {
     "name": "stdout",
     "output_type": "stream",
     "text": [
      "1459/1459 [==============================] - 0s 9us/sample - loss: 0.0576 - accuracy: 0.0027\n",
      "Epoch 151/200\n",
      "1459/1459 [==============================] - 0s 10us/sample - loss: 0.0576 - accuracy: 0.0027\n",
      "Epoch 152/200\n",
      "1459/1459 [==============================] - 0s 10us/sample - loss: 0.0576 - accuracy: 0.0027\n",
      "Epoch 153/200\n",
      "1459/1459 [==============================] - 0s 10us/sample - loss: 0.0575 - accuracy: 0.0027\n",
      "Epoch 154/200\n",
      "1459/1459 [==============================] - 0s 14us/sample - loss: 0.0575 - accuracy: 0.0027\n",
      "Epoch 155/200\n",
      "1459/1459 [==============================] - 0s 15us/sample - loss: 0.0575 - accuracy: 0.0027\n",
      "Epoch 156/200\n",
      "1459/1459 [==============================] - 0s 11us/sample - loss: 0.0575 - accuracy: 0.0027\n",
      "Epoch 157/200\n",
      "1459/1459 [==============================] - 0s 12us/sample - loss: 0.0575 - accuracy: 0.0027\n",
      "Epoch 158/200\n",
      "1459/1459 [==============================] - 0s 16us/sample - loss: 0.0574 - accuracy: 0.0027\n",
      "Epoch 159/200\n",
      "1459/1459 [==============================] - 0s 14us/sample - loss: 0.0574 - accuracy: 0.0027\n",
      "Epoch 160/200\n",
      "1459/1459 [==============================] - 0s 14us/sample - loss: 0.0573 - accuracy: 0.0027\n",
      "Epoch 161/200\n",
      "1459/1459 [==============================] - 0s 11us/sample - loss: 0.0574 - accuracy: 0.0027\n",
      "Epoch 162/200\n",
      "1459/1459 [==============================] - 0s 16us/sample - loss: 0.0573 - accuracy: 0.0027\n",
      "Epoch 163/200\n",
      "1459/1459 [==============================] - 0s 16us/sample - loss: 0.0573 - accuracy: 0.0027\n",
      "Epoch 164/200\n",
      "1459/1459 [==============================] - 0s 16us/sample - loss: 0.0572 - accuracy: 0.0027\n",
      "Epoch 165/200\n",
      "1459/1459 [==============================] - 0s 18us/sample - loss: 0.0572 - accuracy: 0.0027\n",
      "Epoch 166/200\n",
      "1459/1459 [==============================] - 0s 11us/sample - loss: 0.0572 - accuracy: 0.0027\n",
      "Epoch 167/200\n",
      "1459/1459 [==============================] - 0s 10us/sample - loss: 0.0572 - accuracy: 0.0027\n",
      "Epoch 168/200\n",
      "1459/1459 [==============================] - 0s 14us/sample - loss: 0.0571 - accuracy: 0.0027\n",
      "Epoch 169/200\n",
      "1459/1459 [==============================] - 0s 10us/sample - loss: 0.0571 - accuracy: 0.0027\n",
      "Epoch 170/200\n",
      "1459/1459 [==============================] - 0s 13us/sample - loss: 0.0571 - accuracy: 0.0027\n",
      "Epoch 171/200\n",
      "1459/1459 [==============================] - 0s 10us/sample - loss: 0.0570 - accuracy: 0.0027\n",
      "Epoch 172/200\n",
      "1459/1459 [==============================] - 0s 12us/sample - loss: 0.0570 - accuracy: 0.0027\n",
      "Epoch 173/200\n",
      "1459/1459 [==============================] - 0s 11us/sample - loss: 0.0570 - accuracy: 0.0027\n",
      "Epoch 174/200\n",
      "1459/1459 [==============================] - 0s 12us/sample - loss: 0.0570 - accuracy: 0.0027\n",
      "Epoch 175/200\n",
      "1459/1459 [==============================] - 0s 10us/sample - loss: 0.0570 - accuracy: 0.0027\n",
      "Epoch 176/200\n",
      "1459/1459 [==============================] - 0s 10us/sample - loss: 0.0569 - accuracy: 0.0027\n",
      "Epoch 177/200\n",
      "1459/1459 [==============================] - 0s 18us/sample - loss: 0.0569 - accuracy: 0.0027\n",
      "Epoch 178/200\n",
      "1459/1459 [==============================] - 0s 14us/sample - loss: 0.0569 - accuracy: 0.0027\n",
      "Epoch 179/200\n",
      "1459/1459 [==============================] - 0s 11us/sample - loss: 0.0569 - accuracy: 0.0027\n",
      "Epoch 180/200\n",
      "1459/1459 [==============================] - 0s 9us/sample - loss: 0.0568 - accuracy: 0.0027\n",
      "Epoch 181/200\n",
      "1459/1459 [==============================] - 0s 12us/sample - loss: 0.0568 - accuracy: 0.0027\n",
      "Epoch 182/200\n",
      "1459/1459 [==============================] - 0s 14us/sample - loss: 0.0568 - accuracy: 0.0027\n",
      "Epoch 183/200\n",
      "1459/1459 [==============================] - 0s 14us/sample - loss: 0.0567 - accuracy: 0.0027\n",
      "Epoch 184/200\n",
      "1459/1459 [==============================] - 0s 12us/sample - loss: 0.0567 - accuracy: 0.0027\n",
      "Epoch 185/200\n",
      "1459/1459 [==============================] - 0s 11us/sample - loss: 0.0567 - accuracy: 0.0027\n",
      "Epoch 186/200\n",
      "1459/1459 [==============================] - 0s 13us/sample - loss: 0.0567 - accuracy: 0.0027\n",
      "Epoch 187/200\n",
      "1459/1459 [==============================] - 0s 13us/sample - loss: 0.0567 - accuracy: 0.0027\n",
      "Epoch 188/200\n",
      "1459/1459 [==============================] - 0s 9us/sample - loss: 0.0566 - accuracy: 0.0027\n",
      "Epoch 189/200\n",
      "1459/1459 [==============================] - 0s 11us/sample - loss: 0.0566 - accuracy: 0.0027\n",
      "Epoch 190/200\n",
      "1459/1459 [==============================] - 0s 9us/sample - loss: 0.0566 - accuracy: 0.0027\n",
      "Epoch 191/200\n",
      "1459/1459 [==============================] - 0s 9us/sample - loss: 0.0565 - accuracy: 0.0027\n",
      "Epoch 192/200\n",
      "1459/1459 [==============================] - 0s 10us/sample - loss: 0.0565 - accuracy: 0.0027\n",
      "Epoch 193/200\n",
      "1459/1459 [==============================] - 0s 15us/sample - loss: 0.0565 - accuracy: 0.0027\n",
      "Epoch 194/200\n",
      "1459/1459 [==============================] - 0s 11us/sample - loss: 0.0565 - accuracy: 0.0027\n",
      "Epoch 195/200\n",
      "1459/1459 [==============================] - 0s 10us/sample - loss: 0.0565 - accuracy: 0.0027\n",
      "Epoch 196/200\n",
      "1459/1459 [==============================] - 0s 10us/sample - loss: 0.0564 - accuracy: 0.0027\n",
      "Epoch 197/200\n",
      "1459/1459 [==============================] - 0s 11us/sample - loss: 0.0564 - accuracy: 0.0027\n",
      "Epoch 198/200\n",
      "1459/1459 [==============================] - 0s 10us/sample - loss: 0.0565 - accuracy: 0.0027\n",
      "Epoch 199/200\n",
      "1459/1459 [==============================] - 0s 14us/sample - loss: 0.0564 - accuracy: 0.0027\n",
      "Epoch 200/200\n",
      "1459/1459 [==============================] - 0s 10us/sample - loss: 0.0563 - accuracy: 0.0027\n"
     ]
    }
   ],
   "source": [
    "history = model.fit(X_train, y_train, batch_size=256, epochs=200)"
   ]
  },
  {
   "cell_type": "code",
   "execution_count": 15,
   "metadata": {
    "scrolled": false
   },
   "outputs": [
    {
     "data": {
      "image/png": "[encoded data removed]",
      "text/plain": [
       "<Figure size 432x288 with 1 Axes>"
      ]
     },
     "metadata": {
      "needs_background": "light"
     },
     "output_type": "display_data"
    },
    {
     "data": {
      "image/png": "[encoded data removed]",
      "text/plain": [
       "<Figure size 432x288 with 1 Axes>"
      ]
     },
     "metadata": {
      "needs_background": "light"
     },
     "output_type": "display_data"
    }
   ],
   "source": [
    "plt.plot(history.history['accuracy'])\n",
    "plt.title('model accuracy')\n",
    "plt.ylabel('accuracy')\n",
    "plt.xlabel('epoch')\n",
    "plt.legend(['train', 'test'], loc='upper left')\n",
    "plt.show()\n",
    "# summarize history for loss\n",
    "plt.plot(history.history['loss'])\n",
    "plt.title('model loss')\n",
    "plt.ylabel('loss')\n",
    "plt.xlabel('epoch')\n",
    "plt.legend(['train', 'test'], loc='upper left')\n",
    "plt.show()"
   ]
  },
  {
   "cell_type": "markdown",
   "metadata": {},
   "source": [
    "Evaluación"
   ]
  },
  {
   "cell_type": "code",
   "execution_count": 16,
   "metadata": {},
   "outputs": [
    {
     "name": "stdout",
     "output_type": "stream",
     "text": [
      "WARNING:tensorflow:Falling back from v2 loop because of error: Failed to find data adapter that can handle input: <class 'pandas.core.frame.DataFrame'>, <class 'NoneType'>\n",
      "487/487 [==============================] - 0s 78us/sample - loss: 0.0575 - accuracy: 0.0021\n",
      "Test Accuracy: 0.0020533882\n",
      "Test Loss: 0.057511029302217145\n"
     ]
    }
   ],
   "source": [
    "results = model.evaluate(X_test, y_test, batch_size=256)\n",
    "print('Test Accuracy:', results[1])\n",
    "print('Test Loss:', results[0])"
   ]
  },
  {
   "cell_type": "markdown",
   "metadata": {},
   "source": [
    "---"
   ]
  },
  {
   "cell_type": "markdown",
   "metadata": {},
   "source": [
    "#### Arquitectura "
   ]
  },
  {
   "cell_type": "code",
   "execution_count": 17,
   "metadata": {},
   "outputs": [
    {
     "data": {
      "image/png": "[encoded data removed]",
      "text/plain": [
       "<IPython.core.display.Image object>"
      ]
     },
     "execution_count": 17,
     "metadata": {},
     "output_type": "execute_result"
    }
   ],
   "source": [
    "plot_model(model, to_file='model.png', show_shapes=True, show_layer_names=True,\n",
    "                          rankdir='LR', expand_nested=False, dpi=100)"
   ]
  },
  {
   "cell_type": "markdown",
   "metadata": {},
   "source": [
    "Calcular probabilidad de muerte de:"
   ]
  },
  {
   "cell_type": "code",
   "execution_count": 18,
   "metadata": {},
   "outputs": [
    {
     "name": "stdout",
     "output_type": "stream",
     "text": [
      "WARNING:tensorflow:Falling back from v2 loop because of error: Failed to find data adapter that can handle input: <class 'pandas.core.frame.DataFrame'>, <class 'NoneType'>\n",
      "Tommen Baratheon prob: 0.10989689\n",
      "WARNING:tensorflow:Falling back from v2 loop because of error: Failed to find data adapter that can handle input: <class 'pandas.core.frame.DataFrame'>, <class 'NoneType'>\n",
      "Daenerys Targaryen prob: 0.18307917\n",
      "WARNING:tensorflow:Falling back from v2 loop because of error: Failed to find data adapter that can handle input: <class 'pandas.core.frame.DataFrame'>, <class 'NoneType'>\n",
      "Coldhands prob: 0.7639336\n",
      "WARNING:tensorflow:Falling back from v2 loop because of error: Failed to find data adapter that can handle input: <class 'pandas.core.frame.DataFrame'>, <class 'NoneType'>\n",
      "Othell Yarwyck prob: 0.5861511\n",
      "WARNING:tensorflow:Falling back from v2 loop because of error: Failed to find data adapter that can handle input: <class 'pandas.core.frame.DataFrame'>, <class 'NoneType'>\n",
      "Roland Crakehall (Kingsguard) prob: 0.435504\n"
     ]
    }
   ],
   "source": [
    "probs = []\n",
    "for r in range (df_pred.shape[0]):\n",
    "    prob = model.predict(df_pred[r:r+1])[0][0]\n",
    "    name = df_pred_orig['name'][r]\n",
    "    print(name, 'prob:', prob)\n",
    "    probs.append(prob)"
   ]
  },
  {
   "cell_type": "markdown",
   "metadata": {},
   "source": [
    "El personaje con mayor probabilidad de morir es:"
   ]
  },
  {
   "cell_type": "code",
   "execution_count": 19,
   "metadata": {},
   "outputs": [
    {
     "data": {
      "text/plain": [
       "'Coldhands'"
      ]
     },
     "execution_count": 19,
     "metadata": {},
     "output_type": "execute_result"
    }
   ],
   "source": [
    "df_pred_orig['name'][np.argmax(probs)]"
   ]
  },
  {
   "cell_type": "markdown",
   "metadata": {},
   "source": [
    "Error predicción con estos datos"
   ]
  },
  {
   "cell_type": "code",
   "execution_count": 31,
   "metadata": {},
   "outputs": [
    {
     "name": "stdout",
     "output_type": "stream",
     "text": [
      "WARNING:tensorflow:Falling back from v2 loop because of error: Failed to find data adapter that can handle input: <class 'pandas.core.frame.DataFrame'>, <class 'NoneType'>\n",
      "5/5 [==============================] - 0s 218us/sample - loss: 0.0299 - accuracy: 0.0000e+00\n",
      "Prediction Accuracy: 0.0\n",
      "Prediction Loss: 0.029894303530454636\n"
     ]
    }
   ],
   "source": [
    "#Evaluamos con los datos de prediction y su valor de alive\n",
    "pred_eval=model.evaluate(df_pred,df_pred_orig['alive'])\n",
    "print('Prediction Accuracy:', pred_eval[1])\n",
    "print('Prediction Loss:', pred_eval[0])"
   ]
  },
  {
   "cell_type": "markdown",
   "metadata": {},
   "source": [
    "---"
   ]
  },
  {
   "cell_type": "markdown",
   "metadata": {},
   "source": [
    "##### Cambiando valores del dataset"
   ]
  },
  {
   "cell_type": "code",
   "execution_count": 48,
   "metadata": {},
   "outputs": [
    {
     "data": {
      "text/html": [
       "<div>\n",
       "<style scoped>\n",
       "    .dataframe tbody tr th:only-of-type {\n",
       "        vertical-align: middle;\n",
       "    }\n",
       "\n",
       "    .dataframe tbody tr th {\n",
       "        vertical-align: top;\n",
       "    }\n",
       "\n",
       "    .dataframe thead th {\n",
       "        text-align: right;\n",
       "    }\n",
       "</style>\n",
       "<table border=\"1\" class=\"dataframe\">\n",
       "  <thead>\n",
       "    <tr style=\"text-align: right;\">\n",
       "      <th></th>\n",
       "      <th>male</th>\n",
       "      <th>book1</th>\n",
       "      <th>book2</th>\n",
       "      <th>book3</th>\n",
       "      <th>book4</th>\n",
       "      <th>book5</th>\n",
       "      <th>isMarried</th>\n",
       "      <th>isNoble</th>\n",
       "      <th>numDeadRelations</th>\n",
       "      <th>isPopular</th>\n",
       "    </tr>\n",
       "  </thead>\n",
       "  <tbody>\n",
       "    <tr>\n",
       "      <th>0</th>\n",
       "      <td>1</td>\n",
       "      <td>0</td>\n",
       "      <td>0</td>\n",
       "      <td>1</td>\n",
       "      <td>1</td>\n",
       "      <td>0</td>\n",
       "      <td>0</td>\n",
       "      <td>0</td>\n",
       "      <td>5</td>\n",
       "      <td>1</td>\n",
       "    </tr>\n",
       "    <tr>\n",
       "      <th>1</th>\n",
       "      <td>0</td>\n",
       "      <td>1</td>\n",
       "      <td>1</td>\n",
       "      <td>1</td>\n",
       "      <td>1</td>\n",
       "      <td>1</td>\n",
       "      <td>1</td>\n",
       "      <td>1</td>\n",
       "      <td>15</td>\n",
       "      <td>1</td>\n",
       "    </tr>\n",
       "    <tr>\n",
       "      <th>2</th>\n",
       "      <td>1</td>\n",
       "      <td>0</td>\n",
       "      <td>0</td>\n",
       "      <td>1</td>\n",
       "      <td>1</td>\n",
       "      <td>1</td>\n",
       "      <td>0</td>\n",
       "      <td>1</td>\n",
       "      <td>0</td>\n",
       "      <td>1</td>\n",
       "    </tr>\n",
       "    <tr>\n",
       "      <th>3</th>\n",
       "      <td>1</td>\n",
       "      <td>1</td>\n",
       "      <td>1</td>\n",
       "      <td>1</td>\n",
       "      <td>1</td>\n",
       "      <td>1</td>\n",
       "      <td>0</td>\n",
       "      <td>1</td>\n",
       "      <td>0</td>\n",
       "      <td>0</td>\n",
       "    </tr>\n",
       "    <tr>\n",
       "      <th>4</th>\n",
       "      <td>1</td>\n",
       "      <td>0</td>\n",
       "      <td>0</td>\n",
       "      <td>0</td>\n",
       "      <td>0</td>\n",
       "      <td>0</td>\n",
       "      <td>0</td>\n",
       "      <td>0</td>\n",
       "      <td>5</td>\n",
       "      <td>0</td>\n",
       "    </tr>\n",
       "  </tbody>\n",
       "</table>\n",
       "</div>"
      ],
      "text/plain": [
       "   male  book1  book2  book3  book4  book5  isMarried  isNoble  \\\n",
       "0     1      0      0      1      1      0          0        0   \n",
       "1     0      1      1      1      1      1          1        1   \n",
       "2     1      0      0      1      1      1          0        1   \n",
       "3     1      1      1      1      1      1          0        1   \n",
       "4     1      0      0      0      0      0          0        0   \n",
       "\n",
       "   numDeadRelations  isPopular  \n",
       "0                 5          1  \n",
       "1                15          1  \n",
       "2                 0          1  \n",
       "3                 0          0  \n",
       "4                 5          0  "
      ]
     },
     "execution_count": 48,
     "metadata": {},
     "output_type": "execute_result"
    }
   ],
   "source": [
    "#Para hacer un csv nuevo y así modificar más raìdo\n",
    "#df_pred.to_csv(r'C:\\Users\\Siro Márquez\\Desktop\\MIGUEL\\IA2-Extraordinaria\\predict_new.csv', index = False)\n",
    "df_pred_new = pd.read_csv('predict_new.csv')\n",
    "df_pred_new"
   ]
  },
  {
   "cell_type": "code",
   "execution_count": 49,
   "metadata": {},
   "outputs": [
    {
     "name": "stdout",
     "output_type": "stream",
     "text": [
      "WARNING:tensorflow:Falling back from v2 loop because of error: Failed to find data adapter that can handle input: <class 'pandas.core.frame.DataFrame'>, <class 'NoneType'>\n",
      "Tommen Baratheon prob: 0.120292805\n",
      "WARNING:tensorflow:Falling back from v2 loop because of error: Failed to find data adapter that can handle input: <class 'pandas.core.frame.DataFrame'>, <class 'NoneType'>\n",
      "Daenerys Targaryen prob: 0.18307917\n",
      "WARNING:tensorflow:Falling back from v2 loop because of error: Failed to find data adapter that can handle input: <class 'pandas.core.frame.DataFrame'>, <class 'NoneType'>\n",
      "Coldhands prob: 0.5441517\n",
      "WARNING:tensorflow:Falling back from v2 loop because of error: Failed to find data adapter that can handle input: <class 'pandas.core.frame.DataFrame'>, <class 'NoneType'>\n",
      "Othell Yarwyck prob: 0.5861511\n",
      "WARNING:tensorflow:Falling back from v2 loop because of error: Failed to find data adapter that can handle input: <class 'pandas.core.frame.DataFrame'>, <class 'NoneType'>\n",
      "Roland Crakehall (Kingsguard) prob: 0.21331893\n"
     ]
    }
   ],
   "source": [
    "probs = []\n",
    "for r in range (df_pred_new.shape[0]):\n",
    "    prob = model.predict(df_pred_new[r:r+1])[0][0]\n",
    "    name = df_pred_orig['name'][r]\n",
    "    print(name, 'prob:', prob)\n",
    "    probs.append(prob)"
   ]
  },
  {
   "cell_type": "code",
   "execution_count": 47,
   "metadata": {},
   "outputs": [
    {
     "name": "stdout",
     "output_type": "stream",
     "text": [
      "Personaje muerte más probable\n"
     ]
    },
    {
     "data": {
      "text/plain": [
       "'Othell Yarwyck'"
      ]
     },
     "execution_count": 47,
     "metadata": {},
     "output_type": "execute_result"
    }
   ],
   "source": [
    "print('Personaje muerte más probable')\n",
    "df_pred_orig['name'][np.argmax(probs)]"
   ]
  },
  {
   "cell_type": "code",
   "execution_count": null,
   "metadata": {},
   "outputs": [],
   "source": []
  }
 ],
 "metadata": {
  "kernelspec": {
   "display_name": "Python 3",
   "language": "python",
   "name": "python3"
  },
  "language_info": {
   "codemirror_mode": {
    "name": "ipython",
    "version": 3
   },
   "file_extension": ".py",
   "mimetype": "text/x-python",
   "name": "python",
   "nbconvert_exporter": "python",
   "pygments_lexer": "ipython3",
   "version": "3.7.6"
  }
 },
 "nbformat": 4,
 "nbformat_minor": 2
}
