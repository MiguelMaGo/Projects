{
 "cells": [
  {
   "cell_type": "code",
   "execution_count": 14,
   "id": "bfc752ba",
   "metadata": {},
   "outputs": [],
   "source": [
    "import numpy as np\n",
    "#import tensorflow as  tf\n",
    "from tensorflow import keras\n",
    "from tensorflow.keras.datasets import cifar10 as cifar10\n",
    "from tensorflow.keras.models import Sequential, load_model\n",
    "from tensorflow.keras.layers import Dense, Dropout, Flatten, Conv2D, MaxPooling2D\n",
    "from tensorflow.keras.preprocessing.image import ImageDataGenerator\n",
    "from keras.utils import np_utils\n",
    "from tensorflow.keras.optimizers import Adam\n",
    "from matplotlib import pyplot as plt\n",
    "import random as rd\n",
    "from tensorflow.keras.callbacks import Callback"
   ]
  },
  {
   "cell_type": "markdown",
   "id": "af13b598",
   "metadata": {},
   "source": [
    "#### Carga de los datos"
   ]
  },
  {
   "cell_type": "code",
   "execution_count": 79,
   "id": "d6a211fc",
   "metadata": {},
   "outputs": [],
   "source": [
    "(x_train, y_train), (x_test, y_test) = cifar10.load_data()"
   ]
  },
  {
   "cell_type": "code",
   "execution_count": 80,
   "id": "f0dd8a52",
   "metadata": {},
   "outputs": [
    {
     "name": "stdout",
     "output_type": "stream",
     "text": [
      "(50000, 32, 32, 3)\n",
      "(50000, 1)\n"
     ]
    }
   ],
   "source": [
    "print(x_train.shape[0:])\n",
    "print(y_train.shape[0:])"
   ]
  },
  {
   "cell_type": "code",
   "execution_count": 81,
   "id": "a2228047",
   "metadata": {},
   "outputs": [],
   "source": [
    "# Se covierten las salidas de una forma codificada para que lo entienda mejopr el modelo\n",
    "# La forma es one hot encoding\n",
    "Y_train = np_utils.to_categorical(y_train, 10) #10 -> número de etiquetas de los target\n",
    "Y_test = np_utils.to_categorical(y_test, 10)"
   ]
  },
  {
   "cell_type": "code",
   "execution_count": 82,
   "id": "3a0ddc44",
   "metadata": {},
   "outputs": [],
   "source": [
    "class criterio_de_parada(keras.callbacks.Callback):\n",
    "    def on_epoch_end(self, epoch, logs={}):\n",
    "        if (logs.get('loss') <= 0.2):\n",
    "            self.model.stop_trainig = True"
   ]
  },
  {
   "cell_type": "code",
   "execution_count": 83,
   "id": "3a0f500e",
   "metadata": {},
   "outputs": [],
   "source": [
    "criterio_parada = criterio_de_parada()"
   ]
  },
  {
   "cell_type": "code",
   "execution_count": 84,
   "id": "4ee82e09",
   "metadata": {},
   "outputs": [],
   "source": [
    "model = Sequential()\n",
    "\n",
    "#Creación de capas de convolución con dropout = 0.25\n",
    "model.add(Conv2D(256, (3, 3), activation='relu', padding='same',input_shape=x_train.shape[1:]))\n",
    "model.add(MaxPooling2D((2, 2)))\n",
    "\n",
    "\n",
    "model.add(Conv2D(128, (3, 3), activation='relu', padding='same'))\n",
    "model.add(MaxPooling2D((2, 2)))\n",
    "model.add(Dropout(0.25))\n",
    "model.add(Conv2D(64, (3, 3), activation='relu', padding='same'))\n",
    "model.add(MaxPooling2D((2, 2)))\n",
    "model.add(Dropout(0.25))\n",
    "model.add(Conv2D(32, (3, 3), activation='relu', padding='same'))\n",
    "model.add(MaxPooling2D((2, 2)))\n",
    "model.add(Dropout(0.25))\n",
    "model.add(Conv2D(16, (3, 3), activation='relu', padding='same'))\n",
    "model.add(MaxPooling2D((2, 2)))\n",
    "#model.add(Dropout(0.25))\n",
    "\n",
    "#Capa de salida.\n",
    "model.add(Flatten())\n",
    "model.add(Dense(10, activation = 'softmax'))\n",
    "\n",
    "#Declaramos para el optimizador adam un learning rate espefífico\n",
    "adam= Adam(learning_rate=0.001)\n",
    "model.compile(loss='categorical_crossentropy', optimizer=adam, metrics=['accuracy'])\n"
   ]
  },
  {
   "cell_type": "code",
   "execution_count": 98,
   "id": "3f0fde6f",
   "metadata": {},
   "outputs": [
    {
     "name": "stdout",
     "output_type": "stream",
     "text": [
      "Model: \"sequential_15\"\n",
      "_________________________________________________________________\n",
      " Layer (type)                Output Shape              Param #   \n",
      "=================================================================\n",
      " conv2d_56 (Conv2D)          (None, 32, 32, 256)       7168      \n",
      "                                                                 \n",
      " max_pooling2d_56 (MaxPoolin  (None, 16, 16, 256)      0         \n",
      " g2D)                                                            \n",
      "                                                                 \n",
      " conv2d_57 (Conv2D)          (None, 16, 16, 128)       295040    \n",
      "                                                                 \n",
      " max_pooling2d_57 (MaxPoolin  (None, 8, 8, 128)        0         \n",
      " g2D)                                                            \n",
      "                                                                 \n",
      " dropout_27 (Dropout)        (None, 8, 8, 128)         0         \n",
      "                                                                 \n",
      " conv2d_58 (Conv2D)          (None, 8, 8, 64)          73792     \n",
      "                                                                 \n",
      " max_pooling2d_58 (MaxPoolin  (None, 4, 4, 64)         0         \n",
      " g2D)                                                            \n",
      "                                                                 \n",
      " dropout_28 (Dropout)        (None, 4, 4, 64)          0         \n",
      "                                                                 \n",
      " conv2d_59 (Conv2D)          (None, 4, 4, 32)          18464     \n",
      "                                                                 \n",
      " max_pooling2d_59 (MaxPoolin  (None, 2, 2, 32)         0         \n",
      " g2D)                                                            \n",
      "                                                                 \n",
      " dropout_29 (Dropout)        (None, 2, 2, 32)          0         \n",
      "                                                                 \n",
      " conv2d_60 (Conv2D)          (None, 2, 2, 16)          4624      \n",
      "                                                                 \n",
      " max_pooling2d_60 (MaxPoolin  (None, 1, 1, 16)         0         \n",
      " g2D)                                                            \n",
      "                                                                 \n",
      " flatten_15 (Flatten)        (None, 16)                0         \n",
      "                                                                 \n",
      " dense_15 (Dense)            (None, 10)                170       \n",
      "                                                                 \n",
      "=================================================================\n",
      "Total params: 399,258\n",
      "Trainable params: 399,258\n",
      "Non-trainable params: 0\n",
      "_________________________________________________________________\n",
      "None\n"
     ]
    }
   ],
   "source": [
    "model.summary()"
   ]
  },
  {
   "cell_type": "code",
   "execution_count": 85,
   "id": "1670ff66",
   "metadata": {
    "scrolled": true
   },
   "outputs": [
    {
     "name": "stdout",
     "output_type": "stream",
     "text": [
      "Epoch 1/200\n",
      "782/782 [==============================] - 10s 12ms/step - loss: 2.1805 - accuracy: 0.2199 - val_loss: 1.7807 - val_accuracy: 0.3457\n",
      "Epoch 2/200\n",
      "782/782 [==============================] - 9s 12ms/step - loss: 1.7018 - accuracy: 0.3645 - val_loss: 1.5664 - val_accuracy: 0.4065\n",
      "Epoch 3/200\n",
      "782/782 [==============================] - 9s 12ms/step - loss: 1.5318 - accuracy: 0.4377 - val_loss: 1.4189 - val_accuracy: 0.4834\n",
      "Epoch 4/200\n",
      "782/782 [==============================] - 9s 12ms/step - loss: 1.4205 - accuracy: 0.4827 - val_loss: 1.2827 - val_accuracy: 0.5455\n",
      "Epoch 5/200\n",
      "782/782 [==============================] - 9s 12ms/step - loss: 1.3340 - accuracy: 0.5179 - val_loss: 1.1849 - val_accuracy: 0.5849\n",
      "Epoch 6/200\n",
      "782/782 [==============================] - 9s 12ms/step - loss: 1.2661 - accuracy: 0.5444 - val_loss: 1.1468 - val_accuracy: 0.5983\n",
      "Epoch 7/200\n",
      "782/782 [==============================] - 9s 12ms/step - loss: 1.2088 - accuracy: 0.5653 - val_loss: 1.0937 - val_accuracy: 0.6185\n",
      "Epoch 8/200\n",
      "782/782 [==============================] - 9s 12ms/step - loss: 1.1605 - accuracy: 0.5859 - val_loss: 1.0467 - val_accuracy: 0.6347\n",
      "Epoch 9/200\n",
      "782/782 [==============================] - 9s 12ms/step - loss: 1.1283 - accuracy: 0.5985 - val_loss: 1.0221 - val_accuracy: 0.6426\n",
      "Epoch 10/200\n",
      "782/782 [==============================] - 9s 12ms/step - loss: 1.0918 - accuracy: 0.6145 - val_loss: 0.9851 - val_accuracy: 0.6637\n",
      "Epoch 11/200\n",
      "782/782 [==============================] - 9s 12ms/step - loss: 1.0639 - accuracy: 0.6266 - val_loss: 0.9399 - val_accuracy: 0.6779\n",
      "Epoch 12/200\n",
      "782/782 [==============================] - 9s 12ms/step - loss: 1.0423 - accuracy: 0.6369 - val_loss: 0.9166 - val_accuracy: 0.6875\n",
      "Epoch 13/200\n",
      "782/782 [==============================] - 9s 12ms/step - loss: 1.0174 - accuracy: 0.6427 - val_loss: 0.9122 - val_accuracy: 0.6874\n",
      "Epoch 14/200\n",
      "782/782 [==============================] - 9s 12ms/step - loss: 0.9947 - accuracy: 0.6503 - val_loss: 0.9014 - val_accuracy: 0.6913\n",
      "Epoch 15/200\n",
      "782/782 [==============================] - 9s 12ms/step - loss: 0.9728 - accuracy: 0.6611 - val_loss: 0.8563 - val_accuracy: 0.7079\n",
      "Epoch 16/200\n",
      "782/782 [==============================] - 9s 12ms/step - loss: 0.9665 - accuracy: 0.6635 - val_loss: 0.9226 - val_accuracy: 0.6844\n",
      "Epoch 17/200\n",
      "782/782 [==============================] - 9s 12ms/step - loss: 0.9445 - accuracy: 0.6702 - val_loss: 0.8971 - val_accuracy: 0.6889\n",
      "Epoch 18/200\n",
      "782/782 [==============================] - 9s 12ms/step - loss: 0.9202 - accuracy: 0.6781 - val_loss: 0.8723 - val_accuracy: 0.6993\n",
      "Epoch 19/200\n",
      "782/782 [==============================] - 9s 12ms/step - loss: 0.9176 - accuracy: 0.6816 - val_loss: 0.8527 - val_accuracy: 0.7094\n",
      "Epoch 20/200\n",
      "782/782 [==============================] - 9s 12ms/step - loss: 0.9038 - accuracy: 0.6864 - val_loss: 0.8238 - val_accuracy: 0.7171\n",
      "Epoch 21/200\n",
      "782/782 [==============================] - 9s 12ms/step - loss: 0.8755 - accuracy: 0.6948 - val_loss: 0.9362 - val_accuracy: 0.6870\n",
      "Epoch 22/200\n",
      "782/782 [==============================] - 9s 12ms/step - loss: 0.8713 - accuracy: 0.6968 - val_loss: 0.8546 - val_accuracy: 0.7107\n",
      "Epoch 23/200\n",
      "782/782 [==============================] - 9s 12ms/step - loss: 0.8645 - accuracy: 0.6978 - val_loss: 0.8090 - val_accuracy: 0.7248\n",
      "Epoch 24/200\n",
      "782/782 [==============================] - 9s 12ms/step - loss: 0.8546 - accuracy: 0.7048 - val_loss: 0.7809 - val_accuracy: 0.7399\n",
      "Epoch 25/200\n",
      "782/782 [==============================] - 9s 12ms/step - loss: 0.8427 - accuracy: 0.7080 - val_loss: 0.7652 - val_accuracy: 0.7364\n",
      "Epoch 26/200\n",
      "782/782 [==============================] - 9s 12ms/step - loss: 0.8298 - accuracy: 0.7118 - val_loss: 0.7771 - val_accuracy: 0.7352\n",
      "Epoch 27/200\n",
      "782/782 [==============================] - 9s 12ms/step - loss: 0.8259 - accuracy: 0.7149 - val_loss: 0.7765 - val_accuracy: 0.7437\n",
      "Epoch 28/200\n",
      "782/782 [==============================] - 9s 12ms/step - loss: 0.8118 - accuracy: 0.7178 - val_loss: 0.7679 - val_accuracy: 0.7357\n",
      "Epoch 29/200\n",
      "782/782 [==============================] - 9s 12ms/step - loss: 0.8079 - accuracy: 0.7235 - val_loss: 0.7596 - val_accuracy: 0.7445\n",
      "Epoch 30/200\n",
      "782/782 [==============================] - 9s 12ms/step - loss: 0.7939 - accuracy: 0.7261 - val_loss: 0.7643 - val_accuracy: 0.7386\n",
      "Epoch 31/200\n",
      "782/782 [==============================] - 9s 12ms/step - loss: 0.7812 - accuracy: 0.7295 - val_loss: 0.7661 - val_accuracy: 0.7442\n",
      "Epoch 32/200\n",
      "782/782 [==============================] - 9s 12ms/step - loss: 0.7770 - accuracy: 0.7301 - val_loss: 0.7385 - val_accuracy: 0.7487\n",
      "Epoch 33/200\n",
      "782/782 [==============================] - 9s 12ms/step - loss: 0.7790 - accuracy: 0.7327 - val_loss: 0.7543 - val_accuracy: 0.7489\n",
      "Epoch 34/200\n",
      "782/782 [==============================] - 9s 12ms/step - loss: 0.7647 - accuracy: 0.7378 - val_loss: 0.7378 - val_accuracy: 0.7445\n",
      "Epoch 35/200\n",
      "782/782 [==============================] - 9s 12ms/step - loss: 0.7606 - accuracy: 0.7395 - val_loss: 0.7311 - val_accuracy: 0.7599\n",
      "Epoch 36/200\n",
      "782/782 [==============================] - 9s 12ms/step - loss: 0.7566 - accuracy: 0.7399 - val_loss: 0.7750 - val_accuracy: 0.7350\n",
      "Epoch 37/200\n",
      "782/782 [==============================] - 9s 12ms/step - loss: 0.7408 - accuracy: 0.7440 - val_loss: 0.7127 - val_accuracy: 0.7601\n",
      "Epoch 38/200\n",
      "782/782 [==============================] - 9s 12ms/step - loss: 0.7371 - accuracy: 0.7457 - val_loss: 0.7088 - val_accuracy: 0.7652\n",
      "Epoch 39/200\n",
      "782/782 [==============================] - 9s 12ms/step - loss: 0.7319 - accuracy: 0.7468 - val_loss: 0.7210 - val_accuracy: 0.7556\n",
      "Epoch 40/200\n",
      "782/782 [==============================] - 9s 12ms/step - loss: 0.7193 - accuracy: 0.7510 - val_loss: 0.7477 - val_accuracy: 0.7474\n",
      "Epoch 41/200\n",
      "782/782 [==============================] - 9s 12ms/step - loss: 0.7207 - accuracy: 0.7528 - val_loss: 0.7521 - val_accuracy: 0.7460\n",
      "Epoch 42/200\n",
      "782/782 [==============================] - 9s 12ms/step - loss: 0.7189 - accuracy: 0.7526 - val_loss: 0.7262 - val_accuracy: 0.7563\n",
      "Epoch 43/200\n",
      "782/782 [==============================] - 9s 12ms/step - loss: 0.7082 - accuracy: 0.7560 - val_loss: 0.7480 - val_accuracy: 0.7465\n",
      "Epoch 44/200\n",
      "782/782 [==============================] - 9s 12ms/step - loss: 0.7033 - accuracy: 0.7587 - val_loss: 0.7169 - val_accuracy: 0.7607\n",
      "Epoch 45/200\n",
      "782/782 [==============================] - 9s 12ms/step - loss: 0.6940 - accuracy: 0.7635 - val_loss: 0.7183 - val_accuracy: 0.7551\n",
      "Epoch 46/200\n",
      "782/782 [==============================] - 9s 12ms/step - loss: 0.6974 - accuracy: 0.7613 - val_loss: 0.7195 - val_accuracy: 0.7606\n",
      "Epoch 47/200\n",
      "782/782 [==============================] - 9s 12ms/step - loss: 0.6921 - accuracy: 0.7619 - val_loss: 0.7003 - val_accuracy: 0.7624\n",
      "Epoch 48/200\n",
      "782/782 [==============================] - 9s 12ms/step - loss: 0.6836 - accuracy: 0.7638 - val_loss: 0.7037 - val_accuracy: 0.7637\n",
      "Epoch 49/200\n",
      "782/782 [==============================] - 9s 12ms/step - loss: 0.6871 - accuracy: 0.7640 - val_loss: 0.7027 - val_accuracy: 0.7674\n",
      "Epoch 50/200\n",
      "782/782 [==============================] - 9s 12ms/step - loss: 0.6774 - accuracy: 0.7676 - val_loss: 0.7139 - val_accuracy: 0.7582\n",
      "Epoch 51/200\n",
      "782/782 [==============================] - 9s 12ms/step - loss: 0.6705 - accuracy: 0.7718 - val_loss: 0.7015 - val_accuracy: 0.7618\n",
      "Epoch 52/200\n",
      "782/782 [==============================] - 9s 12ms/step - loss: 0.6769 - accuracy: 0.7684 - val_loss: 0.7321 - val_accuracy: 0.7500\n",
      "Epoch 53/200\n",
      "782/782 [==============================] - 9s 12ms/step - loss: 0.6679 - accuracy: 0.7721 - val_loss: 0.7092 - val_accuracy: 0.7600\n",
      "Epoch 54/200\n",
      "782/782 [==============================] - 9s 12ms/step - loss: 0.6607 - accuracy: 0.7748 - val_loss: 0.7153 - val_accuracy: 0.7611\n",
      "Epoch 55/200\n",
      "782/782 [==============================] - 9s 12ms/step - loss: 0.6598 - accuracy: 0.7743 - val_loss: 0.7361 - val_accuracy: 0.7549\n",
      "Epoch 56/200\n",
      "782/782 [==============================] - 9s 12ms/step - loss: 0.6563 - accuracy: 0.7781 - val_loss: 0.6832 - val_accuracy: 0.7721\n",
      "Epoch 57/200\n"
     ]
    },
    {
     "name": "stdout",
     "output_type": "stream",
     "text": [
      "782/782 [==============================] - 9s 12ms/step - loss: 0.6558 - accuracy: 0.7758 - val_loss: 0.7002 - val_accuracy: 0.7615\n",
      "Epoch 58/200\n",
      "782/782 [==============================] - 9s 12ms/step - loss: 0.6428 - accuracy: 0.7802 - val_loss: 0.6913 - val_accuracy: 0.7677\n",
      "Epoch 59/200\n",
      "782/782 [==============================] - 9s 12ms/step - loss: 0.6388 - accuracy: 0.7829 - val_loss: 0.7127 - val_accuracy: 0.7613\n",
      "Epoch 60/200\n",
      "782/782 [==============================] - 9s 12ms/step - loss: 0.6412 - accuracy: 0.7827 - val_loss: 0.6753 - val_accuracy: 0.7731\n",
      "Epoch 61/200\n",
      "782/782 [==============================] - 9s 12ms/step - loss: 0.6393 - accuracy: 0.7837 - val_loss: 0.6887 - val_accuracy: 0.7744\n",
      "Epoch 62/200\n",
      "782/782 [==============================] - 9s 12ms/step - loss: 0.6334 - accuracy: 0.7839 - val_loss: 0.7221 - val_accuracy: 0.7617\n",
      "Epoch 63/200\n",
      "782/782 [==============================] - 9s 12ms/step - loss: 0.6282 - accuracy: 0.7874 - val_loss: 0.7253 - val_accuracy: 0.7563\n",
      "Epoch 64/200\n",
      "782/782 [==============================] - 9s 12ms/step - loss: 0.6266 - accuracy: 0.7877 - val_loss: 0.7087 - val_accuracy: 0.7662\n",
      "Epoch 65/200\n",
      "782/782 [==============================] - 9s 12ms/step - loss: 0.6342 - accuracy: 0.7851 - val_loss: 0.6781 - val_accuracy: 0.7781\n",
      "Epoch 66/200\n",
      "782/782 [==============================] - 9s 12ms/step - loss: 0.6290 - accuracy: 0.7874 - val_loss: 0.6972 - val_accuracy: 0.7688\n",
      "Epoch 67/200\n",
      "782/782 [==============================] - 9s 12ms/step - loss: 0.6214 - accuracy: 0.7887 - val_loss: 0.6879 - val_accuracy: 0.7713\n",
      "Epoch 68/200\n",
      "782/782 [==============================] - 9s 12ms/step - loss: 0.6194 - accuracy: 0.7900 - val_loss: 0.6801 - val_accuracy: 0.7767\n",
      "Epoch 69/200\n",
      "782/782 [==============================] - 9s 12ms/step - loss: 0.6186 - accuracy: 0.7897 - val_loss: 0.7001 - val_accuracy: 0.7680\n",
      "Epoch 70/200\n",
      "782/782 [==============================] - 9s 12ms/step - loss: 0.6319 - accuracy: 0.7865 - val_loss: 0.6731 - val_accuracy: 0.7739\n",
      "Epoch 71/200\n",
      "782/782 [==============================] - 9s 12ms/step - loss: 0.6065 - accuracy: 0.7936 - val_loss: 0.6795 - val_accuracy: 0.7760\n",
      "Epoch 72/200\n",
      "782/782 [==============================] - 9s 12ms/step - loss: 0.6084 - accuracy: 0.7936 - val_loss: 0.6992 - val_accuracy: 0.7709\n",
      "Epoch 73/200\n",
      "782/782 [==============================] - 9s 12ms/step - loss: 0.6044 - accuracy: 0.7971 - val_loss: 0.7054 - val_accuracy: 0.7651\n",
      "Epoch 74/200\n",
      "782/782 [==============================] - 9s 12ms/step - loss: 0.6049 - accuracy: 0.7940 - val_loss: 0.6746 - val_accuracy: 0.7773\n",
      "Epoch 75/200\n",
      "782/782 [==============================] - 9s 12ms/step - loss: 0.6041 - accuracy: 0.7945 - val_loss: 0.6888 - val_accuracy: 0.7704\n",
      "Epoch 76/200\n",
      "782/782 [==============================] - 9s 12ms/step - loss: 0.5914 - accuracy: 0.7999 - val_loss: 0.6752 - val_accuracy: 0.7798\n",
      "Epoch 77/200\n",
      "782/782 [==============================] - 9s 12ms/step - loss: 0.5874 - accuracy: 0.8013 - val_loss: 0.6865 - val_accuracy: 0.7749\n",
      "Epoch 78/200\n",
      "782/782 [==============================] - 9s 12ms/step - loss: 0.5900 - accuracy: 0.8019 - val_loss: 0.6818 - val_accuracy: 0.7764\n",
      "Epoch 79/200\n",
      "782/782 [==============================] - 9s 12ms/step - loss: 0.5928 - accuracy: 0.8018 - val_loss: 0.6814 - val_accuracy: 0.7712\n",
      "Epoch 80/200\n",
      "782/782 [==============================] - 9s 12ms/step - loss: 0.5883 - accuracy: 0.8022 - val_loss: 0.6638 - val_accuracy: 0.7822\n",
      "Epoch 81/200\n",
      "782/782 [==============================] - 9s 12ms/step - loss: 0.5874 - accuracy: 0.8013 - val_loss: 0.6772 - val_accuracy: 0.7785\n",
      "Epoch 82/200\n",
      "782/782 [==============================] - 9s 12ms/step - loss: 0.5934 - accuracy: 0.8012 - val_loss: 0.6735 - val_accuracy: 0.7811\n",
      "Epoch 83/200\n",
      "782/782 [==============================] - 9s 12ms/step - loss: 0.5853 - accuracy: 0.8004 - val_loss: 0.6803 - val_accuracy: 0.7798\n",
      "Epoch 84/200\n",
      "782/782 [==============================] - 9s 12ms/step - loss: 0.5775 - accuracy: 0.8057 - val_loss: 0.6928 - val_accuracy: 0.7717\n",
      "Epoch 85/200\n",
      "782/782 [==============================] - 9s 12ms/step - loss: 0.5832 - accuracy: 0.8035 - val_loss: 0.6780 - val_accuracy: 0.7769\n",
      "Epoch 86/200\n",
      "782/782 [==============================] - 9s 12ms/step - loss: 0.5716 - accuracy: 0.8057 - val_loss: 0.6778 - val_accuracy: 0.7780\n",
      "Epoch 87/200\n",
      "782/782 [==============================] - 9s 12ms/step - loss: 0.5708 - accuracy: 0.8055 - val_loss: 0.6736 - val_accuracy: 0.7783\n",
      "Epoch 88/200\n",
      "782/782 [==============================] - 9s 12ms/step - loss: 0.5719 - accuracy: 0.8071 - val_loss: 0.6647 - val_accuracy: 0.7794\n",
      "Epoch 89/200\n",
      "782/782 [==============================] - 9s 12ms/step - loss: 0.5739 - accuracy: 0.8067 - val_loss: 0.6871 - val_accuracy: 0.7771\n",
      "Epoch 90/200\n",
      "782/782 [==============================] - 9s 12ms/step - loss: 0.5737 - accuracy: 0.8071 - val_loss: 0.7188 - val_accuracy: 0.7611\n",
      "Epoch 91/200\n",
      "782/782 [==============================] - 9s 12ms/step - loss: 0.5659 - accuracy: 0.8105 - val_loss: 0.6661 - val_accuracy: 0.7811\n",
      "Epoch 92/200\n",
      "782/782 [==============================] - 9s 12ms/step - loss: 0.5648 - accuracy: 0.8103 - val_loss: 0.7208 - val_accuracy: 0.7630\n",
      "Epoch 93/200\n",
      "782/782 [==============================] - 9s 12ms/step - loss: 0.5888 - accuracy: 0.8032 - val_loss: 0.7101 - val_accuracy: 0.7704\n",
      "Epoch 94/200\n",
      "782/782 [==============================] - 9s 12ms/step - loss: 0.5614 - accuracy: 0.8113 - val_loss: 0.6853 - val_accuracy: 0.7770\n",
      "Epoch 95/200\n",
      "782/782 [==============================] - 9s 12ms/step - loss: 0.5578 - accuracy: 0.8113 - val_loss: 0.6984 - val_accuracy: 0.7718\n",
      "Epoch 96/200\n",
      "782/782 [==============================] - 9s 12ms/step - loss: 0.5588 - accuracy: 0.8108 - val_loss: 0.6797 - val_accuracy: 0.7824\n",
      "Epoch 97/200\n",
      "782/782 [==============================] - 9s 12ms/step - loss: 0.5645 - accuracy: 0.8101 - val_loss: 0.6635 - val_accuracy: 0.7852\n",
      "Epoch 98/200\n",
      "782/782 [==============================] - 9s 12ms/step - loss: 0.5568 - accuracy: 0.8139 - val_loss: 0.6744 - val_accuracy: 0.7834\n",
      "Epoch 99/200\n",
      "782/782 [==============================] - 9s 12ms/step - loss: 0.5563 - accuracy: 0.8145 - val_loss: 0.6928 - val_accuracy: 0.7743\n",
      "Epoch 100/200\n",
      "782/782 [==============================] - 9s 12ms/step - loss: 0.5531 - accuracy: 0.8143 - val_loss: 0.6959 - val_accuracy: 0.7752\n",
      "Epoch 101/200\n",
      "782/782 [==============================] - 9s 12ms/step - loss: 0.5471 - accuracy: 0.8165 - val_loss: 0.6672 - val_accuracy: 0.7862\n",
      "Epoch 102/200\n",
      "782/782 [==============================] - 9s 12ms/step - loss: 0.5498 - accuracy: 0.8152 - val_loss: 0.6702 - val_accuracy: 0.7822\n",
      "Epoch 103/200\n",
      "782/782 [==============================] - 9s 12ms/step - loss: 0.5590 - accuracy: 0.8126 - val_loss: 0.6753 - val_accuracy: 0.7829\n",
      "Epoch 104/200\n",
      "782/782 [==============================] - 9s 12ms/step - loss: 0.5557 - accuracy: 0.8143 - val_loss: 0.6666 - val_accuracy: 0.7804\n",
      "Epoch 105/200\n",
      "782/782 [==============================] - 9s 12ms/step - loss: 0.5434 - accuracy: 0.8197 - val_loss: 0.6729 - val_accuracy: 0.7875\n",
      "Epoch 106/200\n",
      "782/782 [==============================] - 9s 12ms/step - loss: 0.5527 - accuracy: 0.8159 - val_loss: 0.6707 - val_accuracy: 0.7860\n",
      "Epoch 107/200\n",
      "782/782 [==============================] - 9s 12ms/step - loss: 0.5418 - accuracy: 0.8186 - val_loss: 0.7098 - val_accuracy: 0.7689\n",
      "Epoch 108/200\n",
      "782/782 [==============================] - 9s 12ms/step - loss: 0.5431 - accuracy: 0.8196 - val_loss: 0.6736 - val_accuracy: 0.7849\n",
      "Epoch 109/200\n",
      "782/782 [==============================] - 9s 12ms/step - loss: 0.5400 - accuracy: 0.8195 - val_loss: 0.6997 - val_accuracy: 0.7723\n",
      "Epoch 110/200\n",
      "782/782 [==============================] - 9s 12ms/step - loss: 0.5374 - accuracy: 0.8199 - val_loss: 0.6869 - val_accuracy: 0.7814\n",
      "Epoch 111/200\n",
      "782/782 [==============================] - 9s 12ms/step - loss: 0.5311 - accuracy: 0.8236 - val_loss: 0.6744 - val_accuracy: 0.7840\n",
      "Epoch 112/200\n",
      "782/782 [==============================] - 9s 12ms/step - loss: 0.5381 - accuracy: 0.8212 - val_loss: 0.6905 - val_accuracy: 0.7795\n",
      "Epoch 113/200\n"
     ]
    },
    {
     "name": "stdout",
     "output_type": "stream",
     "text": [
      "782/782 [==============================] - 9s 12ms/step - loss: 0.5455 - accuracy: 0.8169 - val_loss: 0.7027 - val_accuracy: 0.7777\n",
      "Epoch 114/200\n",
      "782/782 [==============================] - 9s 12ms/step - loss: 0.5389 - accuracy: 0.8214 - val_loss: 0.6842 - val_accuracy: 0.7805\n",
      "Epoch 115/200\n",
      "782/782 [==============================] - 9s 12ms/step - loss: 0.5364 - accuracy: 0.8230 - val_loss: 0.6673 - val_accuracy: 0.7838\n",
      "Epoch 116/200\n",
      "782/782 [==============================] - 9s 12ms/step - loss: 0.5314 - accuracy: 0.8217 - val_loss: 0.7104 - val_accuracy: 0.7794\n",
      "Epoch 117/200\n",
      "782/782 [==============================] - 9s 11ms/step - loss: 0.5356 - accuracy: 0.8225 - val_loss: 0.6996 - val_accuracy: 0.7772\n",
      "Epoch 118/200\n",
      "782/782 [==============================] - 9s 11ms/step - loss: 0.5303 - accuracy: 0.8232 - val_loss: 0.6819 - val_accuracy: 0.7824\n",
      "Epoch 119/200\n",
      "782/782 [==============================] - 9s 11ms/step - loss: 0.5258 - accuracy: 0.8252 - val_loss: 0.6512 - val_accuracy: 0.7915\n",
      "Epoch 120/200\n",
      "782/782 [==============================] - 9s 11ms/step - loss: 0.5296 - accuracy: 0.8238 - val_loss: 0.7282 - val_accuracy: 0.7688\n",
      "Epoch 121/200\n",
      "782/782 [==============================] - 9s 11ms/step - loss: 0.5236 - accuracy: 0.8250 - val_loss: 0.6755 - val_accuracy: 0.7836\n",
      "Epoch 122/200\n",
      "782/782 [==============================] - 9s 11ms/step - loss: 0.5241 - accuracy: 0.8254 - val_loss: 0.6703 - val_accuracy: 0.7855\n",
      "Epoch 123/200\n",
      "782/782 [==============================] - 9s 11ms/step - loss: 0.5218 - accuracy: 0.8246 - val_loss: 0.6735 - val_accuracy: 0.7850\n",
      "Epoch 124/200\n",
      "782/782 [==============================] - 9s 11ms/step - loss: 0.5241 - accuracy: 0.8269 - val_loss: 0.6627 - val_accuracy: 0.7924\n",
      "Epoch 125/200\n",
      "782/782 [==============================] - 9s 11ms/step - loss: 0.5251 - accuracy: 0.8259 - val_loss: 0.7141 - val_accuracy: 0.7720\n",
      "Epoch 126/200\n",
      "782/782 [==============================] - 9s 11ms/step - loss: 0.5248 - accuracy: 0.8255 - val_loss: 0.6655 - val_accuracy: 0.7866\n",
      "Epoch 127/200\n",
      "782/782 [==============================] - 9s 11ms/step - loss: 0.5150 - accuracy: 0.8282 - val_loss: 0.6863 - val_accuracy: 0.7799\n",
      "Epoch 128/200\n",
      "782/782 [==============================] - 9s 11ms/step - loss: 0.5197 - accuracy: 0.8270 - val_loss: 0.6756 - val_accuracy: 0.7814\n",
      "Epoch 129/200\n",
      "782/782 [==============================] - 9s 11ms/step - loss: 0.5299 - accuracy: 0.8245 - val_loss: 0.6743 - val_accuracy: 0.7869\n",
      "Epoch 130/200\n",
      "782/782 [==============================] - 9s 11ms/step - loss: 0.5144 - accuracy: 0.8297 - val_loss: 0.6656 - val_accuracy: 0.7857\n",
      "Epoch 131/200\n",
      "782/782 [==============================] - 9s 11ms/step - loss: 0.5210 - accuracy: 0.8254 - val_loss: 0.6797 - val_accuracy: 0.7824\n",
      "Epoch 132/200\n",
      "782/782 [==============================] - 9s 11ms/step - loss: 0.5170 - accuracy: 0.8309 - val_loss: 0.6788 - val_accuracy: 0.7879\n",
      "Epoch 133/200\n",
      "782/782 [==============================] - 9s 11ms/step - loss: 0.5185 - accuracy: 0.8279 - val_loss: 0.6901 - val_accuracy: 0.7817\n",
      "Epoch 134/200\n",
      "782/782 [==============================] - 9s 11ms/step - loss: 0.5092 - accuracy: 0.8315 - val_loss: 0.7152 - val_accuracy: 0.7709\n",
      "Epoch 135/200\n",
      "782/782 [==============================] - 9s 11ms/step - loss: 0.5144 - accuracy: 0.8291 - val_loss: 0.6896 - val_accuracy: 0.7828\n",
      "Epoch 136/200\n",
      "782/782 [==============================] - 9s 11ms/step - loss: 0.5090 - accuracy: 0.8313 - val_loss: 0.6741 - val_accuracy: 0.7859\n",
      "Epoch 137/200\n",
      "782/782 [==============================] - 9s 11ms/step - loss: 0.5156 - accuracy: 0.8271 - val_loss: 0.6965 - val_accuracy: 0.7783\n",
      "Epoch 138/200\n",
      "782/782 [==============================] - 9s 11ms/step - loss: 0.4979 - accuracy: 0.8342 - val_loss: 0.6867 - val_accuracy: 0.7803\n",
      "Epoch 139/200\n",
      "782/782 [==============================] - 9s 11ms/step - loss: 0.5081 - accuracy: 0.8324 - val_loss: 0.6714 - val_accuracy: 0.7871\n",
      "Epoch 140/200\n",
      "782/782 [==============================] - 9s 11ms/step - loss: 0.5125 - accuracy: 0.8310 - val_loss: 0.7113 - val_accuracy: 0.7779\n",
      "Epoch 141/200\n",
      "782/782 [==============================] - 9s 11ms/step - loss: 0.5049 - accuracy: 0.8336 - val_loss: 0.6936 - val_accuracy: 0.7843\n",
      "Epoch 142/200\n",
      "782/782 [==============================] - 9s 11ms/step - loss: 0.5031 - accuracy: 0.8325 - val_loss: 0.7068 - val_accuracy: 0.7763\n",
      "Epoch 143/200\n",
      "782/782 [==============================] - 9s 11ms/step - loss: 0.5093 - accuracy: 0.8328 - val_loss: 0.6744 - val_accuracy: 0.7896\n",
      "Epoch 144/200\n",
      "782/782 [==============================] - 9s 11ms/step - loss: 0.5148 - accuracy: 0.8303 - val_loss: 0.6864 - val_accuracy: 0.7783\n",
      "Epoch 145/200\n",
      "782/782 [==============================] - 9s 11ms/step - loss: 0.5008 - accuracy: 0.8347 - val_loss: 0.6896 - val_accuracy: 0.7808\n",
      "Epoch 146/200\n",
      "782/782 [==============================] - 9s 11ms/step - loss: 0.5005 - accuracy: 0.8350 - val_loss: 0.6783 - val_accuracy: 0.7826\n",
      "Epoch 147/200\n",
      "782/782 [==============================] - 9s 11ms/step - loss: 0.5020 - accuracy: 0.8342 - val_loss: 0.7138 - val_accuracy: 0.7782\n",
      "Epoch 148/200\n",
      "782/782 [==============================] - 9s 11ms/step - loss: 0.5059 - accuracy: 0.8323 - val_loss: 0.6723 - val_accuracy: 0.7852\n",
      "Epoch 149/200\n",
      "782/782 [==============================] - 9s 11ms/step - loss: 0.4997 - accuracy: 0.8342 - val_loss: 0.7144 - val_accuracy: 0.7741\n",
      "Epoch 150/200\n",
      "782/782 [==============================] - 9s 11ms/step - loss: 0.5012 - accuracy: 0.8356 - val_loss: 0.7429 - val_accuracy: 0.7718\n",
      "Epoch 151/200\n",
      "782/782 [==============================] - 9s 11ms/step - loss: 0.5036 - accuracy: 0.8352 - val_loss: 0.6788 - val_accuracy: 0.7895\n",
      "Epoch 152/200\n",
      "782/782 [==============================] - 9s 11ms/step - loss: 0.5036 - accuracy: 0.8349 - val_loss: 0.7084 - val_accuracy: 0.7804\n",
      "Epoch 153/200\n",
      "782/782 [==============================] - 9s 11ms/step - loss: 0.4939 - accuracy: 0.8369 - val_loss: 0.6844 - val_accuracy: 0.7852\n",
      "Epoch 154/200\n",
      "782/782 [==============================] - 9s 11ms/step - loss: 0.4957 - accuracy: 0.8372 - val_loss: 0.6821 - val_accuracy: 0.7869\n",
      "Epoch 155/200\n",
      "782/782 [==============================] - 9s 11ms/step - loss: 0.4950 - accuracy: 0.8377 - val_loss: 0.6930 - val_accuracy: 0.7851\n",
      "Epoch 156/200\n",
      "782/782 [==============================] - 9s 11ms/step - loss: 0.4960 - accuracy: 0.8376 - val_loss: 0.7027 - val_accuracy: 0.7853\n",
      "Epoch 157/200\n",
      "782/782 [==============================] - 9s 11ms/step - loss: 0.4944 - accuracy: 0.8363 - val_loss: 0.6960 - val_accuracy: 0.7845\n",
      "Epoch 158/200\n",
      "782/782 [==============================] - 9s 11ms/step - loss: 0.4947 - accuracy: 0.8364 - val_loss: 0.6742 - val_accuracy: 0.7916\n",
      "Epoch 159/200\n",
      "782/782 [==============================] - 9s 11ms/step - loss: 0.4894 - accuracy: 0.8397 - val_loss: 0.6858 - val_accuracy: 0.7878\n",
      "Epoch 160/200\n",
      "782/782 [==============================] - 9s 11ms/step - loss: 0.4950 - accuracy: 0.8361 - val_loss: 0.6862 - val_accuracy: 0.7868\n",
      "Epoch 161/200\n",
      "782/782 [==============================] - 9s 11ms/step - loss: 0.4939 - accuracy: 0.8368 - val_loss: 0.7205 - val_accuracy: 0.7726\n",
      "Epoch 162/200\n",
      "782/782 [==============================] - 9s 11ms/step - loss: 0.4946 - accuracy: 0.8373 - val_loss: 0.6819 - val_accuracy: 0.7871\n",
      "Epoch 163/200\n",
      "782/782 [==============================] - 9s 11ms/step - loss: 0.4865 - accuracy: 0.8398 - val_loss: 0.6674 - val_accuracy: 0.7890\n",
      "Epoch 164/200\n",
      "782/782 [==============================] - 9s 11ms/step - loss: 0.4990 - accuracy: 0.8356 - val_loss: 0.6820 - val_accuracy: 0.7857\n",
      "Epoch 165/200\n",
      "782/782 [==============================] - 9s 11ms/step - loss: 0.4869 - accuracy: 0.8393 - val_loss: 0.7006 - val_accuracy: 0.7864\n",
      "Epoch 166/200\n",
      "782/782 [==============================] - 9s 11ms/step - loss: 0.4845 - accuracy: 0.8410 - val_loss: 0.7159 - val_accuracy: 0.7800\n",
      "Epoch 167/200\n",
      "782/782 [==============================] - 9s 11ms/step - loss: 0.4858 - accuracy: 0.8408 - val_loss: 0.6902 - val_accuracy: 0.7809\n",
      "Epoch 168/200\n",
      "782/782 [==============================] - 10s 13ms/step - loss: 0.4875 - accuracy: 0.8399 - val_loss: 0.6933 - val_accuracy: 0.7813\n",
      "Epoch 169/200\n"
     ]
    },
    {
     "name": "stdout",
     "output_type": "stream",
     "text": [
      "782/782 [==============================] - 9s 12ms/step - loss: 0.4852 - accuracy: 0.8408 - val_loss: 0.6807 - val_accuracy: 0.7857\n",
      "Epoch 170/200\n",
      "782/782 [==============================] - 9s 12ms/step - loss: 0.4873 - accuracy: 0.8409 - val_loss: 0.6936 - val_accuracy: 0.7821\n",
      "Epoch 171/200\n",
      "782/782 [==============================] - 9s 12ms/step - loss: 0.4902 - accuracy: 0.8393 - val_loss: 0.6854 - val_accuracy: 0.7861\n",
      "Epoch 172/200\n",
      "782/782 [==============================] - 9s 12ms/step - loss: 0.4916 - accuracy: 0.8388 - val_loss: 0.7061 - val_accuracy: 0.7788\n",
      "Epoch 173/200\n",
      "782/782 [==============================] - 10s 12ms/step - loss: 0.4772 - accuracy: 0.8437 - val_loss: 0.7020 - val_accuracy: 0.7785\n",
      "Epoch 174/200\n",
      "782/782 [==============================] - 9s 12ms/step - loss: 0.4802 - accuracy: 0.8429 - val_loss: 0.7146 - val_accuracy: 0.7792\n",
      "Epoch 175/200\n",
      "782/782 [==============================] - 10s 12ms/step - loss: 0.4749 - accuracy: 0.8439 - val_loss: 0.6880 - val_accuracy: 0.7864\n",
      "Epoch 176/200\n",
      "782/782 [==============================] - 9s 12ms/step - loss: 0.4841 - accuracy: 0.8394 - val_loss: 0.6932 - val_accuracy: 0.7878\n",
      "Epoch 177/200\n",
      "782/782 [==============================] - 10s 12ms/step - loss: 0.4823 - accuracy: 0.8405 - val_loss: 0.7271 - val_accuracy: 0.7835\n",
      "Epoch 178/200\n",
      "782/782 [==============================] - 9s 12ms/step - loss: 0.4800 - accuracy: 0.8429 - val_loss: 0.7047 - val_accuracy: 0.7830\n",
      "Epoch 179/200\n",
      "782/782 [==============================] - 9s 12ms/step - loss: 0.4770 - accuracy: 0.8436 - val_loss: 0.6899 - val_accuracy: 0.7830\n",
      "Epoch 180/200\n",
      "782/782 [==============================] - 9s 12ms/step - loss: 0.4754 - accuracy: 0.8435 - val_loss: 0.7135 - val_accuracy: 0.7823\n",
      "Epoch 181/200\n",
      "782/782 [==============================] - 9s 12ms/step - loss: 0.4689 - accuracy: 0.8467 - val_loss: 0.6987 - val_accuracy: 0.7852\n",
      "Epoch 182/200\n",
      "782/782 [==============================] - 9s 12ms/step - loss: 0.4676 - accuracy: 0.8469 - val_loss: 0.7183 - val_accuracy: 0.7797\n",
      "Epoch 183/200\n",
      "782/782 [==============================] - 9s 12ms/step - loss: 0.4751 - accuracy: 0.8455 - val_loss: 0.7300 - val_accuracy: 0.7703\n",
      "Epoch 184/200\n",
      "782/782 [==============================] - 9s 12ms/step - loss: 0.4791 - accuracy: 0.8437 - val_loss: 0.6865 - val_accuracy: 0.7852\n",
      "Epoch 185/200\n",
      "782/782 [==============================] - 9s 12ms/step - loss: 0.4785 - accuracy: 0.8441 - val_loss: 0.6828 - val_accuracy: 0.7887\n",
      "Epoch 186/200\n",
      "782/782 [==============================] - 9s 12ms/step - loss: 0.4742 - accuracy: 0.8456 - val_loss: 0.6823 - val_accuracy: 0.7868\n",
      "Epoch 187/200\n",
      "782/782 [==============================] - 9s 12ms/step - loss: 0.4740 - accuracy: 0.8446 - val_loss: 0.7028 - val_accuracy: 0.7815\n",
      "Epoch 188/200\n",
      "782/782 [==============================] - 9s 12ms/step - loss: 0.4768 - accuracy: 0.8454 - val_loss: 0.6973 - val_accuracy: 0.7803\n",
      "Epoch 189/200\n",
      "782/782 [==============================] - 9s 12ms/step - loss: 0.4775 - accuracy: 0.8437 - val_loss: 0.7195 - val_accuracy: 0.7808\n",
      "Epoch 190/200\n",
      "782/782 [==============================] - 9s 12ms/step - loss: 0.4698 - accuracy: 0.8474 - val_loss: 0.7124 - val_accuracy: 0.7777\n",
      "Epoch 191/200\n",
      "782/782 [==============================] - 9s 12ms/step - loss: 0.4635 - accuracy: 0.8483 - val_loss: 0.6821 - val_accuracy: 0.7880\n",
      "Epoch 192/200\n",
      "782/782 [==============================] - 9s 12ms/step - loss: 0.4710 - accuracy: 0.8467 - val_loss: 0.6990 - val_accuracy: 0.7876\n",
      "Epoch 193/200\n",
      "782/782 [==============================] - 9s 12ms/step - loss: 0.4751 - accuracy: 0.8439 - val_loss: 0.6885 - val_accuracy: 0.7836\n",
      "Epoch 194/200\n",
      "782/782 [==============================] - 9s 12ms/step - loss: 0.4566 - accuracy: 0.8495 - val_loss: 0.7182 - val_accuracy: 0.7813\n",
      "Epoch 195/200\n",
      "782/782 [==============================] - 9s 12ms/step - loss: 0.4681 - accuracy: 0.8456 - val_loss: 0.7214 - val_accuracy: 0.7782\n",
      "Epoch 196/200\n",
      "782/782 [==============================] - 9s 12ms/step - loss: 0.4620 - accuracy: 0.8476 - val_loss: 0.7263 - val_accuracy: 0.7808\n",
      "Epoch 197/200\n",
      "782/782 [==============================] - 9s 12ms/step - loss: 0.4712 - accuracy: 0.8468 - val_loss: 0.7079 - val_accuracy: 0.7802\n",
      "Epoch 198/200\n",
      "782/782 [==============================] - 9s 12ms/step - loss: 0.4632 - accuracy: 0.8492 - val_loss: 0.7097 - val_accuracy: 0.7840\n",
      "Epoch 199/200\n",
      "782/782 [==============================] - 9s 12ms/step - loss: 0.4605 - accuracy: 0.8493 - val_loss: 0.7079 - val_accuracy: 0.7859\n",
      "Epoch 200/200\n",
      "782/782 [==============================] - 9s 12ms/step - loss: 0.4763 - accuracy: 0.8444 - val_loss: 0.6940 - val_accuracy: 0.7862\n",
      "313/313 [==============================] - 1s 4ms/step - loss: 0.6940 - accuracy: 0.7862\n"
     ]
    }
   ],
   "source": [
    "#Entrenamos nuestra red  y la evaluamos obteniendo los valores de error y accuracy de los datos de entrenamiento\n",
    "hystory = model.fit(x_train, Y_train, batch_size=64, epochs=200, validation_data=(x_test, Y_test), callbacks = criterio_parada)\n",
    "\n",
    "error = model.evaluate(x_test, Y_test)"
   ]
  },
  {
   "cell_type": "code",
   "execution_count": 86,
   "id": "ae39c0df",
   "metadata": {},
   "outputs": [
    {
     "data": {
      "image/png": "[encoded data removed]",
      "text/plain": [
       "<Figure size 432x288 with 1 Axes>"
      ]
     },
     "metadata": {
      "needs_background": "light"
     },
     "output_type": "display_data"
    },
    {
     "data": {
      "image/png": "[encoded data removed]",
      "text/plain": [
       "<Figure size 432x288 with 1 Axes>"
      ]
     },
     "metadata": {
      "needs_background": "light"
     },
     "output_type": "display_data"
    }
   ],
   "source": [
    "# la validación, para evaluar el aprendizaje del modelo.\n",
    "# Gráfica de evolución de \"loss\".\n",
    "plt.subplot(211)\n",
    "plt.title('Evolución de \"Loss\"')\n",
    "plt.plot(hystory.history['loss'], color='blue', label='train')\n",
    "plt.plot(hystory.history['val_loss'], color='orange', label='test')\n",
    "plt.legend(loc='upper left')\n",
    "plt.show()\n",
    "\n",
    "# Gráfica de evolución de \"accuracy\". \n",
    "plt.subplot(212)\n",
    "plt.title('Evolución de \"Accuracy\"')\n",
    "plt.plot(hystory.history['accuracy'], color='blue', label='train')\n",
    "plt.plot(hystory.history['val_accuracy'], color='orange', label='test')\n",
    "plt.legend(loc='upper left')\n",
    "plt.show()"
   ]
  },
  {
   "cell_type": "markdown",
   "id": "f30662df",
   "metadata": {},
   "source": [
    "##### Predicción imagenes"
   ]
  },
  {
   "cell_type": "code",
   "execution_count": 87,
   "id": "30069da6",
   "metadata": {},
   "outputs": [],
   "source": [
    "def prediccion(prediccion,img):\n",
    "    plt.imshow(img)\n",
    "    # Obtención de los ínidices de mayor a menor\n",
    "    indices = prediccion.argsort()[-3:][::-1]\n",
    "    #Cogemos los 3 más altos, que están al final del array\n",
    "    top3 = indices[0][-3:][::-1]\n",
    "    for x in top3:\n",
    "        if(x==0):\n",
    "            print('Avion')\n",
    "        elif(x==1):\n",
    "            print('Coche')\n",
    "        elif(x==2):\n",
    "            print('Pajaro')\n",
    "        elif(x==3):\n",
    "            print('Gato')\n",
    "        elif(x==4):\n",
    "            print('Ciervo')\n",
    "        elif(x==5):\n",
    "            print('Perro')\n",
    "        elif(x==6):\n",
    "            print('Rana')\n",
    "        elif(x==7):\n",
    "            print('Caballo')\n",
    "        elif(x==8):\n",
    "            print('Barco')\n",
    "        elif(x==9):\n",
    "                print('Tractor')\n",
    "        print('Con una probabilidad de: ', prediccion[0][x])"
   ]
  },
  {
   "cell_type": "code",
   "execution_count": 88,
   "id": "1b567fc4",
   "metadata": {},
   "outputs": [],
   "source": [
    "#Se cogen las imágenes aleatoriamente del dataset y se utilizaran para validation\n",
    "x = rd.randint(0,50000-1)\n",
    "img1 = x_train[x]\n",
    "x = rd.randint(0,50000-1)\n",
    "img2 = x_train[x]\n",
    "x = rd.randint(0,50000-1)\n",
    "img3 = x_train[x]\n",
    "x = rd.randint(0,50000-1)\n",
    "img4 = x_train[x]\n",
    "x = rd.randint(0,50000-1)\n",
    "img5 = x_train[x]\n",
    "x = rd.randint(0,50000-1)\n",
    "img6 = x_train[x]\n",
    "x = rd.randint(0,50000-1)\n",
    "img7 = x_train[x]\n",
    "x = rd.randint(0,50000-1)\n",
    "img8 = x_train[x]"
   ]
  },
  {
   "cell_type": "code",
   "execution_count": 89,
   "id": "f970fc86",
   "metadata": {},
   "outputs": [
    {
     "name": "stdout",
     "output_type": "stream",
     "text": [
      "1/1 [==============================] - 0s 127ms/step\n",
      "Ciervo\n",
      "Con una probabilidad de:  0.9999927\n",
      "Caballo\n",
      "Con una probabilidad de:  4.773779e-06\n",
      "Perro\n",
      "Con una probabilidad de:  2.3978075e-06\n"
     ]
    },
    {
     "data": {
      "image/png": "[encoded data removed]",
      "text/plain": [
       "<Figure size 432x288 with 1 Axes>"
      ]
     },
     "metadata": {
      "needs_background": "light"
     },
     "output_type": "display_data"
    }
   ],
   "source": [
    "prueb1 = np.array([img1])\n",
    "\n",
    "#Hacemos predict en la red con la imagen determinada\n",
    "prediccion1 = model.predict(prueb1)\n",
    "\n",
    "prediccion(prediccion1,img1)\n"
   ]
  },
  {
   "cell_type": "code",
   "execution_count": 90,
   "id": "52c55a1c",
   "metadata": {},
   "outputs": [
    {
     "name": "stdout",
     "output_type": "stream",
     "text": [
      "1/1 [==============================] - 0s 13ms/step\n",
      "Pajaro\n",
      "Con una probabilidad de:  0.97979486\n",
      "Avion\n",
      "Con una probabilidad de:  0.019736288\n",
      "Gato\n",
      "Con una probabilidad de:  0.0002774197\n"
     ]
    },
    {
     "data": {
      "image/png": "[encoded data removed]",
      "text/plain": [
       "<Figure size 432x288 with 1 Axes>"
      ]
     },
     "metadata": {
      "needs_background": "light"
     },
     "output_type": "display_data"
    }
   ],
   "source": [
    "prueb2 = np.array([img2])\n",
    "prediccion2 = model.predict(prueb2)\n",
    "prediccion(prediccion2,img2)"
   ]
  },
  {
   "cell_type": "code",
   "execution_count": 91,
   "id": "31cc7a07",
   "metadata": {},
   "outputs": [
    {
     "name": "stdout",
     "output_type": "stream",
     "text": [
      "1/1 [==============================] - 0s 14ms/step\n",
      "Avion\n",
      "Con una probabilidad de:  0.9879637\n",
      "Ciervo\n",
      "Con una probabilidad de:  0.004041357\n",
      "Pajaro\n",
      "Con una probabilidad de:  0.0034031381\n"
     ]
    },
    {
     "data": {
      "image/png": "[encoded data removed]",
      "text/plain": [
       "<Figure size 432x288 with 1 Axes>"
      ]
     },
     "metadata": {
      "needs_background": "light"
     },
     "output_type": "display_data"
    }
   ],
   "source": [
    "prueb3 = np.array([img3])\n",
    "prediccion3 = model.predict(prueb3)\n",
    "prediccion(prediccion3,img3)"
   ]
  },
  {
   "cell_type": "code",
   "execution_count": 92,
   "id": "bc7f6290",
   "metadata": {},
   "outputs": [
    {
     "name": "stdout",
     "output_type": "stream",
     "text": [
      "1/1 [==============================] - 0s 13ms/step\n",
      "Rana\n",
      "Con una probabilidad de:  0.9915639\n",
      "Gato\n",
      "Con una probabilidad de:  0.008049573\n",
      "Ciervo\n",
      "Con una probabilidad de:  0.00019478583\n"
     ]
    },
    {
     "data": {
      "image/png": "[encoded data removed]",
      "text/plain": [
       "<Figure size 432x288 with 1 Axes>"
      ]
     },
     "metadata": {
      "needs_background": "light"
     },
     "output_type": "display_data"
    }
   ],
   "source": [
    "prueb4 = np.array([img4])\n",
    "prediccion4 = model.predict(prueb4)\n",
    "prediccion(prediccion4,img4)"
   ]
  },
  {
   "cell_type": "code",
   "execution_count": 93,
   "id": "4b53e4d0",
   "metadata": {},
   "outputs": [
    {
     "name": "stdout",
     "output_type": "stream",
     "text": [
      "1/1 [==============================] - 0s 13ms/step\n",
      "Ciervo\n",
      "Con una probabilidad de:  0.9791711\n",
      "Perro\n",
      "Con una probabilidad de:  0.00758699\n",
      "Gato\n",
      "Con una probabilidad de:  0.0051401793\n"
     ]
    },
    {
     "data": {
      "image/png": "[encoded data removed]",
      "text/plain": [
       "<Figure size 432x288 with 1 Axes>"
      ]
     },
     "metadata": {
      "needs_background": "light"
     },
     "output_type": "display_data"
    }
   ],
   "source": [
    "prueb5 = np.array([img5])\n",
    "prediccion5 = model.predict(prueb5)\n",
    "prediccion(prediccion5,img5)"
   ]
  },
  {
   "cell_type": "code",
   "execution_count": 94,
   "id": "7d668107",
   "metadata": {},
   "outputs": [
    {
     "name": "stdout",
     "output_type": "stream",
     "text": [
      "1/1 [==============================] - 0s 14ms/step\n",
      "Pajaro\n",
      "Con una probabilidad de:  0.5094518\n",
      "Perro\n",
      "Con una probabilidad de:  0.18400954\n",
      "Gato\n",
      "Con una probabilidad de:  0.17588092\n"
     ]
    },
    {
     "data": {
      "image/png": "[encoded data removed]",
      "text/plain": [
       "<Figure size 432x288 with 1 Axes>"
      ]
     },
     "metadata": {
      "needs_background": "light"
     },
     "output_type": "display_data"
    }
   ],
   "source": [
    "prueb6 = np.array([img6])\n",
    "prediccion6 = model.predict(prueb6)\n",
    "prediccion(prediccion6,img6)"
   ]
  },
  {
   "cell_type": "code",
   "execution_count": 95,
   "id": "92f19613",
   "metadata": {},
   "outputs": [
    {
     "name": "stdout",
     "output_type": "stream",
     "text": [
      "1/1 [==============================] - 0s 15ms/step\n",
      "Avion\n",
      "Con una probabilidad de:  0.9983612\n",
      "Barco\n",
      "Con una probabilidad de:  0.00079996\n",
      "Tractor\n",
      "Con una probabilidad de:  0.00027984995\n"
     ]
    },
    {
     "data": {
      "image/png": "[encoded data removed]",
      "text/plain": [
       "<Figure size 432x288 with 1 Axes>"
      ]
     },
     "metadata": {
      "needs_background": "light"
     },
     "output_type": "display_data"
    }
   ],
   "source": [
    "prueb7 = np.array([img7])\n",
    "prediccion7 = model.predict(prueb7)\n",
    "prediccion(prediccion7,img7)"
   ]
  },
  {
   "cell_type": "code",
   "execution_count": 96,
   "id": "a9eb5d8b",
   "metadata": {},
   "outputs": [
    {
     "name": "stdout",
     "output_type": "stream",
     "text": [
      "1/1 [==============================] - 0s 13ms/step\n",
      "Perro\n",
      "Con una probabilidad de:  0.5234157\n",
      "Gato\n",
      "Con una probabilidad de:  0.40319338\n",
      "Caballo\n",
      "Con una probabilidad de:  0.018840997\n"
     ]
    },
    {
     "data": {
      "image/png": "[encoded data removed]",
      "text/plain": [
       "<Figure size 432x288 with 1 Axes>"
      ]
     },
     "metadata": {
      "needs_background": "light"
     },
     "output_type": "display_data"
    }
   ],
   "source": [
    "prueb8 = np.array([img8])\n",
    "prediccion8 = model.predict(prueb8)\n",
    "prediccion(prediccion8,img8)"
   ]
  },
  {
   "cell_type": "code",
   "execution_count": null,
   "id": "033be628",
   "metadata": {},
   "outputs": [],
   "source": []
  },
  {
   "cell_type": "code",
   "execution_count": null,
   "id": "098c6261",
   "metadata": {},
   "outputs": [],
   "source": []
  },
  {
   "cell_type": "code",
   "execution_count": null,
   "id": "605b6f87",
   "metadata": {},
   "outputs": [],
   "source": []
  },
  {
   "cell_type": "code",
   "execution_count": null,
   "id": "ec3cb8d7",
   "metadata": {},
   "outputs": [],
   "source": []
  },
  {
   "cell_type": "code",
   "execution_count": null,
   "id": "c892f4fd",
   "metadata": {},
   "outputs": [],
   "source": []
  },
  {
   "cell_type": "code",
   "execution_count": 145,
   "id": "6d055b67",
   "metadata": {},
   "outputs": [
    {
     "data": {
      "text/plain": [
       "array([[7, 3, 8, 4, 0, 1, 2, 6, 9, 5]], dtype=int64)"
      ]
     },
     "execution_count": 145,
     "metadata": {},
     "output_type": "execute_result"
    }
   ],
   "source": [
    "prediccion1.argsort()[::-1]"
   ]
  },
  {
   "cell_type": "code",
   "execution_count": 4,
   "id": "d1818ae0",
   "metadata": {},
   "outputs": [
    {
     "data": {
      "text/plain": [
       "array([[6],\n",
       "       [9],\n",
       "       [9],\n",
       "       ...,\n",
       "       [9],\n",
       "       [1],\n",
       "       [1]], dtype=uint8)"
      ]
     },
     "execution_count": 4,
     "metadata": {},
     "output_type": "execute_result"
    }
   ],
   "source": [
    "y_train"
   ]
  },
  {
   "cell_type": "code",
   "execution_count": 6,
   "id": "c4c4e7d2",
   "metadata": {},
   "outputs": [
    {
     "data": {
      "text/plain": [
       "array([[0., 0., 0., ..., 0., 0., 0.],\n",
       "       [0., 0., 0., ..., 0., 0., 1.],\n",
       "       [0., 0., 0., ..., 0., 0., 1.],\n",
       "       ...,\n",
       "       [0., 0., 0., ..., 0., 0., 1.],\n",
       "       [0., 1., 0., ..., 0., 0., 0.],\n",
       "       [0., 1., 0., ..., 0., 0., 0.]], dtype=float32)"
      ]
     },
     "execution_count": 6,
     "metadata": {},
     "output_type": "execute_result"
    }
   ],
   "source": [
    "Y_train"
   ]
  },
  {
   "cell_type": "code",
   "execution_count": null,
   "id": "78924812",
   "metadata": {},
   "outputs": [],
   "source": []
  }
 ],
 "metadata": {
  "kernelspec": {
   "display_name": "Python 3 (ipykernel)",
   "language": "python",
   "name": "python3"
  },
  "language_info": {
   "codemirror_mode": {
    "name": "ipython",
    "version": 3
   },
   "file_extension": ".py",
   "mimetype": "text/x-python",
   "name": "python",
   "nbconvert_exporter": "python",
   "pygments_lexer": "ipython3",
   "version": "3.9.12"
  }
 },
 "nbformat": 4,
 "nbformat_minor": 5
}
