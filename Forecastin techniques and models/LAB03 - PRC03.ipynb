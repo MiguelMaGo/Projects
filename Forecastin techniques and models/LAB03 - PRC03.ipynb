{
 "cells": [
  {
   "cell_type": "markdown",
   "metadata": {},
   "source": [
    "# Práctica 1. Asteroides peligrosos"
   ]
  },
  {
   "cell_type": "markdown",
   "metadata": {},
   "source": [
    "### Objetivo \n",
    "\n",
    "El etiquetado de imágenes es una tarea ardua. Es por ello y también debido a sus aplicaciones prácticas que los  científicos  llevan  un  tiempo  intentando  mejorar  los  métodos  para  clasificarlas  automáticamente.  En  la aduana del aeropuerto de Madrid se intenta luchar contra el tráfico de  animales exóticos. Para ello se vaa crear un clasificador que realizando una foto a un animal (en este caso monos) pueda decidir si pertenece a una  especie  en  peligro  de  extinción  o  no.  Dicho  clasificador  funcionará  mediante  un  set  de  entrenamiento donde   se   buscará  un  plano  que  divida  las  diferentes  clases   dispuesta  enun  espacio  n-dimensional dependiendo de sus características. Muestra todos los resultadosdel algoritmopaso a paso.Para ello usaremos el dataset “monos.zip” que se encuentra en scikit-learn. Elige  el clasificador que más se adapte  de  entre  los  vistos  en  clase  y  usa  scikit-learn  junto  con  las  librerías  que  necesites  para  resolver  las siguientes cuestiones"
   ]
  },
  {
   "cell_type": "markdown",
   "metadata": {},
   "source": [
    "### Cuestiones \n",
    "\n",
    "1)Crea un clasificador que permita saber qué especie de monoes a partir de una imagen. Realiza al menos dosconfiguraciones y dibuja una tabla donde se muestre la precisión con la que clasifican. (1 punto)\n",
    "\n",
    "2)Elige 5 imágenes de diferentes especiesque no hayas usado ni para entrenar el modelo, ni para evaluarlo  y  clasifícalas. Usa  para  ello  el  modelo  que  mejor  clasifique  de  los  del  punto  anterior. Índica con que error ha funcionado el clasificador. (1 punto)"
   ]
  },
  {
   "cell_type": "markdown",
   "metadata": {},
   "source": [
    "#### Librerias"
   ]
  },
  {
   "cell_type": "code",
   "execution_count": 1,
   "metadata": {},
   "outputs": [],
   "source": [
    "from sklearn import datasets\n",
    "from sklearn import svm\n",
    "from sklearn import metrics\n",
    "from sklearn.metrics import accuracy_score\n",
    "from sklearn.model_selection import train_test_split\n",
    "from random import randint\n",
    "from sklearn.preprocessing import StandardScaler\n",
    "from collections import Counter\n",
    "\n",
    "import matplotlib.pyplot as plt\n",
    "import numpy as np\n",
    "import pandas as pd\n",
    "\n",
    "import csv\n",
    "import os\n",
    "import random\n",
    "import cv2\n",
    "\n",
    "import warnings\n",
    "warnings.filterwarnings('ignore')"
   ]
  },
  {
   "cell_type": "markdown",
   "metadata": {},
   "source": [
    "## 1. Preparación del dataset"
   ]
  },
  {
   "cell_type": "markdown",
   "metadata": {},
   "source": [
    "Cargamos las imagenes de los monos, dividimos los datos a utilizar y los transformamos para poder utilizarlos en el apartado de clasificación"
   ]
  },
  {
   "cell_type": "code",
   "execution_count": 4,
   "metadata": {
    "scrolled": false
   },
   "outputs": [],
   "source": [
    "datos_imagenes = []\n",
    "for (dirpath, dirnames, filenames) in os.walk(\"TrainData\"):\n",
    "    datos_imagenes += [os.path.join(dirpath, file) for file in filenames]"
   ]
  },
  {
   "cell_type": "code",
   "execution_count": 5,
   "metadata": {},
   "outputs": [],
   "source": [
    "\"\"\" \n",
    "Función para convertir los ficheros de imágenes en array de píxeles con un tamaño\n",
    "redimensionado para mejorar el rendimiento del programa.\n",
    "Parámetros:\n",
    "    - file_path: Dirección de los ficheros.\n",
    "Devuelve:\n",
    "    - La array de píxeles de la imagen redimensionada.\n",
    "\"\"\"\n",
    "def read_image(file_path):\n",
    "    img = cv2.imread(file_path, cv2.IMREAD_COLOR)\n",
    "    b,g,r = cv2.split(img)\n",
    "    img2 = cv2.merge([r,g,b])\n",
    "    return cv2.resize(img2, (128, 96), interpolation=cv2.INTER_CUBIC)"
   ]
  },
  {
   "cell_type": "code",
   "execution_count": 6,
   "metadata": {},
   "outputs": [],
   "source": [
    "\"\"\" \n",
    "Función leer todas las imágenes y juntarlas en una una array de píxeles:\n",
    "    - images: Dirección de los ficheros.\n",
    "Devuelve:\n",
    "    - La array de píxeles de todas las imágenes.\n",
    "\"\"\"\n",
    "def prep_data(images):\n",
    "    count = len(images)\n",
    "    data = np.ndarray((count, 3, 128, 96), dtype=np.uint8)\n",
    "\n",
    "    for i, image_file in enumerate(images):\n",
    "        image = read_image(image_file)\n",
    "        data[i] = image.T\n",
    "        if i%1000 == 0: \n",
    "            print(\"Procesados \", i, \" archivos de \", count)\n",
    "    \n",
    "    return data"
   ]
  },
  {
   "cell_type": "code",
   "execution_count": 10,
   "metadata": {},
   "outputs": [],
   "source": [
    "\"\"\" \n",
    "Función para generar la salida espera para la red neuronal.\n",
    "Devuelve:\n",
    "    - Las etiquetas de salida de la red neuronal.\n",
    "\"\"\"\n",
    "def GenerarEtiquetas(imagenes):\n",
    "    #datos = pd.read_csv('Recursos Lab 3/monos/monkey_labels.txt')\n",
    "\n",
    "    etiquetas = []\n",
    "\n",
    "    for i in range(0, len(imagenes)):\n",
    "\n",
    "        if i % 1000 == 0:\n",
    "            print(\"Generando tags... \", i, \" de \", len(imagenes))\n",
    "\n",
    "        nombre_fichero = imagenes[i].split(\"/\")  \n",
    "        nombre_fichero = nombre_fichero[3].split(\"\\\\\")\n",
    "        clase = nombre_fichero[1]\n",
    "\n",
    "        if clase == \"BacterialPneumonia\":\n",
    "            etiquetas.append(0)\n",
    "        elif clase == \"COVID-19\":\n",
    "            etiquetas.append(1)\n",
    "        elif clase == \"Normal\":\n",
    "            etiquetas.append(2)    \n",
    "        elif clase == \"OversampledAugmentedCOVID-19\":\n",
    "            etiquetas.append(3)\n",
    "        elif clase == \"ViralPneumonia\":\n",
    "            etiquetas.append(4)\n",
    "  \n",
    "        \n",
    "    #etiquetas = np_utils.to_categorical(etiquetas)\n",
    "    return etiquetas"
   ]
  },
  {
   "cell_type": "code",
   "execution_count": 11,
   "metadata": {
    "scrolled": true
   },
   "outputs": [],
   "source": [
    "Dir_Entrenamiento = \"Recursos Lab 3/monos/TrainData/\"\n",
    "Dir_Test = \"Recursos Lab 3/monos/Valdata/\"\n",
    "\n",
    "datos_entrenamiento = []\n",
    "for (dirpath, dirnames, filenames) in os.walk(Dir_Entrenamiento):\n",
    "    datos_entrenamiento += [os.path.join(dirpath, file) for file in filenames]\n",
    "# Se barajan imágenes, es decir, cambia la posicion de los elementos, en la lista de entrenamiento\n",
    "random.shuffle(datos_entrenamiento)\n",
    "\n",
    "# Se transforman las imágenes de entrenamiento en arrays de píxeles\n",
    "conjunto_entrenamiento = prep_data(datos_entrenamiento)\n",
    "\n",
    "# Se generan las etiquetas de las imagenes de entrenamiento\n",
    "etiquetas_entrenamiento = GenerarEtiquetas(datos_entrenamiento)\n",
    "\n",
    "\n",
    "datos_test = []\n",
    "for (dirpath, dirnames, filenames) in os.walk(Dir_Test):\n",
    "    datos_test += [os.path.join(dirpath, file) for file in filenames]\n",
    "# Se barajan imágenes, es decir, cambia la posicion de los elementos, en la lista de entrenamiento\n",
    "random.shuffle(datos_test)\n",
    "\n",
    "# Se transforman las imágenes de entrenamiento en arrays de píxeles\n",
    "conjunto_validacion = prep_data(datos_test)\n",
    "\n",
    "# Se generan las etiquetas de las imagenes de entrenamiento\n",
    "etiquetas_validacion = GenerarEtiquetas(datos_test)\n",
    "\n",
    "\n",
    "\n",
    "# Guardamos 5 fotos del conjunto de entrenamiento y sus eitqueta en una variable a parte para el ultimo ejercicio\n",
    "numero = len(conjunto_entrenamiento) - 5\n",
    "conjunto_prueba = conjunto_entrenamiento[numero:]\n",
    "etiquetas_prueba = etiquetas_entrenamiento[numero:]"
   ]
  },
  {
   "cell_type": "markdown",
   "metadata": {},
   "source": [
    "Realizamos un reshape a los conjuntos para poder utilizarlos al clasificar"
   ]
  },
  {
   "cell_type": "code",
   "execution_count": 12,
   "metadata": {},
   "outputs": [
    {
     "ename": "ValueError",
     "evalue": "cannot reshape array of size 0 into shape (0,newaxis)",
     "output_type": "error",
     "traceback": [
      "\u001b[1;31m---------------------------------------------------------------------------\u001b[0m",
      "\u001b[1;31mValueError\u001b[0m                                Traceback (most recent call last)",
      "\u001b[1;32m<ipython-input-12-f95d9bf788cd>\u001b[0m in \u001b[0;36m<module>\u001b[1;34m\u001b[0m\n\u001b[1;32m----> 1\u001b[1;33m \u001b[0mconjunto_entrenamiento\u001b[0m \u001b[1;33m=\u001b[0m \u001b[0mconjunto_entrenamiento\u001b[0m\u001b[1;33m.\u001b[0m\u001b[0mreshape\u001b[0m\u001b[1;33m(\u001b[0m\u001b[1;33m(\u001b[0m\u001b[0mlen\u001b[0m\u001b[1;33m(\u001b[0m\u001b[0mconjunto_entrenamiento\u001b[0m\u001b[1;33m)\u001b[0m\u001b[1;33m,\u001b[0m \u001b[1;33m-\u001b[0m \u001b[1;36m2\u001b[0m\u001b[1;33m)\u001b[0m\u001b[1;33m)\u001b[0m\u001b[1;33m\u001b[0m\u001b[1;33m\u001b[0m\u001b[0m\n\u001b[0m\u001b[0;32m      2\u001b[0m \u001b[0mconjunto_validacion\u001b[0m \u001b[1;33m=\u001b[0m \u001b[0mconjunto_validacion\u001b[0m\u001b[1;33m.\u001b[0m\u001b[0mreshape\u001b[0m\u001b[1;33m(\u001b[0m\u001b[1;33m(\u001b[0m\u001b[0mlen\u001b[0m\u001b[1;33m(\u001b[0m\u001b[0mconjunto_validacion\u001b[0m\u001b[1;33m)\u001b[0m\u001b[1;33m,\u001b[0m \u001b[1;33m-\u001b[0m \u001b[1;36m2\u001b[0m\u001b[1;33m)\u001b[0m\u001b[1;33m)\u001b[0m\u001b[1;33m\u001b[0m\u001b[1;33m\u001b[0m\u001b[0m\n\u001b[0;32m      3\u001b[0m \u001b[0mconjunto_prueba\u001b[0m \u001b[1;33m=\u001b[0m \u001b[0mconjunto_prueba\u001b[0m\u001b[1;33m.\u001b[0m\u001b[0mreshape\u001b[0m\u001b[1;33m(\u001b[0m\u001b[1;33m(\u001b[0m\u001b[0mlen\u001b[0m\u001b[1;33m(\u001b[0m\u001b[0mconjunto_prueba\u001b[0m\u001b[1;33m)\u001b[0m\u001b[1;33m,\u001b[0m \u001b[1;33m-\u001b[0m \u001b[1;36m2\u001b[0m\u001b[1;33m)\u001b[0m\u001b[1;33m)\u001b[0m\u001b[1;33m\u001b[0m\u001b[1;33m\u001b[0m\u001b[0m\n\u001b[0;32m      4\u001b[0m \u001b[1;33m\u001b[0m\u001b[0m\n\u001b[0;32m      5\u001b[0m \u001b[0mprint\u001b[0m\u001b[1;33m(\u001b[0m\u001b[1;34m\"Hay \"\u001b[0m \u001b[1;33m+\u001b[0m \u001b[0mstr\u001b[0m\u001b[1;33m(\u001b[0m\u001b[0mlen\u001b[0m\u001b[1;33m(\u001b[0m\u001b[0mconjunto_entrenamiento\u001b[0m\u001b[1;33m)\u001b[0m\u001b[1;33m)\u001b[0m \u001b[1;33m+\u001b[0m \u001b[1;34m\" imagenes  de entrenamiento\"\u001b[0m\u001b[1;33m)\u001b[0m\u001b[1;33m\u001b[0m\u001b[1;33m\u001b[0m\u001b[0m\n",
      "\u001b[1;31mValueError\u001b[0m: cannot reshape array of size 0 into shape (0,newaxis)"
     ]
    }
   ],
   "source": [
    "conjunto_entrenamiento = conjunto_entrenamiento.reshape((len(conjunto_entrenamiento), - 2))\n",
    "conjunto_validacion = conjunto_validacion.reshape((len(conjunto_validacion), - 2))\n",
    "conjunto_prueba = conjunto_prueba.reshape((len(conjunto_prueba), - 2))\n",
    "\n",
    "print(\"Hay \" + str(len(conjunto_entrenamiento)) + \" imagenes  de entrenamiento\")\n",
    "print(\"Hay \" + str(len(conjunto_validacion)) + \" imagenes  de validación\")\n",
    "print(\"Hay \" + str(len(conjunto_prueba)) + \" imagenes  de prueba\")"
   ]
  },
  {
   "cell_type": "markdown",
   "metadata": {},
   "source": [
    "## 2. Construcción del modelo\n",
    "Probaremos 2 configuraciones para saber cual de las 2 mejor clasifica"
   ]
  },
  {
   "cell_type": "code",
   "execution_count": 42,
   "metadata": {},
   "outputs": [],
   "source": [
    "precisiones = []"
   ]
  },
  {
   "cell_type": "markdown",
   "metadata": {},
   "source": [
    "### 2.1 Kernel lineal"
   ]
  },
  {
   "cell_type": "code",
   "execution_count": 43,
   "metadata": {},
   "outputs": [
    {
     "name": "stdout",
     "output_type": "stream",
     "text": [
      "El modelo tiene una precisión del: 59.0%.\n"
     ]
    }
   ],
   "source": [
    "# Creación del modelo.\n",
    "modelo = svm.SVC(kernel='linear')\n",
    "\n",
    "# Entrenamiento del modelo.\n",
    "modelo.fit(conjunto_entrenamiento, etiquetas_entrenamiento)  \n",
    "\n",
    "precision = round(accuracy_score(modelo.predict(conjunto_validacion), etiquetas_validacion), 2) *100 \n",
    "\n",
    "# Imprimimos el resultado\n",
    "print(\"El modelo tiene una precisión del: \" + str(precision) + \"%.\")\n",
    "\n",
    "# Agregamos la precisión a la lista.\n",
    "precisiones.append(precision)"
   ]
  },
  {
   "cell_type": "markdown",
   "metadata": {},
   "source": [
    "### 2.2 Kernel polinómico"
   ]
  },
  {
   "cell_type": "code",
   "execution_count": 45,
   "metadata": {},
   "outputs": [
    {
     "name": "stdout",
     "output_type": "stream",
     "text": [
      "i : 0\n",
      "i : 0.5\n",
      "i : 1\n",
      "i : 1.5\n",
      "i : 2\n",
      "i : 2.5\n",
      "El modelo tiene una precisión del: 58.8% con degree: 1.\n"
     ]
    }
   ],
   "source": [
    "mejor_grado = 0\n",
    "mejor_precision = 0\n",
    "rango = [0, 0.5, 1, 1.5, 2, 2.5]\n",
    "for i in rango:\n",
    "    print(\"i :\", i)\n",
    "    # Creación del modelo.\n",
    "    modelo = svm.SVC(kernel='poly', degree=i)\n",
    "\n",
    "    # Entrenamiento del modelo.\n",
    "    modelo.fit(conjunto_entrenamiento, etiquetas_entrenamiento)  \n",
    "\n",
    "    # Calculamos el procentaje de precisión del modelo.\n",
    "    precision = round(accuracy_score(modelo.predict(conjunto_validacion), etiquetas_validacion) * 100, 1)\n",
    "    \n",
    "    # Si mejora la mejor precisión hasta el momento, guardamos el mejor grado.\n",
    "    if mejor_precision < precision:\n",
    "        mejor_precision = precision\n",
    "        mejor_grado = i\n",
    "    \n",
    "# Creación del modelo.\n",
    "modelo = svm.SVC(kernel='poly', degree=mejor_grado)\n",
    "\n",
    "# Entrenamiento del modelo.\n",
    "modelo.fit(conjunto_entrenamiento, etiquetas_entrenamiento)  \n",
    "\n",
    "# Calculamos el procentaje de precisión del modelo.\n",
    "precision = round(accuracy_score(modelo.predict(conjunto_validacion), etiquetas_validacion) * 100, 1)\n",
    "\n",
    "# Imprimimos el resultado\n",
    "print(\"El modelo tiene una precisión del: \" + str(precision) + \"% con degree: \" + str(mejor_grado) + \".\")\n",
    "    \n",
    "# Agregamos la precisión a la lista.\n",
    "precisiones.append(precision)"
   ]
  },
  {
   "cell_type": "markdown",
   "metadata": {},
   "source": [
    "## Precisiones"
   ]
  },
  {
   "cell_type": "code",
   "execution_count": 46,
   "metadata": {},
   "outputs": [
    {
     "data": {
      "image/png": "[encoded data removed]",
      "text/plain": [
       "<Figure size 1440x720 with 1 Axes>"
      ]
     },
     "metadata": {
      "needs_background": "light"
     },
     "output_type": "display_data"
    }
   ],
   "source": [
    "kernels = [\"Lineal\", \"Polinomico\"]\n",
    "plt.subplots(figsize=(20, 10))\n",
    "plt.title(\"Precisión de cada kernel\")\n",
    "plt.xlabel(\"Tipo de kernel\")\n",
    "plt.ylabel(\"Precisión en %\")\n",
    "plt.bar(kernels, precisiones)\n",
    "plt.show()"
   ]
  },
  {
   "cell_type": "markdown",
   "metadata": {},
   "source": [
    "## Mejor Modelo"
   ]
  },
  {
   "cell_type": "code",
   "execution_count": 49,
   "metadata": {},
   "outputs": [
    {
     "name": "stdout",
     "output_type": "stream",
     "text": [
      "El modelo tiene una precisión del: 59.0%.\n"
     ]
    }
   ],
   "source": [
    "# Creación del modelo.\n",
    "modelo = svm.SVC(kernel='linear')\n",
    "\n",
    "# Entrenamiento del modelo.\n",
    "modelo.fit(conjunto_entrenamiento, etiquetas_entrenamiento)  \n",
    "\n",
    "precision = round(accuracy_score(modelo.predict(conjunto_validacion), etiquetas_validacion), 2) *100 \n",
    "\n",
    "# Imprimimos el resultado\n",
    "print(\"El modelo tiene una precisión del: \" + str(precision) + \"%.\")"
   ]
  },
  {
   "cell_type": "markdown",
   "metadata": {},
   "source": [
    "El modelo tienen más de un 59% de precisión y ha clasificado correctamente cada mono en su clase."
   ]
  },
  {
   "cell_type": "markdown",
   "metadata": {},
   "source": [
    "# EJERCICIO 2 - CLASIFICAR 5 IMÁGENES NUEVAS"
   ]
  },
  {
   "cell_type": "code",
   "execution_count": 50,
   "metadata": {},
   "outputs": [
    {
     "name": "stdout",
     "output_type": "stream",
     "text": [
      "[1 1 2 5 1]\n",
      "[1, 1, 2, 5, 1]\n"
     ]
    }
   ],
   "source": [
    "resultado = modelo.predict(conjunto_prueba)\n",
    "print(resultado)\n",
    "print(etiquetas_prueba)"
   ]
  },
  {
   "cell_type": "markdown",
   "metadata": {},
   "source": [
    "Como podemos comprobar, El clasificador ha sido capaz de clasificar las 5 imagenes correctamente sin ningun error, pese a que la precisión del modelo no es muy alta"
   ]
  }
 ],
 "metadata": {
  "kernelspec": {
   "display_name": "Python 3",
   "language": "python",
   "name": "python3"
  },
  "language_info": {
   "codemirror_mode": {
    "name": "ipython",
    "version": 3
   },
   "file_extension": ".py",
   "mimetype": "text/x-python",
   "name": "python",
   "nbconvert_exporter": "python",
   "pygments_lexer": "ipython3",
   "version": "3.7.6"
  }
 },
 "nbformat": 4,
 "nbformat_minor": 2
}
