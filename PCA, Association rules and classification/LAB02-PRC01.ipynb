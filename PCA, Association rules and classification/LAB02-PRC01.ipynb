{
 "cells": [
  {
   "cell_type": "markdown",
   "metadata": {},
   "source": [
    "# Reglas de Asociación"
   ]
  },
  {
   "cell_type": "markdown",
   "metadata": {},
   "source": [
    "### Objetivo"
   ]
  },
  {
   "cell_type": "markdown",
   "metadata": {},
   "source": [
    "<div style=\"text-align: justify\"><b>\n",
    "Usa la librería mlextend que nos permita solucionar todos los problemas relacionados con las reglas de asociación. Para ello tendremos que usar el algoritmo Apriori y una serie de métodos para obtener la distinta información que este genera.\n",
    "</b></div>"
   ]
  },
  {
   "cell_type": "markdown",
   "metadata": {},
   "source": [
    "###### Librerías del código"
   ]
  },
  {
   "cell_type": "code",
   "execution_count": 2,
   "metadata": {},
   "outputs": [],
   "source": [
    "%reset -f\n",
    "import numpy as np\n",
    "import pandas as pd\n",
    "import math\n",
    "import matplotlib.pyplot as plt\n",
    "\n",
    "from mlxtend.preprocessing import TransactionEncoder\n",
    "from mlxtend.frequent_patterns import apriori\n",
    "from mlxtend.frequent_patterns import association_rules\n",
    "\n",
    "import matplotlib.pyplot as plt\n",
    "from mlxtend.plotting import stacked_barplot\n",
    "from mlxtend.plotting import checkerboard_plot\n",
    "\n",
    "from IPython.display import clear_output\n",
    "import warnings\n",
    "warnings.filterwarnings(\"ignore\")"
   ]
  },
  {
   "cell_type": "markdown",
   "metadata": {},
   "source": [
    "#### Metodos "
   ]
  },
  {
   "cell_type": "markdown",
   "metadata": {},
   "source": [
    "Metodos descritos en el apartado 1 que seran probados en los demás apartados"
   ]
  },
  {
   "cell_type": "markdown",
   "metadata": {},
   "source": [
    "Este metodo nos devuelve los itemsets frecuentes según el valor k."
   ]
  },
  {
   "cell_type": "code",
   "execution_count": 3,
   "metadata": {},
   "outputs": [],
   "source": [
    "def kitemsets(df, min_soporte):\n",
    "    print(\"----------------------- K - ITEMSETS -----------------------------------\")\n",
    "    aprior = apriori (df, min_support=min_soporte, use_colnames=True, max_len = math.inf)\n",
    "    data = pd.DataFrame(aprior[\"support\"])\n",
    "    data[\"itemsets\"] = aprior[\"itemsets\"]\n",
    "    data[\"K-itemsets\"] = len(data[\"itemsets\"][0])\n",
    "    for x in range (0, len(data)):\n",
    "        data[\"K-itemsets\"][x] = len(data[\"itemsets\"][x])\n",
    "\n",
    "    k = 1\n",
    "    datos = []\n",
    "    for ki in range (0, len(data)):\n",
    "        if data[\"K-itemsets\"][ki] == k:\n",
    "            datos.append([data[\"itemsets\"][ki], data[\"support\"][ki]])\n",
    "        else:\n",
    "            kdatos = pd.DataFrame(datos)\n",
    "            print(\"K - itemset siendo k = \", k)\n",
    "            display(kdatos)\n",
    "            print(\"---------------------------------------\")\n",
    "            k = data[\"K-itemsets\"][ki]\n",
    "            datos = []\n",
    "            datos.append([data[\"itemsets\"][ki], data[\"support\"][ki]])\n",
    "    #repetimos aqui para mostrar la tabla del ultimo k-itemset encontrado\n",
    "    kdatos = pd.DataFrame(datos, columns = [\"itemsets\", \"support\"])\n",
    "    print(\"K - itemset siendo k = \", k)\n",
    "    display(kdatos)\n",
    "    print(\"-------------------------------------------------------------------------\")\n",
    "    \n",
    "    #print(data)\n",
    "    \n",
    "    return data"
   ]
  },
  {
   "cell_type": "markdown",
   "metadata": {},
   "source": [
    "Se muestran con este método todas las reglas de asociación que se producen independientemente del valor de confianza que posean. Se realiza utilizando la funcion \"associaton_rules\" de la libreria mlxtend y poniendo el parámetro \"min_threshold\" a cero que es el umbral minimo de la metrica que hemos seleccionado, en este caso se trata de la confianza, es decir, el mínimo umbral de confianza es 0."
   ]
  },
  {
   "cell_type": "code",
   "execution_count": 4,
   "metadata": {},
   "outputs": [],
   "source": [
    "def mostrar_todas_reglas(frequents_items):\n",
    "    print(\"----------------- MOSTRAR TODAS LAS REGLAS DE ASOCIACIÓN --------------------------\")\n",
    "    rules = association_rules(frequents_items, metric=\"confidence\", min_threshold=0)\n",
    "    display(rules)\n",
    "    grafico_1(rules)\n",
    "    grafico_2(rules)\n",
    "    print(\"-------------------------------------------------------------------------\")\n",
    "    return rules"
   ]
  },
  {
   "cell_type": "markdown",
   "metadata": {},
   "source": [
    "Método que muestra aquellas reglas que sean de alta confianza. Principalmente el funcionamento es similar al anterior método. Sin embargo, en este caso, se cambia el minimo umbral de confianza segun se desee."
   ]
  },
  {
   "cell_type": "code",
   "execution_count": 5,
   "metadata": {},
   "outputs": [],
   "source": [
    "def reglas_alta_confianza(frequents_items):\n",
    "    print(\"----------------- REGLAS DE MAYOR CONFIANZA --------------------------\")\n",
    "    print(\"Consideraremos que tienen alta confianza cuando superan el 50% de confianza (0.5)\")\n",
    "    rules2 = association_rules(frequents_items, metric=\"confidence\", min_threshold=0.5)\n",
    "    if rules2.empty == True:\n",
    "        print(\"No hay reglas de asociación con la suficiente confianza\")\n",
    "    else:\n",
    "        display(rules2)\n",
    "        grafico_1(rules2)\n",
    "        grafico_2(rules2)\n",
    "    print(\"-------------------------------------------------------------------------\")"
   ]
  },
  {
   "cell_type": "markdown",
   "metadata": {},
   "source": [
    "Con este metodo se puede realizar una busque mediane la introducción por teclado del antecedente que se desee consutar. Con ello se consigue ver de manera especifica las reglas que tienen dicho antecedente."
   ]
  },
  {
   "cell_type": "code",
   "execution_count": 6,
   "metadata": {},
   "outputs": [],
   "source": [
    "def busqueda_por_antecesor(rules):\n",
    "#     rules = association_rules(frequents_items, metric=\"confidence\", min_threshold=0)\n",
    "#     display(rules)\n",
    "    print(\"----------------- BUSQUEDA POR ANTECESOR --------------------------\")\n",
    "    antecesores_validos = [rules[\"antecedents\"][0]]\n",
    "    for i in range (0, len(rules)):\n",
    "        for j in range (0, len(antecesores_validos)):\n",
    "            if antecesores_validos[j] != rules[\"antecedents\"][i] and j == len(antecesores_validos)-1:\n",
    "                antecesores_validos.append(rules[\"antecedents\"][i])\n",
    "            elif antecesores_validos[j] == rules[\"antecedents\"][i]:\n",
    "                break\n",
    "    print(\"Lista de antecesores validos\")\n",
    "    for y in range(0, len(antecesores_validos)):\n",
    "        indix = str(antecesores_validos[y])\n",
    "        indix = indix.replace(\"frozenset({'\",\"\")\n",
    "        indix = indix.replace(\"'})\",\"\")\n",
    "        indix = indix.replace(\"', '\",\", \")\n",
    "        antecesores_validos[y] = indix\n",
    "    display(antecesores_validos)          \n",
    "    print(\"Introduzca antecesor valido, es decir, el nombre del producto que se quiere utilizar como antecesor\")\n",
    "    antecesor = input()\n",
    "    antecesor = antecesor.split(', ', 1 )\n",
    "    antecesor2 = antecesor[0]\n",
    "    if len(antecesor) == 1:\n",
    "        antecedente = rules[rules['antecedents'] == {antecesor2}]\n",
    "    else:\n",
    "        for x in range(1, len(antecesor)):\n",
    "            antecesor2 = (antecesor2, antecesor[x])\n",
    "        print(antecesor2)\n",
    "        antecedente = rules[rules['antecedents'] == frozenset(antecesor2)]\n",
    "    \n",
    "    \n",
    "    display(antecedente)\n",
    "    grafico_2(antecedente)\n",
    "    print(\"-------------------------------------------------------------------------\")"
   ]
  },
  {
   "cell_type": "markdown",
   "metadata": {},
   "source": [
    "Método que tras introducir un umbral de confianza (con valores entre 0.0 y 1.0) muestra las reglas que tienen ese valor de confianza o mayor"
   ]
  },
  {
   "cell_type": "code",
   "execution_count": 7,
   "metadata": {},
   "outputs": [],
   "source": [
    "def umbral_min_reglas_x_confianza(rules, confianza):\n",
    "    print(\"----------------- BUSQUEDA POR UMBRAL DE CONFIANZA --------------------------\")\n",
    "    print(\"Introducir valor minimo de confianza para buscar. Valores entre 0 y 1. Ejemplo: 0.5\")\n",
    "    #confianza = input()\n",
    "    cumple = rules[ (rules['confidence'] >= float(confianza))]\n",
    "    display(cumple)\n",
    "    grafico_1(cumple)\n",
    "    grafico_2(cumple)\n",
    "    print(\"-------------------------------------------------------------------------\")"
   ]
  },
  {
   "cell_type": "markdown",
   "metadata": {},
   "source": [
    "Se muestra mediante un gráfico de barras, se muestran los valores de confianza, soporte y Lift. Para ello se necesita que el dataframe tenga dichas columnas"
   ]
  },
  {
   "cell_type": "code",
   "execution_count": 8,
   "metadata": {},
   "outputs": [],
   "source": [
    "def grafico_1(df): \n",
    "    df = transformar_a_str(df)\n",
    "    df2 = pd.DataFrame(df, columns = [\"confidence\", \"support\", \"lift\"])\n",
    "    df = unir_variables(df)\n",
    "    index = []\n",
    "    for x in range(0, len(df[\"rules\"])):\n",
    "        index.append(df[\"rules\"][x])\n",
    "    \n",
    "    plt = stacked_barplot(df2, rotation=90, legend_loc='best', labels = index)\n",
    "    plt.show()"
   ]
  },
  {
   "cell_type": "markdown",
   "metadata": {},
   "source": [
    "Se genera un gráfico de dispersión con el que se observará el valor de confianza de cada una de las reglas segun sean sus antecedentes y cinsecuentes."
   ]
  },
  {
   "cell_type": "code",
   "execution_count": 9,
   "metadata": {},
   "outputs": [],
   "source": [
    "def grafico_2(df):\n",
    "    df = transformar_a_str(df)\n",
    "    #df2 = pd.DataFrame(df, columns = [\"confidence\", \"support\", \"lift\"])\n",
    "    plt.figure(figsize=(20,10))\n",
    "    plt.scatter(df['antecedents'],\n",
    "                df[\"consequents\"],\n",
    "                df['confidence']*1000, #Multiplicamos el valor por 1000 para ver los resultados de manera más clara, aunque el valor real sera el obtenido \n",
    "                c = df['confidence'])\n",
    "    #.figsize=(len(df[\"consequents\"])*2,len(df['antecedents'])*2)\n",
    "    plt.suptitle('Confianza de las distintas reglas')\n",
    "    plt.ylabel('Consequents')\n",
    "    plt.xlabel('Antecedents')\n",
    "    plt.colorbar()\n",
    "    plt.grid()\n",
    "    plt.show()"
   ]
  },
  {
   "cell_type": "code",
   "execution_count": 10,
   "metadata": {},
   "outputs": [],
   "source": [
    "def transformar_a_str(df):\n",
    "    df = df.reset_index()\n",
    "    indice = []\n",
    "    indice2 = []\n",
    "    for x in range(0, len(df[\"antecedents\"])):\n",
    "        indix = str(df[\"antecedents\"][x])\n",
    "        indix = indix.replace(\"frozenset({'\",\"\")\n",
    "        indix = indix.replace(\"'})\",\"\")\n",
    "        indix = indix.replace(\"', '\",\", \")\n",
    "        indice.append(indix)\n",
    "\n",
    "        indix = str(df[\"consequents\"][x])\n",
    "        indix = indix.replace(\"frozenset({'\",\"\")\n",
    "        indix = indix.replace(\"'})\",\"\")\n",
    "        indix = indix.replace(\"', '\",\", \")\n",
    "        indice2.append(indix)\n",
    "\n",
    "    df[\"antecedents\"] = indice\n",
    "    df[\"consequents\"] = indice2\n",
    "    \n",
    "    #df = df.reset_index()\n",
    "    return df"
   ]
  },
  {
   "cell_type": "code",
   "execution_count": 11,
   "metadata": {},
   "outputs": [],
   "source": [
    "def unir_variables(df):\n",
    "    df2 = pd.DataFrame(df, columns = [\"confidence\", \"support\", \"lift\"])\n",
    "    df2[\"rules\"] = df[\"antecedents\"] + \", \" + df[\"consequents\"]\n",
    "    return df2"
   ]
  },
  {
   "cell_type": "markdown",
   "metadata": {},
   "source": [
    "Método mediante el cual, tras recibir un dataframe y una lista con los valores que utilizaremos como soporte y umbral, realiza los metodos descritos en el enunciado con el fin de obtener los items frecuentes, las reglas tanto de alta confianza como todas, la creacion de los diferentes graficos y los metodos de busqueda por antecesor y según el valor de umbral de confianza."
   ]
  },
  {
   "cell_type": "code",
   "execution_count": 12,
   "metadata": {},
   "outputs": [],
   "source": [
    "def obtener_datos(df, lista_soporte_umbral):\n",
    "    for x in range(0, len(lista_soporte_umbral)):\n",
    "        frequents_items = kitemsets(df, lista_soporte_umbral[x][0])\n",
    "        rules = mostrar_todas_reglas(frequents_items)\n",
    "        reglas_alta_confianza(frequents_items)\n",
    "        plt.show()\n",
    "        busqueda_por_antecesor(rules)\n",
    "        umbral_min_reglas_x_confianza(rules, lista_soporte_umbral[x][1])\n",
    "        print(\"##############################################################################################\")\n",
    "        wait = input(\"Para realizar el siguiente test pulse intro\")\n",
    "        clear_output()\n",
    "        "
   ]
  },
  {
   "cell_type": "markdown",
   "metadata": {},
   "source": [
    "## Apartado 2. Dataset Compras.csv"
   ]
  },
  {
   "cell_type": "markdown",
   "metadata": {},
   "source": [
    "Se abre el archivo csv y se procede a su transformación para que pueda ser procesado por la librearía de manera correcta. \n",
    "Tras ello se ha creado una lista que contiene diferentes valores de soporte y umbral que se utilizarán a la hora de obtener los datos para su interpretación."
   ]
  },
  {
   "cell_type": "code",
   "execution_count": 16,
   "metadata": {
    "scrolled": false
   },
   "outputs": [
    {
     "ename": "FileNotFoundError",
     "evalue": "[Errno 2] No such file or directory: 'radio.csv'",
     "output_type": "error",
     "traceback": [
      "\u001b[1;31m---------------------------------------------------------------------------\u001b[0m",
      "\u001b[1;31mFileNotFoundError\u001b[0m                         Traceback (most recent call last)",
      "\u001b[1;32m<ipython-input-16-36d7ee0d438f>\u001b[0m in \u001b[0;36m<module>\u001b[1;34m\u001b[0m\n\u001b[1;32m----> 1\u001b[1;33m \u001b[0mfile\u001b[0m \u001b[1;33m=\u001b[0m \u001b[0mopen\u001b[0m\u001b[1;33m(\u001b[0m\u001b[1;34m'radio.csv'\u001b[0m\u001b[1;33m)\u001b[0m\u001b[1;33m\u001b[0m\u001b[1;33m\u001b[0m\u001b[0m\n\u001b[0m\u001b[0;32m      2\u001b[0m \u001b[0mlines\u001b[0m \u001b[1;33m=\u001b[0m \u001b[0mfile\u001b[0m\u001b[1;33m.\u001b[0m\u001b[0mreadlines\u001b[0m\u001b[1;33m(\u001b[0m\u001b[1;33m)\u001b[0m\u001b[1;33m\u001b[0m\u001b[1;33m\u001b[0m\u001b[0m\n\u001b[0;32m      3\u001b[0m \u001b[1;32mfor\u001b[0m \u001b[0mx\u001b[0m \u001b[1;32min\u001b[0m \u001b[0mrange\u001b[0m \u001b[1;33m(\u001b[0m\u001b[1;36m0\u001b[0m\u001b[1;33m,\u001b[0m \u001b[0mlen\u001b[0m\u001b[1;33m(\u001b[0m\u001b[0mlines\u001b[0m\u001b[1;33m)\u001b[0m\u001b[1;33m)\u001b[0m\u001b[1;33m:\u001b[0m\u001b[1;33m\u001b[0m\u001b[1;33m\u001b[0m\u001b[0m\n\u001b[0;32m      4\u001b[0m     \u001b[0mlines\u001b[0m\u001b[1;33m[\u001b[0m\u001b[0mx\u001b[0m\u001b[1;33m]\u001b[0m \u001b[1;33m=\u001b[0m \u001b[0mlines\u001b[0m\u001b[1;33m[\u001b[0m\u001b[0mx\u001b[0m\u001b[1;33m]\u001b[0m\u001b[1;33m.\u001b[0m\u001b[0mreplace\u001b[0m\u001b[1;33m(\u001b[0m\u001b[1;34m\"\\n\"\u001b[0m\u001b[1;33m,\u001b[0m \u001b[1;34m\"\"\u001b[0m\u001b[1;33m)\u001b[0m\u001b[1;33m\u001b[0m\u001b[1;33m\u001b[0m\u001b[0m\n\u001b[0;32m      5\u001b[0m     \u001b[0mlines\u001b[0m\u001b[1;33m[\u001b[0m\u001b[0mx\u001b[0m\u001b[1;33m]\u001b[0m \u001b[1;33m=\u001b[0m \u001b[0mlines\u001b[0m\u001b[1;33m[\u001b[0m\u001b[0mx\u001b[0m\u001b[1;33m]\u001b[0m\u001b[1;33m.\u001b[0m\u001b[0msplit\u001b[0m\u001b[1;33m(\u001b[0m\u001b[1;34m\",\"\u001b[0m\u001b[1;33m)\u001b[0m\u001b[1;33m\u001b[0m\u001b[1;33m\u001b[0m\u001b[0m\n",
      "\u001b[1;31mFileNotFoundError\u001b[0m: [Errno 2] No such file or directory: 'radio.csv'"
     ]
    }
   ],
   "source": [
    "file = open('radio.csv') \n",
    "lines = file.readlines()\n",
    "for x in range (0, len(lines)):\n",
    "    lines[x] = lines[x].replace(\"\\n\", \"\")\n",
    "    lines[x] = lines[x].split(\",\")\n",
    "    \n",
    "\n",
    "te = TransactionEncoder()\n",
    "te_ary = te.fit(lines).transform(lines)\n",
    "df = pd.DataFrame(te_ary, columns=te.columns_)\n",
    "display(df.head(10))\n",
    "wait = input(\"Pulse intro para Continuar\")\n",
    "clear_output()\n",
    "#Lista de pruebas de soporte y umbral\n",
    "lista_soporte_umbral = ([[0.03, 0.4],\n",
    "                         [0.04, 0.3],\n",
    "                         [0.02, 0.5]])\n",
    "\n",
    "obtener_datos(df, lista_soporte_umbral)"
   ]
  },
  {
   "cell_type": "markdown",
   "metadata": {},
   "source": [
    "### Análisis Resultados"
   ]
  },
  {
   "cell_type": "markdown",
   "metadata": {},
   "source": [
    "##### Soporte = 0.03; Umbral = 0.4"
   ]
  },
  {
   "cell_type": "markdown",
   "metadata": {},
   "source": [
    "Con estos valores podemos observar en primer lugar que solo podeos conseguir hata k=2. Tambien resulta interesante observar que de todas las reglas posibles creadas (37) , la confianza nunca supera el valor del 50%.\n",
    "También es remarcable el hecho de que solo dos reglas tienen un nivel de lift menor que 1, lo que implica que no son reglas buenas, ambas reglas son: whole milk, soda y soda,whole milk.\n",
    "En el gráfico de dispersión podemos observar que las reglas que más confianza poseen son aquellas cuyo antecedente son root vegetables y que aquellas cuyo antecedente es whole milk tienen una confianza bastante baja."
   ]
  },
  {
   "cell_type": "markdown",
   "metadata": {},
   "source": [
    "##### Soporte = 0.04; Umbral = 0.4"
   ]
  },
  {
   "cell_type": "markdown",
   "metadata": {},
   "source": [
    "En este caso, al igual que en el caso anterior, el maximo valor k de los k-itemset que se puede obtener es de k=2.\n",
    "Cabe destacar que con estos valores, debido al incremento del soporte minimo, se reduce el número de reglas creadas de 37 a 17, pero al igual que ocurría en el caso anterior, ninguna de las reglas alcanza un nivel de confianza de por lo menos un 50%. \n",
    "De igual modo, en el gráfico de dispersión, las reglas que generan una mayor confianza son aquellas cuyo antecedente son las root vegetables, y las que menos, las de whole milk. Sin embargo, cuando el consecuente se trata de whole milk los valores de la regla se ven incrementados."
   ]
  },
  {
   "cell_type": "markdown",
   "metadata": {},
   "source": [
    "##### Soporte = 0.05; Umbral = 0.3"
   ]
  },
  {
   "cell_type": "markdown",
   "metadata": {},
   "source": [
    "Al igual que ha ocurrido en los casos anteriores, el valor máximo de k posible es k=2. \n",
    "Se ha producido una reducción más grande del número de reglas encontradas, en este caso solo exitiendo 5. Todas ellas con un valor de lift mayor de 1, ya que las reglas wholw milk,soda y soda,whole milk han desaparecido con estos valores.\n",
    "En este caso, destaca tambien que ya no hay reglas cuyo antecedente sea root vegetables, las cuales eran siempre las que proporcionaban un mayor valor de confianza, aunque podemos observar que ahora la que mayor confianza tiene es la de other vegetables. Viendo los tres ejemplos, podemos entonces afirmar que las que tienen que ver con verduras (root vegetables y other vegetables) como antecedente, son las que nos han arrojado un mayor nivel de confianza. Y que aquellas cullo antecedente es la whole milk, siempre nos ha dado como las de peor nivel de confianza."
   ]
  },
  {
   "cell_type": "markdown",
   "metadata": {},
   "source": [
    "Resulta curioso observar que en todos los casos whole milk como antecedente no suele generar reglas con una cnfianza alta en comparación con el resto, dando como resultado las más bajas. Sin embargo, cuando no es antecedente sino consecuete, los valores mejoran. Es decir que la leche de ese tipo, suele ser un producto que se compra después del resto, los clientes que compran leche en primer lugar no suelen comprar algo más después pero al contrario sí."
   ]
  },
  {
   "cell_type": "markdown",
   "metadata": {},
   "source": [
    "## Apartado 3. Dataset Cancer de mama"
   ]
  },
  {
   "cell_type": "markdown",
   "metadata": {},
   "source": [
    "Se abre el archivo csv y se procede a su transformación para que pueda ser procesado por la librearía de manera correcta. \n",
    "Tras ello se ha creado una lista que contiene diferentes valores de soporte y umbral que se utilizarán a la hora de obtener los datos para su interpretación."
   ]
  },
  {
   "cell_type": "code",
   "execution_count": null,
   "metadata": {
    "scrolled": false
   },
   "outputs": [],
   "source": [
    "file = open(\"Lab2 Recursos/Datos/Cancer Pecho/cancer.csv\") \n",
    "lines = file.readlines()\n",
    "for x in range (0, len(lines)):\n",
    "    lines[x] = lines[x].replace(\"\\n\", \"\")\n",
    "    lines[x] = lines[x].split(\",\")  \n",
    "\n",
    "\n",
    "te = TransactionEncoder()\n",
    "te_ary = te.fit(lines).transform(lines)\n",
    "df = pd.DataFrame(te_ary, columns=te.columns_)\n",
    "display(df.head(10))\n",
    "wait = input(\"Pulse intro para Continuar\")\n",
    "clear_output()\n",
    "#Lista de pruebas de soporte y umbral\n",
    "lista_soporte_umbral = ([[0.5, 0.7],\n",
    "                         [0.6, 0.6],\n",
    "                         [0.4, 0.5]])\n",
    "\n",
    "obtener_datos(df, lista_soporte_umbral)"
   ]
  },
  {
   "cell_type": "markdown",
   "metadata": {},
   "source": [
    "### Análisis Resultados"
   ]
  },
  {
   "cell_type": "markdown",
   "metadata": {},
   "source": [
    "##### Soporte = 0.5; Umbral = 0.7"
   ]
  },
  {
   "cell_type": "markdown",
   "metadata": {},
   "source": [
    "Podemos observar que el máximo valor posible para k es K=3. Se han generado 12 reglas en total, todas ellas poseen un valor de lift superior a 1 y una gran confianza. \n",
    "Del gráfico de dispersión destaca principalmente que los mayores valores de confianza se obtienen cuando el consecuente es \"no\", que es el valor de la etiqueta node-caps. De ellos, la mayoria tienen como antecedente no-recurrence-events, siendo estas reglas las que nos presentan unos valores ligeramente mayores al resto."
   ]
  },
  {
   "cell_type": "markdown",
   "metadata": {},
   "source": [
    "##### Soporte = 0.6; Umbral = 0.6"
   ]
  },
  {
   "cell_type": "markdown",
   "metadata": {},
   "source": [
    "En esta configuración se ha visto reducido el valor de K a k=2. De igual forma se ha reducido el numero de reglas hasta 4. Al igual que ocurría con la configuración anterior, tenemos valores de confianza considerablemente grandes, siendo el mínimo 0.73. \n",
    "Podemos observar tambien, en el gráfico de dispersión, que la regla cuyo antecedente es 0-2 (inv-nodes) es aquel que nos presenta una mayor confianza e igual que anteriormente cuando el consecuente es no (node-caps) tenemos las dos reglas de mayor confianza pero sin embargo, cuando es el consecuente, son las dos que menos confianza poseen."
   ]
  },
  {
   "cell_type": "markdown",
   "metadata": {},
   "source": [
    "##### Soporte = 0.4; Umbral = 0.5"
   ]
  },
  {
   "cell_type": "markdown",
   "metadata": {},
   "source": [
    "En este último caso, se genera como máximo valor de k-itemself k=3. Al bajar el valor del soporte mínimo, veos como han aparecido mas reglas que en los apartados anteriores, 22 reglas. Podemos observar en el gráfico de barras que pr primera vez aparecen reglas cuyo lift es menor que 1 estas reglas son: no,left y left,no (node-caps y breast). Cando node-caps = no, es el item que genera un mayor número de reglas, y al igual que ocurría en los apartados anteriores, cambia radicalmente dependienddo de si se trata de antecedente (teniendo los valores de confianza más bajos) o consecuente (dando como resultado los valores más altos)."
   ]
  }
 ],
 "metadata": {
  "kernelspec": {
   "display_name": "Python 3",
   "language": "python",
   "name": "python3"
  },
  "language_info": {
   "codemirror_mode": {
    "name": "ipython",
    "version": 3
   },
   "file_extension": ".py",
   "mimetype": "text/x-python",
   "name": "python",
   "nbconvert_exporter": "python",
   "pygments_lexer": "ipython3",
   "version": "3.7.6"
  }
 },
 "nbformat": 4,
 "nbformat_minor": 2
}
