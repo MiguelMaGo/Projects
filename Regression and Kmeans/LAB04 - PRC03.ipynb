{
 "cells": [
  {
   "cell_type": "code",
   "execution_count": 6,
   "metadata": {},
   "outputs": [],
   "source": [
    "import numpy as np\n",
    "import matplotlib.pyplot as plt\n",
    "import pandas as pd\n",
    "import scipy.stats\n",
    "from sklearn import linear_model\n",
    "import statsmodels.api as sm\n",
    "from sklearn.model_selection import train_test_split\n",
    "import statsmodels.api as sm #Para ver el efecto de las variables"
   ]
  },
  {
   "cell_type": "markdown",
   "metadata": {},
   "source": [
    "Se lee el dataset y se realizan los diferentes ajustes para obtener aquelos datos que nos son relevantes. Es decir, la temperatura, humedad, viento, lluvia y el area afectada por los incendios. También se eliminan datos duplicados y aquellos que sean del tipo NAN."
   ]
  },
  {
   "cell_type": "code",
   "execution_count": 7,
   "metadata": {
    "scrolled": true
   },
   "outputs": [],
   "source": [
    "df = pd.read_csv(\"incendios.csv\")\n",
    "df = df.drop_duplicates()\n",
    "df = df.dropna()\n",
    "df = df.drop(columns= ['X', 'Y', 'month', 'day', 'FFMC', 'DMC', 'DC', 'ISI'])"
   ]
  },
  {
   "cell_type": "markdown",
   "metadata": {},
   "source": [
    "Queremos ver cuales de las variables dependientes son las mejores para la predicción mediante modelos de regresión. Se utiliza el metodo de minimos cuadrados OSL que se encuentra en la libreria statsmodel.api"
   ]
  },
  {
   "cell_type": "code",
   "execution_count": 8,
   "metadata": {},
   "outputs": [
    {
     "data": {
      "text/html": [
       "<table class=\"simpletable\">\n",
       "<caption>OLS Regression Results</caption>\n",
       "<tr>\n",
       "  <th>Dep. Variable:</th>          <td>area</td>       <th>  R-squared (uncentered):</th>      <td>   0.050</td>\n",
       "</tr>\n",
       "<tr>\n",
       "  <th>Model:</th>                   <td>OLS</td>       <th>  Adj. R-squared (uncentered):</th> <td>   0.043</td>\n",
       "</tr>\n",
       "<tr>\n",
       "  <th>Method:</th>             <td>Least Squares</td>  <th>  F-statistic:       </th>          <td>   6.739</td>\n",
       "</tr>\n",
       "<tr>\n",
       "  <th>Date:</th>             <td>Tue, 03 Dec 2019</td> <th>  Prob (F-statistic):</th>          <td>2.73e-05</td>\n",
       "</tr>\n",
       "<tr>\n",
       "  <th>Time:</th>                 <td>19:36:39</td>     <th>  Log-Likelihood:    </th>          <td> -2857.1</td>\n",
       "</tr>\n",
       "<tr>\n",
       "  <th>No. Observations:</th>      <td>   513</td>      <th>  AIC:               </th>          <td>   5722.</td>\n",
       "</tr>\n",
       "<tr>\n",
       "  <th>Df Residuals:</th>          <td>   509</td>      <th>  BIC:               </th>          <td>   5739.</td>\n",
       "</tr>\n",
       "<tr>\n",
       "  <th>Df Model:</th>              <td>     4</td>      <th>                     </th>              <td> </td>   \n",
       "</tr>\n",
       "<tr>\n",
       "  <th>Covariance Type:</th>      <td>nonrobust</td>    <th>                     </th>              <td> </td>   \n",
       "</tr>\n",
       "</table>\n",
       "<table class=\"simpletable\">\n",
       "<tr>\n",
       "    <td></td>      <th>coef</th>     <th>std err</th>      <th>t</th>      <th>P>|t|</th>  <th>[0.025</th>    <th>0.975]</th>  \n",
       "</tr>\n",
       "<tr>\n",
       "  <th>temp</th> <td>    0.8476</td> <td>    0.292</td> <td>    2.899</td> <td> 0.004</td> <td>    0.273</td> <td>    1.422</td>\n",
       "</tr>\n",
       "<tr>\n",
       "  <th>RH</th>   <td>   -0.1606</td> <td>    0.131</td> <td>   -1.225</td> <td> 0.221</td> <td>   -0.418</td> <td>    0.097</td>\n",
       "</tr>\n",
       "<tr>\n",
       "  <th>wind</th> <td>    1.0439</td> <td>    1.418</td> <td>    0.736</td> <td> 0.462</td> <td>   -1.742</td> <td>    3.830</td>\n",
       "</tr>\n",
       "<tr>\n",
       "  <th>rain</th> <td>   -2.2904</td> <td>    9.502</td> <td>   -0.241</td> <td> 0.810</td> <td>  -20.958</td> <td>   16.378</td>\n",
       "</tr>\n",
       "</table>\n",
       "<table class=\"simpletable\">\n",
       "<tr>\n",
       "  <th>Omnibus:</th>       <td>969.840</td> <th>  Durbin-Watson:     </th>  <td>   1.642</td> \n",
       "</tr>\n",
       "<tr>\n",
       "  <th>Prob(Omnibus):</th> <td> 0.000</td>  <th>  Jarque-Bera (JB):  </th> <td>773133.538</td>\n",
       "</tr>\n",
       "<tr>\n",
       "  <th>Skew:</th>          <td>12.625</td>  <th>  Prob(JB):          </th>  <td>    0.00</td> \n",
       "</tr>\n",
       "<tr>\n",
       "  <th>Kurtosis:</th>      <td>191.501</td> <th>  Cond. No.          </th>  <td>    170.</td> \n",
       "</tr>\n",
       "</table><br/><br/>Warnings:<br/>[1] Standard Errors assume that the covariance matrix of the errors is correctly specified."
      ],
      "text/plain": [
       "<class 'statsmodels.iolib.summary.Summary'>\n",
       "\"\"\"\n",
       "                                 OLS Regression Results                                \n",
       "=======================================================================================\n",
       "Dep. Variable:                   area   R-squared (uncentered):                   0.050\n",
       "Model:                            OLS   Adj. R-squared (uncentered):              0.043\n",
       "Method:                 Least Squares   F-statistic:                              6.739\n",
       "Date:                Tue, 03 Dec 2019   Prob (F-statistic):                    2.73e-05\n",
       "Time:                        19:36:39   Log-Likelihood:                         -2857.1\n",
       "No. Observations:                 513   AIC:                                      5722.\n",
       "Df Residuals:                     509   BIC:                                      5739.\n",
       "Df Model:                           4                                                  \n",
       "Covariance Type:            nonrobust                                                  \n",
       "==============================================================================\n",
       "                 coef    std err          t      P>|t|      [0.025      0.975]\n",
       "------------------------------------------------------------------------------\n",
       "temp           0.8476      0.292      2.899      0.004       0.273       1.422\n",
       "RH            -0.1606      0.131     -1.225      0.221      -0.418       0.097\n",
       "wind           1.0439      1.418      0.736      0.462      -1.742       3.830\n",
       "rain          -2.2904      9.502     -0.241      0.810     -20.958      16.378\n",
       "==============================================================================\n",
       "Omnibus:                      969.840   Durbin-Watson:                   1.642\n",
       "Prob(Omnibus):                  0.000   Jarque-Bera (JB):           773133.538\n",
       "Skew:                          12.625   Prob(JB):                         0.00\n",
       "Kurtosis:                     191.501   Cond. No.                         170.\n",
       "==============================================================================\n",
       "\n",
       "Warnings:\n",
       "[1] Standard Errors assume that the covariance matrix of the errors is correctly specified.\n",
       "\"\"\""
      ]
     },
     "execution_count": 8,
     "metadata": {},
     "output_type": "execute_result"
    }
   ],
   "source": [
    "target = pd.DataFrame(df['area']) # Variable dependiente, aquella que vamos a predecir\n",
    "datos = df.drop(columns = ['area']) # Variables independientes\n",
    "model = sm.OLS(target, datos).fit()\n",
    "predictions = model.predict(datos)\n",
    "model.summary()"
   ]
  },
  {
   "cell_type": "markdown",
   "metadata": {},
   "source": [
    "Nos fijamos en la columa \"coef\" y podemos ver que  el viento y la temperatura son las dos variables que mas afectan positivamente. Sien embargo, la lluvia es la que afecta en mayor medida de todas, aunque lo hace de manera negativa."
   ]
  },
  {
   "cell_type": "markdown",
   "metadata": {},
   "source": [
    "### Modelo 1 de 2 variables"
   ]
  },
  {
   "cell_type": "markdown",
   "metadata": {},
   "source": [
    "Como primer modelo, se va a realizar teniendo en cuenta las variables viento y temperatura. Por lo que se debe modificar los datos de manera que se tengan solamente esas dos columnas. El target será el mismo para todos los modelos."
   ]
  },
  {
   "cell_type": "code",
   "execution_count": 9,
   "metadata": {},
   "outputs": [],
   "source": [
    "datos1 = datos.drop(columns= ['RH', 'rain']) #Eliminamos las columnas que no utilizaremos."
   ]
  },
  {
   "cell_type": "code",
   "execution_count": 10,
   "metadata": {},
   "outputs": [],
   "source": [
    "#Creamos los conjuntos de entrenamiento y test\n",
    "x_train, x_test, y_train, y_test = train_test_split(datos1, target, test_size=0.2)"
   ]
  },
  {
   "cell_type": "code",
   "execution_count": 11,
   "metadata": {},
   "outputs": [],
   "source": [
    "modelo = linear_model.LinearRegression()\n",
    "regres = modelo.fit(datos1,target)"
   ]
  },
  {
   "cell_type": "code",
   "execution_count": 12,
   "metadata": {},
   "outputs": [
    {
     "name": "stdout",
     "output_type": "stream",
     "text": [
      "Coeficiente de determinación:  0.010943583064457196\n",
      "Interccepto:  [-14.46180417]\n",
      "Coeficientes:  [[1.16904091 1.31481843]]\n"
     ]
    }
   ],
   "source": [
    "print('Coeficiente de determinación: ', modelo.score(datos1,target))\n",
    "print('Interccepto: ', modelo.intercept_)\n",
    "print('Coeficientes: ', modelo.coef_)"
   ]
  },
  {
   "cell_type": "markdown",
   "metadata": {},
   "source": [
    "Como se puede observar, este modelo posee un valor testimonial de coeficiente de determinación: 1.094%. Esto quiere decir que el ajuste es muy pequeño.\n",
    "Ambas variables independientes poseen un valor alto de coeficiente, es decir, que ambas influyen en gran media sobre el valor de la variable dependiente, existiendo una relación lienea positiva entre ellas."
   ]
  },
  {
   "cell_type": "markdown",
   "metadata": {},
   "source": [
    "### Modelo 2 de 2 variables\n"
   ]
  },
  {
   "cell_type": "markdown",
   "metadata": {},
   "source": [
    "En el caso de este modelo, se han cogido como variables la temperatura y la humedad."
   ]
  },
  {
   "cell_type": "code",
   "execution_count": 13,
   "metadata": {},
   "outputs": [],
   "source": [
    "datos2 = datos.drop(columns= ['wind', 'rain']) #Se eliminan las columans que no se utilicen"
   ]
  },
  {
   "cell_type": "code",
   "execution_count": 14,
   "metadata": {},
   "outputs": [
    {
     "name": "stdout",
     "output_type": "stream",
     "text": [
      "Coeficiente de determinación:  0.01041609847886349\n",
      "Intercepto:  [1.78648734]\n",
      "Coeficientes:  [[ 0.88748945 -0.12756492]]\n"
     ]
    }
   ],
   "source": [
    "#Creamos los conjuntos de entrenamiento y test\n",
    "x_train, x_test, y_train, y_test = train_test_split(datos2, target, test_size=0.2)\n",
    "modelo2 = linear_model.LinearRegression()\n",
    "regres2 = modelo2.fit(datos2,target)\n",
    "print('Coeficiente de determinación: ', modelo2.score(datos2,target))\n",
    "print('Intercepto: ', modelo2.intercept_)\n",
    "print('Coeficientes: ', modelo2.coef_)"
   ]
  },
  {
   "cell_type": "markdown",
   "metadata": {},
   "source": [
    "Como se puede observar, este modelo posee un valor testimonial de coeficiente de determinación: 1.04%. Esto quiere decir que el ajuste es muy pequeño Más pequeño que en el acso anterior.\n",
    "Por último, tal y como era de esperar, la temperatura influye más que la humedad relativa, la cual tiene un valor mu pequeño y podría decirse que no influye sobre la variable dependiente."
   ]
  },
  {
   "cell_type": "markdown",
   "metadata": {},
   "source": [
    "### Modelo 1 de 3 variables"
   ]
  },
  {
   "cell_type": "markdown",
   "metadata": {},
   "source": [
    "En este primer modelo de 3 variables se van a proceder a utilizar las variables que se ha visto anteriormente que infuian más positivamente. es decir, en primer lugar desperdiciaremos los datos de la lluvia."
   ]
  },
  {
   "cell_type": "code",
   "execution_count": 15,
   "metadata": {},
   "outputs": [],
   "source": [
    "datos1_3 = datos.drop(columns= ['rain']) # Se eliminan las columans que no se utilicen"
   ]
  },
  {
   "cell_type": "code",
   "execution_count": 16,
   "metadata": {},
   "outputs": [
    {
     "name": "stdout",
     "output_type": "stream",
     "text": [
      "Coeficiente de determinación:  0.011600923811958319\n",
      "Intercepto:  [-5.612408]\n",
      "Coeficientes:  [[ 0.98978167 -0.1181779   1.25932209]]\n"
     ]
    }
   ],
   "source": [
    "#Creamos los conjuntos de entrenamiento y test\n",
    "x_train, x_test, y_train, y_test = train_test_split(datos1_3, target, test_size=0.25)\n",
    "modelo1_3 = linear_model.LinearRegression()\n",
    "regres1_3 = modelo1_3.fit(datos1_3,target)\n",
    "print('Coeficiente de determinación: ', modelo1_3.score(datos1_3,target))\n",
    "print('Intercepto: ', modelo1_3.intercept_)\n",
    "print('Coeficientes: ', modelo1_3.coef_)"
   ]
  },
  {
   "cell_type": "markdown",
   "metadata": {},
   "source": [
    "Como se puede observar, este modelo posee un valor muy pequeño de coeficiente de determinación lo que quiere decir que el ajuste existente es pequeño. Cuanto más cerca de 1 mejor resultaos de predicción dará el modelo.\n",
    "Podemos observar que la variable que más afecta es el viento seguido de la temperatura, teniendo a la hudad con un valor que casi podría decirse que no afecta a la variable dependiente."
   ]
  },
  {
   "cell_type": "markdown",
   "metadata": {},
   "source": [
    "### Modelo 2 de 3 variables"
   ]
  },
  {
   "cell_type": "markdown",
   "metadata": {},
   "source": [
    "En este segundo  modelo se utilizarán las variables de temperatura, lluvia y viento, dejando de lado la humedad."
   ]
  },
  {
   "cell_type": "code",
   "execution_count": 17,
   "metadata": {},
   "outputs": [],
   "source": [
    "datos2_3 = datos.drop(columns= ['RH']) #Se eliminan las columans que no se utilicen"
   ]
  },
  {
   "cell_type": "code",
   "execution_count": 18,
   "metadata": {},
   "outputs": [
    {
     "name": "stdout",
     "output_type": "stream",
     "text": [
      "Coeficiente de determinación:  0.011239470271066976\n",
      "Interccepto:  [-14.89722176]\n",
      "Coeficientes:  [[ 1.18574457  1.36497177 -3.71991364]]\n"
     ]
    }
   ],
   "source": [
    "x_train, x_test, y_train, y_test = train_test_split(datos2_3, target, test_size=0.25)\n",
    "modelo2_3 = linear_model.LinearRegression()\n",
    "regres2_3 = modelo2_3.fit(datos2_3,target)\n",
    "print('Coeficiente de determinación: ', modelo2_3.score(datos2_3,target))\n",
    "print('Interccepto: ', modelo2_3.intercept_)\n",
    "print('Coeficientes: ', modelo2_3.coef_)"
   ]
  },
  {
   "cell_type": "markdown",
   "metadata": {},
   "source": [
    "Tal y como pasaba en el modelo anterior, este modelo posee un valor muy pequeño de coeficiente de determinación lo que quiere decir que el ajuste existente es pequeño. Cuanto más cerca de 1 mejor resultaos de predicción dará el modelo.\n",
    "Podemos observar que la variable que más afecta en este caso es la lluvia y de manera negativa (existe una relación lineal negativa entre las dos variables) con un valor realmente alto en comparación con el modelo anterior.Destaca como principal diferencia del caso anterior que todas las variables influyen en gran medida sobre la variable dependiente."
   ]
  },
  {
   "cell_type": "markdown",
   "metadata": {},
   "source": [
    "Se cogerá como mejor modelo aque que tenga un mayor valor de coeficiente de determinación, lo que implica que ese modelo está mejor ajustado. En este caso el valor es muy parecido, y el mayoe es el primer modelo con un valor del 1.16%\n",
    "\n",
    "Al tratarse de un modelo de 3 variables independientes, no puede dibujarse, porque eso implica 4 dimensiones, ya que tambien hay que tener en cuenta la variable dependiente"
   ]
  },
  {
   "cell_type": "code",
   "execution_count": null,
   "metadata": {},
   "outputs": [],
   "source": []
  },
  {
   "cell_type": "markdown",
   "metadata": {},
   "source": [
    "### Análisis de residuos"
   ]
  },
  {
   "cell_type": "markdown",
   "metadata": {},
   "source": [
    "Se procede a realizar el calculo de los diferente valores del análisis de residuos. Es decir, el Residuo ordinario, SCT, SCR, y SCE.\n",
    "Para ello se crea una lista donde se irán realizando las operaciones de cada una de ellas valor a valor, almacenandose en listas. Posteriormente se realiza el sumatorio de esos valores y se eleva al cuadrado para obtener el valor deseado."
   ]
  },
  {
   "cell_type": "code",
   "execution_count": 215,
   "metadata": {},
   "outputs": [
    {
     "name": "stdout",
     "output_type": "stream",
     "text": [
      "El residuo total es:  1.979296187410211e-24\n",
      "El sct es:  6.097836737195797e-23\n",
      "El sce es:  1.979296187410211e-24\n",
      "El scr es:  1.4249478520933016e-24\n"
     ]
    }
   ],
   "source": [
    "res=list()\n",
    "pred= modelo1_3.predict(datos1_3)\n",
    "sct= list ()\n",
    "media = target.mean()[0] # La media de las Y\n",
    "sce = list ()\n",
    "scr = list ()\n",
    "\n",
    "# Bucle para calcular los valores necesarios en las formulas del Análisis de residuos.\n",
    "for i in range(0,len(datos1_3)):\n",
    "    res.append((target.iloc[i] - pred[i]))# Y - Y predicha\n",
    "    sct.append((target.iloc[i] - media))# Y - Media(Y)\n",
    "    sce.append((target.iloc[i] - pred[i]))# Y - Y predicha\n",
    "    scr.append((pred[i] - media))# Y predicha - Media(Y)\n",
    "\n",
    "# Para cada uno de ellos se realiza su sumatorio y se eleva al cuadrado para completar la fórmula que loas calcula\n",
    "res=sum(res)[0]**2\n",
    "sct=sum(sct)[0]**2\n",
    "sce=sum(sce)[0]**2\n",
    "scr=sum(scr)[0]**2\n",
    "print ('El residuo total es: ', res)\n",
    "print ('El sct es: ', sct)\n",
    "print ('El sce es: ', sce)\n",
    "print ('El scr es: ', scr)"
   ]
  },
  {
   "cell_type": "markdown",
   "metadata": {},
   "source": [
    "El valor de SCT indica la variabilidad total de una variable que estamos intentando explicar o estimar,es decir, que con un malor tan pequeño, indica que los valores de la variable Y (target) no son muy variables, no están muy dispersos.\n",
    "El valor del SCR indica la variabilidad de los valores de la variables a predecir Y respecto al modelo, es decir respecto a la regresión. Al ser un valor pequeño, indica que no hay mucha dispersión entre los valores.\n",
    "El valor SCE indica la variabilidad de la variable dependiente Y respecto de las variables independientes (datos). Al ser un valor tan pequeño podemos decir que esa variación es muy pequeña."
   ]
  },
  {
   "cell_type": "markdown",
   "metadata": {},
   "source": [
    "### Intervalos de confianza"
   ]
  },
  {
   "cell_type": "code",
   "execution_count": 4,
   "metadata": {},
   "outputs": [],
   "source": [
    "#mirar scipy.stats.t"
   ]
  },
  {
   "cell_type": "code",
   "execution_count": null,
   "metadata": {},
   "outputs": [],
   "source": []
  }
 ],
 "metadata": {
  "kernelspec": {
   "display_name": "Python 3",
   "language": "python",
   "name": "python3"
  },
  "language_info": {
   "codemirror_mode": {
    "name": "ipython",
    "version": 3
   },
   "file_extension": ".py",
   "mimetype": "text/x-python",
   "name": "python",
   "nbconvert_exporter": "python",
   "pygments_lexer": "ipython3",
   "version": "3.7.6"
  }
 },
 "nbformat": 4,
 "nbformat_minor": 2
}
