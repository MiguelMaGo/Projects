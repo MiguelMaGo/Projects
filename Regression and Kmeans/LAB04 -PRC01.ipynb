{
 "cells": [
  {
   "cell_type": "code",
   "execution_count": 153,
   "metadata": {},
   "outputs": [],
   "source": [
    "import numpy as np\n",
    "import pandas as pd\n",
    "import matplotlib.pyplot as plt\n",
    "from sklearn import linear_model\n",
    "from sklearn.model_selection import train_test_split"
   ]
  },
  {
   "cell_type": "code",
   "execution_count": 154,
   "metadata": {},
   "outputs": [
    {
     "name": "stdout",
     "output_type": "stream",
     "text": [
      "Temperatura Media (C)           object\n",
      "Temperatura Minima (C)          object\n",
      "Temperatura Maxima (C)          object\n",
      "Precipitaciones (mm)            object\n",
      "Fin de Semana                  float64\n",
      "Consumo de cerveza (litros)    float64\n",
      "dtype: object\n"
     ]
    }
   ],
   "source": [
    "df= pd.read_csv('Consumo_cerveza.csv',index_col=0)\n",
    "df = df.drop_duplicates() # elimina datos dulicados\n",
    "df = df.dropna() # elimina NAN\n",
    "print (df.dtypes)"
   ]
  },
  {
   "cell_type": "markdown",
   "metadata": {},
   "source": [
    "El objetivo de los modelos es predecir el consumo de litros de cerveza, por ello se establecerá como target."
   ]
  },
  {
   "cell_type": "code",
   "execution_count": 155,
   "metadata": {},
   "outputs": [],
   "source": [
    "target = pd.DataFrame(df['Consumo de cerveza (litros)'])"
   ]
  },
  {
   "cell_type": "markdown",
   "metadata": {},
   "source": [
    "### Ejercicio 1"
   ]
  },
  {
   "cell_type": "markdown",
   "metadata": {},
   "source": [
    "Podemos observar que las variables independientes que vamos a utilizar, se encuentran en un tipo de dato no numerico, por lo que necesitamos transformarlas para poder utilizarlas."
   ]
  },
  {
   "cell_type": "code",
   "execution_count": 156,
   "metadata": {},
   "outputs": [],
   "source": [
    "df['Temperatura Minima (C)'] = (df['Temperatura Minima (C)'].str.split()).apply(lambda x: float(x[0].replace(',', '.')))\n",
    "df['Temperatura Maxima (C)'] = (df['Temperatura Maxima (C)'].str.split()).apply(lambda x: float(x[0].replace(',', '.')))"
   ]
  },
  {
   "cell_type": "markdown",
   "metadata": {},
   "source": [
    "### Consumo según temperatura mínima"
   ]
  },
  {
   "cell_type": "markdown",
   "metadata": {},
   "source": [
    "Se va a realizar un modelo de regresión lineal simple, tomando como variable independiente la temperatura minima "
   ]
  },
  {
   "cell_type": "code",
   "execution_count": 157,
   "metadata": {},
   "outputs": [],
   "source": [
    "datos1 = pd.DataFrame(df['Temperatura Minima (C)'])"
   ]
  },
  {
   "cell_type": "code",
   "execution_count": 158,
   "metadata": {},
   "outputs": [],
   "source": [
    "#Creamos los conjuntos de entrenamiento y test\n",
    "x_train, x_test, y_train, y_test = train_test_split(datos1, target, test_size=0.2)"
   ]
  },
  {
   "cell_type": "code",
   "execution_count": 159,
   "metadata": {},
   "outputs": [
    {
     "name": "stdout",
     "output_type": "stream",
     "text": [
      "Coeficiente de determinación:  0.1540631083123537\n",
      "Interccepto:  [14.73307043]\n",
      "Coeficientes:  [[0.61096562]]\n"
     ]
    }
   ],
   "source": [
    "modelo1 = linear_model.LinearRegression()\n",
    "regres1 = modelo1.fit(datos1,target)\n",
    "coef_deter= modelo1.score(datos1,target)\n",
    "coeficiente = modelo1.coef_\n",
    "print('Coeficiente de determinación: ', coef_deter)\n",
    "print('Interccepto: ', modelo1.intercept_)\n",
    "print('Coeficientes: ', coeficiente)"
   ]
  },
  {
   "cell_type": "code",
   "execution_count": 160,
   "metadata": {},
   "outputs": [
    {
     "data": {
      "image/png": "[encoded data removed]",
      "text/plain": [
       "<Figure size 432x288 with 1 Axes>"
      ]
     },
     "metadata": {
      "needs_background": "light"
     },
     "output_type": "display_data"
    }
   ],
   "source": [
    "predicciones = modelo1.predict(datos1)\n",
    "plt.scatter(datos1, target)\n",
    "plt.title('Litros consumidos según Tº Minima')\n",
    "plt.plot(datos1, predicciones, color='red')\n",
    "plt.xlabel('Tempeatura Mínima (C)')\n",
    "plt.ylabel('Consumo litros')\n",
    "plt.legend([\"Regresión\", \"Litros según temperatura mínima \"])\n",
    "plt.grid(True)\n",
    "plt.show()"
   ]
  },
  {
   "cell_type": "markdown",
   "metadata": {},
   "source": [
    "Se puede observar en los datos obtenidoos del modelo, que es un modelo con un valor bajo de coeficiente de correlación, un 15.4%, lo que implica un ajuste pequeño, es decir, que la predicción es acertada en ese porcentaje. Por ultimo, vemos que la temperatura mínima tiene una relación lineal positiva de 0.6109, es decir que cuando el consumo aument en 1 unidad, la temperatura lo hace en 0.6109 unidades."
   ]
  },
  {
   "cell_type": "markdown",
   "metadata": {},
   "source": [
    "##### Predicciones para difeentes valores de temperaturas minimas"
   ]
  },
  {
   "cell_type": "code",
   "execution_count": 293,
   "metadata": {},
   "outputs": [
    {
     "name": "stdout",
     "output_type": "stream",
     "text": [
      "La consumición cuando la temperatura mínima es de  [14] se consumen  [23.28658913]\n",
      "La consumición cuando la temperatura mínima es de  [16] se consumen  [24.50852038]\n",
      "La consumición cuando la temperatura mínima es de  [22] se consumen  [28.17431411]\n",
      "La consumición cuando la temperatura mínima es de  [12] se consumen  [22.06465789]\n"
     ]
    }
   ],
   "source": [
    "temps = [[14], [16], [22], [12]]\n",
    "predicion = modelo1.predict(temps)\n",
    "for x in range (0, len(predicion)):\n",
    "    if x== 0:\n",
    "        print(\"La consumición cuando la temperatura mínima es de \", temps[x], \"grados, se consumen \", predicion[x])\n",
    "    elif x== 1:\n",
    "        print(\"La consumición cuando la temperatura mínima es de \", temps[x], \"grados se consumen \", predicion[x])\n",
    "    elif x== 2:\n",
    "        print(\"La consumición cuando la temperatura mínima es de \", temps[x], \"grados se consumen \", predicion[x])\n",
    "    else:\n",
    "        print(\"La consumición cuando la temperatura mínima es de \", temps[x], \"grados se consumen \", predicion[x])"
   ]
  },
  {
   "cell_type": "markdown",
   "metadata": {},
   "source": [
    "### Consumo según temperatura máxima"
   ]
  },
  {
   "cell_type": "code",
   "execution_count": 161,
   "metadata": {},
   "outputs": [
    {
     "name": "stdout",
     "output_type": "stream",
     "text": [
      "Coeficiente de determinación:  0.413027909953363\n",
      "Interccepto:  [7.97493938]\n",
      "Coeficientes:  [[0.65484558]]\n"
     ]
    }
   ],
   "source": [
    "datos2 = pd.DataFrame(df['Temperatura Maxima (C)'])\n",
    "modelo2 = linear_model.LinearRegression()\n",
    "regres = modelo2.fit(datos2,target)\n",
    "coef_deter2= modelo2.score(datos2,target)\n",
    "coeficiente2 = modelo2.coef_\n",
    "print('Coeficiente de determinación: ', coef_deter2)\n",
    "print('Interccepto: ', modelo2.intercept_)\n",
    "print('Coeficientes: ', coeficiente2)"
   ]
  },
  {
   "cell_type": "code",
   "execution_count": 162,
   "metadata": {},
   "outputs": [
    {
     "data": {
      "image/png": "[encoded data removed]",
      "text/plain": [
       "<Figure size 432x288 with 1 Axes>"
      ]
     },
     "metadata": {
      "needs_background": "light"
     },
     "output_type": "display_data"
    }
   ],
   "source": [
    "predicciones2 = modelo2.predict(datos2)\n",
    "plt.scatter(datos2, target)\n",
    "plt.title('Litros consumidos según Tº Minima')\n",
    "plt.plot(datos2, predicciones2, color='red')\n",
    "plt.xlabel('Tempeatura Máxima (C)')\n",
    "plt.ylabel('Consumo litros')\n",
    "plt.legend([\"Regresión\", \"Litros según temperatura máxima \"])\n",
    "plt.grid(True)\n",
    "plt.show()"
   ]
  },
  {
   "cell_type": "markdown",
   "metadata": {},
   "source": [
    "Se puede observar en los datos obtenidoos del modelo, que es un modelo con un valor medio de coeficiente de correlación, un 41.3%, lo que implica un ajuste decente, es decir, que la predicción es acertada en ese porcentaje de veces.\n",
    "Por ultimo, vemos que la temperatura mínima tiene una relación lineal positiva de 0.6548, es decir que cuando el consumo aument en 1 unidad, la temperatura lo hace en 0.6548 unidades.\n",
    "\n",
    "Entre ambos modelos destaca que el segundo de ellos tiene una tasa mayor de acierto y está mejor ajustado. Tambien que la temperatura maxima influye un poco más que la mínima a la hora de consumir cerveza."
   ]
  },
  {
   "cell_type": "markdown",
   "metadata": {},
   "source": [
    "#### Predicciones para diferente valores de temperatura maxima"
   ]
  },
  {
   "cell_type": "code",
   "execution_count": 300,
   "metadata": {},
   "outputs": [
    {
     "name": "stdout",
     "output_type": "stream",
     "text": [
      "La consumición cuando la temperatura máxima es de  [14] grados, se consumen  [17.14277756] litros de cerveza \n",
      "La consumición cuando la temperatura máxima es de  [34] grados se consumen  [30.23968924] litros de cerveza \n",
      "La consumición cuando la temperatura máxima es de  [25.2] grados se consumen  [24.4770481] litros de cerveza \n",
      "La consumición cuando la temperatura máxima es de  [28] grados se consumen  [26.31061573] litros de cerveza \n"
     ]
    }
   ],
   "source": [
    "tempsMax = [[14], [34], [25.2], [28]]\n",
    "predicion2 = modelo2.predict(tempsMax)\n",
    "for x in range (0, len(predicion2)):\n",
    "    if x== 0:\n",
    "        print(\"La consumición cuando la temperatura máxima es de \", tempsMax[x], \"grados, se consumen \", predicion2[x], \"litros de cerveza \")\n",
    "    elif x== 1:\n",
    "        print(\"La consumición cuando la temperatura máxima es de \", tempsMax[x], \"grados se consumen \", predicion2[x], \"litros de cerveza \")\n",
    "    elif x== 2:\n",
    "        print(\"La consumición cuando la temperatura máxima es de \", tempsMax[x], \"grados se consumen \", predicion2[x], \"litros de cerveza \")\n",
    "    else:\n",
    "        print(\"La consumición cuando la temperatura máxima es de \", tempsMax[x], \"grados se consumen \", predicion2[x], \"litros de cerveza \")"
   ]
  },
  {
   "cell_type": "markdown",
   "metadata": {},
   "source": [
    "### Ejercicio 2"
   ]
  },
  {
   "cell_type": "markdown",
   "metadata": {},
   "source": [
    "Al igual que ocurria en los modelos anteriores, la variable independiente hay que transformarla a un tipo que se pueda utilizar en el modelo de regreión"
   ]
  },
  {
   "cell_type": "code",
   "execution_count": 163,
   "metadata": {},
   "outputs": [],
   "source": [
    "df['Precipitaciones (mm)'] = (df['Precipitaciones (mm)'].str.split()).apply(lambda x: float(x[0].replace(',', '.')))"
   ]
  },
  {
   "cell_type": "code",
   "execution_count": 166,
   "metadata": {},
   "outputs": [],
   "source": [
    "datos_lluvia=pd.DataFrame(df['Precipitaciones (mm)'])"
   ]
  },
  {
   "cell_type": "code",
   "execution_count": 169,
   "metadata": {},
   "outputs": [
    {
     "name": "stdout",
     "output_type": "stream",
     "text": [
      "Coeficiente de determinación:  0.03755235653680466\n",
      "Interccepto:  [25.75812135]\n",
      "Coeficientes:  [[-0.06864999]]\n"
     ]
    }
   ],
   "source": [
    "modelo_precip = linear_model.LinearRegression()\n",
    "regres_precip = modelo_precip.fit(datos_lluvia,target)\n",
    "coef_deter_lluvia =  modelo_precip.score(datos_lluvia,target)\n",
    "coeficiente_lluvia = modelo_precip.coef_\n",
    "print('Coeficiente de determinación: ',coef_deter_lluvia)\n",
    "print('Interccepto: ', modelo_precip.intercept_)\n",
    "print('Coeficientes: ', coeficiente_lluvia)"
   ]
  },
  {
   "cell_type": "markdown",
   "metadata": {},
   "source": [
    "Se puede observar que en este caso, la variable independiente(precipitaciones) posee una relacion lineal negativa respecto a la dependiente (consumo). Por otro lado, este modelo tiene un coeficiente de determinacion realmente bajo, lo que implica que no sea un modelo muy bien ajustado, por lo que será poco fiable."
   ]
  },
  {
   "cell_type": "code",
   "execution_count": 172,
   "metadata": {},
   "outputs": [
    {
     "data": {
      "image/png": "[encoded data removed]",
      "text/plain": [
       "<Figure size 432x288 with 1 Axes>"
      ]
     },
     "metadata": {
      "needs_background": "light"
     },
     "output_type": "display_data"
    }
   ],
   "source": [
    "predic_lluvia = modelo_precip.predict(datos_lluvia)\n",
    "plt.scatter(datos_lluvia, target)\n",
    "plt.title('Litros consumidos según Precipitaciones')\n",
    "plt.plot(datos_lluvia, predic_lluvia, color='red')\n",
    "plt.xlabel('Precipitaciones (mm)')\n",
    "plt.ylabel('Consumo litros')\n",
    "plt.legend([\"Regresión\", \"Litros según precipitaciones\"])\n",
    "plt.grid(True)\n",
    "plt.show()"
   ]
  },
  {
   "cell_type": "markdown",
   "metadata": {},
   "source": [
    "Se puede observar claramente la linealiad negativa entre ambas variables puesto que la linea de la regresión vemos claramente cómo baja. Por otro lado, como era de esperr, se puede afirmar que en cuanto menores sean las precipitaciones, es cuando generalmente existe un mayor consumo de cerveza."
   ]
  },
  {
   "cell_type": "markdown",
   "metadata": {},
   "source": [
    "#### Prediccion para diferentes valores de precipitaciones"
   ]
  },
  {
   "cell_type": "code",
   "execution_count": 299,
   "metadata": {},
   "outputs": [
    {
     "name": "stdout",
     "output_type": "stream",
     "text": [
      "La consumición cuando las precipitaciones alcanzan un nivel dee  [0.002] mm, se consumen  [25.75798405] litros de cerveza \n",
      "La consumición cuando las precipitaciones alcanzan un nivel de  [61] mm se consumen  [21.57047221] litros de cerveza \n",
      "La consumición cuando las precipitaciones alcanzan un nivel de [25.2] mm se consumen  [24.0281417] litros de cerveza \n",
      "La consumición cuando las precipitaciones alcanzan un nivel de [12] mm se consumen  [24.93432152] litros de cerveza \n"
     ]
    }
   ],
   "source": [
    "precip = [[0.002], [61], [25.2], [12]]\n",
    "pred_lluvias = modelo_precip.predict(precip)\n",
    "for x in range (0, len(pred_lluvias)):\n",
    "    if x== 0:\n",
    "        print(\"La consumición cuando las precipitaciones alcanzan un nivel dee \", precip[x], \"mm, se consumen \", pred_lluvias[x], \"litros de cerveza \")\n",
    "    elif x== 1:\n",
    "        print(\"La consumición cuando las precipitaciones alcanzan un nivel de \", precip[x], \"mm se consumen \", pred_lluvias[x], \"litros de cerveza \")\n",
    "    elif x== 2:\n",
    "        print(\"La consumición cuando las precipitaciones alcanzan un nivel de\", precip[x], \"mm se consumen \", pred_lluvias[x], \"litros de cerveza \")\n",
    "    else:\n",
    "        print(\"La consumición cuando las precipitaciones alcanzan un nivel de\", precip[x], \"mm se consumen \", pred_lluvias[x], \"litros de cerveza \")"
   ]
  },
  {
   "cell_type": "markdown",
   "metadata": {},
   "source": [
    "### Consumo en relación a la cantidad de fines de semana en el mes"
   ]
  },
  {
   "cell_type": "markdown",
   "metadata": {},
   "source": [
    "Para este caso, solo necesitamos las fechas y si es fín de semana o no, así como la consumición. Por ello se procede a eliminar aquellas columnas que nos son innecesarias."
   ]
  },
  {
   "cell_type": "code",
   "execution_count": 174,
   "metadata": {},
   "outputs": [],
   "source": [
    "datos = df.drop(columns= ['Temperatura Media (C)', 'Temperatura Minima (C)', 'Precipitaciones (mm)', 'Temperatura Maxima (C)'])"
   ]
  },
  {
   "cell_type": "markdown",
   "metadata": {},
   "source": [
    "Se crea una lista vacia donde se meterá el mes a que pertenece cada dato y posteriormente se añade al dataframe. Esto de hace para poder realizar posteriormente un conteo del número de fines de semanas que posee cada mes"
   ]
  },
  {
   "cell_type": "code",
   "execution_count": 246,
   "metadata": {},
   "outputs": [],
   "source": [
    "Mes=[]\n",
    "for x in range(0,len(datos)):\n",
    "    if x <= 30:\n",
    "        Mes.append('Enero')\n",
    "    elif x>30 and x<=59:\n",
    "        Mes.append('Febrero')\n",
    "    elif x>59 and x<=90:\n",
    "        Mes.append('Marzo')\n",
    "    elif x>90 and x<=120:\n",
    "        Mes.append('Abril')\n",
    "    elif x>120 and x<=151:\n",
    "        Mes.append('Mayo')\n",
    "    elif x>151 and x<=181:\n",
    "        Mes.append('Junio')\n",
    "    elif x>181 and x<=212:\n",
    "        Mes.append('Julio')\n",
    "    elif x>212 and x<=243:\n",
    "        Mes.append('Agosto')\n",
    "    elif x>243 and x<=273:\n",
    "        Mes.append('Septiembre')\n",
    "    elif x>273 and x<=304:\n",
    "        Mes.append('Octubre')\n",
    "    elif x>304 and x<=334:\n",
    "        Mes.append('Noviembre')\n",
    "    else:\n",
    "        Mes.append('Diciembre')\n",
    "        \n",
    "datos[\"Mes\"] = Mes    "
   ]
  },
  {
   "cell_type": "markdown",
   "metadata": {},
   "source": [
    "A continuación se ha procedido al calculo del numero de fines de semana de cada uno de los meses y de la consumición en esos fines de semana. Para ello se ha necesitado crear diferentes variables auxiliares."
   ]
  },
  {
   "cell_type": "code",
   "execution_count": 274,
   "metadata": {},
   "outputs": [],
   "source": [
    "aux,aux1,aux2,aux3,aux4,aux5,aux6,aux7,aux8,aux9,aux10,aux11= 0,0,0,0,0,0,0,0,0,0,0,0\n",
    "cons,cons1,cons2,cons3,cons4,cons5,cons6,cons7,cons8,cons9,cons10,cons11= 0,0,0,0,0,0,0,0,0,0,0,0\n",
    "for x in range(0,len(datos)):\n",
    "    if datos['Mes'][x]=='Enero' and datos['Fin de Semana'][x]==1 :\n",
    "        aux = aux+datos['Fin de Semana'][x]\n",
    "        cons = cons + datos['Consumo de cerveza (litros)'][x] \n",
    "    elif datos['Mes'][x]=='Febrero':\n",
    "        aux1 = aux1+datos['Fin de Semana'][x]\n",
    "        cons1 = cons1 + datos['Consumo de cerveza (litros)'][x]\n",
    "    elif datos['Mes'][x]=='Marzo':\n",
    "        aux2 = aux2+datos['Fin de Semana'][x]\n",
    "        cons2 = cons2 + datos['Consumo de cerveza (litros)'][x]\n",
    "    elif datos['Mes'][x]=='Abril':\n",
    "        aux3 = aux3+datos['Fin de Semana'][x]\n",
    "        cons3 = cons3 + datos['Consumo de cerveza (litros)'][x]\n",
    "    elif datos['Mes'][x]=='Mayo':\n",
    "        aux4 = aux4+datos['Fin de Semana'][x]\n",
    "        cons4 = cons4 + datos['Consumo de cerveza (litros)'][x]\n",
    "    elif datos['Mes'][x]=='Junio':\n",
    "        aux5 = aux5+datos['Fin de Semana'][x]\n",
    "        cons5 = cons5 + datos['Consumo de cerveza (litros)'][x]\n",
    "    elif datos['Mes'][x]=='Julio':\n",
    "        aux6 = aux6+datos['Fin de Semana'][x]\n",
    "        cons6 = cons6 + datos['Consumo de cerveza (litros)'][x]\n",
    "    elif datos['Mes'][x]=='Agosto':\n",
    "        aux7 = aux7+datos['Fin de Semana'][x]\n",
    "        cons7 = cons7 + datos['Consumo de cerveza (litros)'][x]\n",
    "    elif datos['Mes'][x]=='Septiembre':\n",
    "        aux8 = aux8+datos['Fin de Semana'][x]\n",
    "        cons8 = cons8 + datos['Consumo de cerveza (litros)'][x]\n",
    "    elif datos['Mes'][x]=='Octubre':\n",
    "        aux9 = aux9+datos['Fin de Semana'][x]\n",
    "        cons9 = cons9 + datos['Consumo de cerveza (litros)'][x]\n",
    "    elif datos['Mes'][x]=='Noviembre':\n",
    "        aux10 = aux10+datos['Fin de Semana'][x]\n",
    "        cons10 = cons10 + datos['Consumo de cerveza (litros)'][x]\n",
    "    else:\n",
    "        aux11 = aux11+datos['Fin de Semana'][x]\n",
    "        cons11 = cons11 + datos['Consumo de cerveza (litros)'][x]"
   ]
  },
  {
   "cell_type": "markdown",
   "metadata": {},
   "source": [
    "Una vez conseguidos los valores de cada mes, se ha creado un dataframe que contiene dichos datos, es decir, el numero de fines de semana del mes y su consumicion total"
   ]
  },
  {
   "cell_type": "code",
   "execution_count": 282,
   "metadata": {},
   "outputs": [],
   "source": [
    "n_findes=[aux,aux1,aux2,aux3,aux4,aux5,aux6,aux7,aux8,aux9,aux10,aux11]\n",
    "consumición=[cons,cons1,cons2,cons3,cons4,cons5,cons6,cons7,cons8,cons9,cons10,cons11]\n",
    "datos_mes = pd.DataFrame()\n",
    "datos_mes[\"Numero Fines de Semana\"] = n_findes \n",
    "datos_mes[\"Consumicion\"] = consumición\n",
    "datos_mes"
   ]
  },
  {
   "cell_type": "markdown",
   "metadata": {},
   "source": [
    "Con esos datas se procede a la creación del modelo utilizando los metodos de las librerias necesarias."
   ]
  },
  {
   "cell_type": "code",
   "execution_count": 284,
   "metadata": {},
   "outputs": [],
   "source": [
    "x = pd.DataFrame(datos_mes['Numero Fines de Semana'])\n",
    "y = pd.DataFrame(datos_mes['Consumicion'])\n",
    "#Creamos los conjuntos de entrenamiento y test\n",
    "x_train, x_test, y_train, y_test = train_test_split(x, y, test_size=0.2)"
   ]
  },
  {
   "cell_type": "code",
   "execution_count": 288,
   "metadata": {},
   "outputs": [
    {
     "name": "stdout",
     "output_type": "stream",
     "text": [
      "Coeficiente de determinación:  0.03755235653680466\n",
      "Interccepto:  [25.75812135]\n",
      "Coeficientes:  [[-76.88765]]\n"
     ]
    }
   ],
   "source": [
    "modelo_mes = linear_model.LinearRegression()\n",
    "regres_mes = modelo_mes.fit(x,y)\n",
    "coef_deter_mes=  modelo_mes.score(x,y)\n",
    "coeficiente_mes = modelo_mes.coef_\n",
    "print('Coeficiente de determinación: ',coef_deter_lluvia)\n",
    "print('Interccepto: ', modelo_precip.intercept_)\n",
    "print('Coeficientes: ', coeficiente_mes)"
   ]
  },
  {
   "cell_type": "code",
   "execution_count": 287,
   "metadata": {},
   "outputs": [
    {
     "data": {
      "image/png": "[encoded data removed]",
      "text/plain": [
       "<Figure size 432x288 with 1 Axes>"
      ]
     },
     "metadata": {
      "needs_background": "light"
     },
     "output_type": "display_data"
    }
   ],
   "source": [
    "predic_mes = modelo_mes.predict(x)\n",
    "plt.scatter(x, y)\n",
    "plt.title('Litros consumidos según numero de fines de semana')\n",
    "plt.plot(x, predic_mes, color='red')\n",
    "plt.xlabel('Fines de semana en el mes')\n",
    "plt.ylabel('Litros Consumidos')\n",
    "plt.legend([\"Regresión\", \"Litros por mes y fin semana\"])\n",
    "plt.grid(True)\n",
    "plt.show()"
   ]
  },
  {
   "cell_type": "markdown",
   "metadata": {},
   "source": [
    "Resalta que el coeficiente sea negativo y de una cantidad tan grande. Esto se debe a que las diferentes variables están e un orden de valores muy distiento, al fin y a cabo fines de semana como máximo obtenemos 10 en un mes, pero la consumicion en litros es de varios centenares llegando incluso al millar en algún caso. \n",
    "Es interesante comprobar como los meses con menos fines de semana obtienen una mayor consumición, esto es debido a uno de ellos que la consumición ha sido muy elevada, puediendo ser que ese mes en concreto sea un mes vacacional lo que implicaria un consumo mayor de cerveza.\n",
    "Por último podemos observar como la precisión del modelo es de menos que un 4%, por lo que se puede decir que este modelo de regresión, es poco fiable."
   ]
  },
  {
   "cell_type": "markdown",
   "metadata": {},
   "source": [
    "#### Prediccion para diferentes fines de semana"
   ]
  },
  {
   "cell_type": "code",
   "execution_count": 298,
   "metadata": {},
   "outputs": [
    {
     "name": "stdout",
     "output_type": "stream",
     "text": [
      "La consumición cuando el mes tiene  [7] mm, se consumen  [900.771] litros de cerveza \n",
      "La consumición cuando el mes tiene  [8] mm se consumen  [823.88335] litros de cerveza \n",
      "La consumición cuando el mes tiene [9] mm se consumen  [746.9957] litros de cerveza \n",
      "La consumición cuando el mes tiene [10] mm se consumen  [670.10805] litros de cerveza \n"
     ]
    }
   ],
   "source": [
    "numeroF = [[7], [8], [9], [10]]\n",
    "pred_fines = modelo_mes.predict(numeroF)\n",
    "for x in range (0, len(pred_fines)):\n",
    "    if x== 0:\n",
    "        print(\"La consumición cuando el mes tiene \", numeroF[x], \"mm, se consumen \", pred_fines[x], \"litros de cerveza \")\n",
    "    elif x== 1:\n",
    "        print(\"La consumición cuando el mes tiene \", numeroF[x], \"mm se consumen \", pred_fines[x], \"litros de cerveza \")\n",
    "    elif x== 2:\n",
    "        print(\"La consumición cuando el mes tiene\", numeroF[x], \"mm se consumen \", pred_fines[x], \"litros de cerveza \")\n",
    "    else:\n",
    "        print(\"La consumición cuando el mes tiene\", numeroF[x], \"mm se consumen \", pred_fines[x], \"litros de cerveza \")"
   ]
  },
  {
   "cell_type": "markdown",
   "metadata": {},
   "source": [
    "### Explicación funcionamiento del sistema si se usaran los parametros anteriores"
   ]
  },
  {
   "cell_type": "markdown",
   "metadata": {},
   "source": [
    "Los parámetros que se han visto son: Temperaturas máxima y mínima, precipitaciones y el número de fines de semana que contiene el mes.\n",
    "Para poder hacer una estimación de como sería, podemos fijarnos en los diferentes coeficientes. Hay que reclacar que el coeficinte de el numero de fines de semana por mes influye sobremanera debido a la diferencia entre las unidades que se utilizan al hacer su modelo, por eso se ha considerado no tenerlo en cuenta. \n",
    "Respecto al resto, el sistema seguiria teniendo una relación positiva, debido a que el coeficiente mayor es el de la temperatura máxima y por lo tanto el que más influye. Es decir que aunque haya precipitaciones y la temperatura maxima sea alta, el consumo de cerveza sería mayor que con temperatura minima normal."
   ]
  },
  {
   "cell_type": "code",
   "execution_count": null,
   "metadata": {},
   "outputs": [],
   "source": []
  }
 ],
 "metadata": {
  "kernelspec": {
   "display_name": "Python 3",
   "language": "python",
   "name": "python3"
  },
  "language_info": {
   "codemirror_mode": {
    "name": "ipython",
    "version": 3
   },
   "file_extension": ".py",
   "mimetype": "text/x-python",
   "name": "python",
   "nbconvert_exporter": "python",
   "pygments_lexer": "ipython3",
   "version": "3.7.6"
  }
 },
 "nbformat": 4,
 "nbformat_minor": 2
}
