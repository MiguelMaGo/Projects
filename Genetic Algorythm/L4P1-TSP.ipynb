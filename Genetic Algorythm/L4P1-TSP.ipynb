{
 "cells": [
  {
   "cell_type": "markdown",
   "metadata": {},
   "source": [
    "## Laboratorio 4 - Algoritmos Genéticos (Convocatoria Extraordinaria)\n",
    "### Inteligencia Artificial II\n",
    "\n",
    "### Miguel Márquez Gonzalez"
   ]
  },
  {
   "cell_type": "markdown",
   "metadata": {},
   "source": [
    "---"
   ]
  },
  {
   "cell_type": "markdown",
   "metadata": {},
   "source": [
    "### Librerías usadas"
   ]
  },
  {
   "cell_type": "code",
   "execution_count": 1,
   "metadata": {},
   "outputs": [],
   "source": [
    "import os\n",
    "import numpy as np\n",
    "import pandas as pd\n",
    "import matplotlib.pyplot as plt\n",
    "import random as rd\n",
    "from scipy import stats"
   ]
  },
  {
   "cell_type": "markdown",
   "metadata": {},
   "source": [
    "---"
   ]
  },
  {
   "cell_type": "markdown",
   "metadata": {},
   "source": [
    "### Variables y parámetros"
   ]
  },
  {
   "cell_type": "code",
   "execution_count": 40,
   "metadata": {},
   "outputs": [],
   "source": [
    "NTOWN = 12\n",
    "NPOB = 20\n",
    "NGEN = 2000\n",
    "Q = 0.9\n",
    "NRES = 50\n",
    "NSAMPLE = 200"
   ]
  },
  {
   "cell_type": "markdown",
   "metadata": {},
   "source": [
    "Diccionario para mapear letras de ciudades con sus ids"
   ]
  },
  {
   "cell_type": "code",
   "execution_count": 3,
   "metadata": {},
   "outputs": [],
   "source": [
    "def lett_to_id(l):\n",
    "    \n",
    "    l_i = {\n",
    "        'CAM': 0, \n",
    "        'CAN': 1,\n",
    "        'CHE': 2,\n",
    "        'CHI': 3,\n",
    "        'IZ':  4,\n",
    "        'PC':  5,\n",
    "        'PM':  6,\n",
    "        'ME':  7,\n",
    "        'TI':  8,\n",
    "        'TU':  9,\n",
    "        'UX':  10,\n",
    "        'VA':  11\n",
    "    }\n",
    "    \n",
    "    return l_i[l]"
   ]
  },
  {
   "cell_type": "markdown",
   "metadata": {},
   "source": [
    "Diccionario para mapear ids con las letras de ciudades"
   ]
  },
  {
   "cell_type": "code",
   "execution_count": 4,
   "metadata": {},
   "outputs": [],
   "source": [
    "def id_to_lett(i):\n",
    "    \n",
    "    i_l = {\n",
    "        0: 'CAM', \n",
    "        1: 'CAN',\n",
    "        2: 'CHE',\n",
    "        3: 'CHI',\n",
    "        4: 'IZ',\n",
    "        5: 'PC',\n",
    "        6: 'PM',\n",
    "        7: 'ME',\n",
    "        8: 'TI',\n",
    "        9: 'TU',\n",
    "        10:'UX',\n",
    "        11:'VA'\n",
    "    }\n",
    "    \n",
    "    return i_l[i]"
   ]
  },
  {
   "cell_type": "markdown",
   "metadata": {},
   "source": [
    "---"
   ]
  },
  {
   "cell_type": "markdown",
   "metadata": {},
   "source": [
    "### Funciones implementadas"
   ]
  },
  {
   "cell_type": "markdown",
   "metadata": {},
   "source": [
    "Generacion de aletarios mejor que la funcion usual de Python. Genera un valor entre b y t (bottom, top)."
   ]
  },
  {
   "cell_type": "code",
   "execution_count": 5,
   "metadata": {},
   "outputs": [],
   "source": [
    "def aleatorio(b, t):\n",
    "    random_data = os.urandom(8)\n",
    "\n",
    "    #Coge la sucesión de carácteres criptográficos obtenidos y los transformamos a un int, actua como semilla\n",
    "    seed = int.from_bytes(random_data, byteorder=\"big\") \n",
    "    rd.seed(seed)\n",
    "    \n",
    "    return (rd.randint(b,t)/t)"
   ]
  },
  {
   "cell_type": "markdown",
   "metadata": {},
   "source": [
    "Matriz para almacenar y devolver la distancias entre ciudades"
   ]
  },
  {
   "cell_type": "code",
   "execution_count": 6,
   "metadata": {},
   "outputs": [],
   "source": [
    "def dist(c1, c2):\n",
    "    \n",
    "    id1 = lett_to_id(c1)\n",
    "    id2 = lett_to_id(c2)\n",
    "    \n",
    "    distancias = np.array([[  0, 515, 425, 315, 265, 583, 551, 196, 409, 470, 171, 355],\n",
    "                           [515,   0, 382, 205, 266,  68,  36, 320, 212, 131, 399, 160],\n",
    "                           [425, 382,   0, 410, 471, 314, 346, 525, 417, 251, 605, 365],\n",
    "                           [315, 205, 410,   0,  62, 273, 241, 115,  97, 159, 199,  41],\n",
    "                           [265, 266, 471,  62,   0, 334, 302,  72, 159, 220, 149, 106],\n",
    "                           [583,  68, 314, 273, 334,   0,  32, 308, 279,  63, 468, 228],\n",
    "                           [551,  36, 346, 241, 302,  32,   0, 256, 297,  95, 435, 195],\n",
    "                           [196, 320, 525, 115,  72, 308, 256,   0, 212, 274,  80, 160],\n",
    "                           [409, 212, 417,  97, 159, 279, 297, 212,   0, 166, 291,  52],\n",
    "                           [470, 131, 251, 159, 220,  63,  95, 274, 166,   0, 366, 291],\n",
    "                           [171, 399, 605, 199, 149, 468, 435,  80, 291, 366,   0, 239],\n",
    "                           [355, 169, 265,  41, 106, 228, 195, 160,  52, 291, 239, 0]])\n",
    "    \n",
    "    return distancias[id1, id2]"
   ]
  },
  {
   "cell_type": "markdown",
   "metadata": {},
   "source": [
    "Generar un individuo aleatorio"
   ]
  },
  {
   "cell_type": "code",
   "execution_count": 7,
   "metadata": {},
   "outputs": [],
   "source": [
    "def nuevo_individuo(NTOWN):\n",
    "    \n",
    "    origen = int(aleatorio(0, NTOWN-1)*(NTOWN-1))\n",
    "    \n",
    "    ruta = list(range(NTOWN))\n",
    "    del ruta[origen]    \n",
    "    rd.shuffle(ruta)\n",
    "    ruta.append(origen)\n",
    "    ruta.insert(0, origen)\n",
    "        \n",
    "    individuo = indiv_to_lett(ruta)\n",
    "    \n",
    "    return individuo"
   ]
  },
  {
   "cell_type": "markdown",
   "metadata": {},
   "source": [
    "Generar población aleatoria"
   ]
  },
  {
   "cell_type": "code",
   "execution_count": 8,
   "metadata": {},
   "outputs": [],
   "source": [
    "def nueva_poblacion(NTOWN, NPOB):\n",
    "    \n",
    "    poblacion = []\n",
    "    \n",
    "    for i in range(NPOB):\n",
    "        poblacion.append(nuevo_individuo(NTOWN))\n",
    "    \n",
    "    return poblacion"
   ]
  },
  {
   "cell_type": "markdown",
   "metadata": {},
   "source": [
    "Convierte individuo de ids a iniciales"
   ]
  },
  {
   "cell_type": "code",
   "execution_count": 9,
   "metadata": {},
   "outputs": [],
   "source": [
    "def indiv_to_lett(i):\n",
    "    n_i = []\n",
    "    for g in i:\n",
    "        n_i.append(id_to_lett(g))\n",
    "    return n_i"
   ]
  },
  {
   "cell_type": "markdown",
   "metadata": {},
   "source": [
    "Convierte individuo de iniciales a ids"
   ]
  },
  {
   "cell_type": "code",
   "execution_count": 10,
   "metadata": {},
   "outputs": [],
   "source": [
    "def indiv_to_ids(i):\n",
    "    n_i = []\n",
    "    for g in i:\n",
    "        n_i.append(lett_to_id(g))\n",
    "    return n_i"
   ]
  },
  {
   "cell_type": "markdown",
   "metadata": {},
   "source": [
    "Calcular Fitness de una poblacion"
   ]
  },
  {
   "cell_type": "code",
   "execution_count": 11,
   "metadata": {},
   "outputs": [],
   "source": [
    "def fitness_p(p):\n",
    "    \n",
    "    fitness_pob = []\n",
    "    \n",
    "    mi = 999999\n",
    "    ma = 0\n",
    "    \n",
    "    for i in p:\n",
    "        t = fitness_i(i)\n",
    "        if t > ma: ma = t\n",
    "        if t < mi: mi = t\n",
    "        fitness_pob.append(t)\n",
    "    \n",
    "    me = np.sum(fitness_pob)/len(fitness_pob)\n",
    "        \n",
    "    return fitness_pob, mi, me, ma"
   ]
  },
  {
   "cell_type": "markdown",
   "metadata": {},
   "source": [
    "Calcular Fitness de un individuo"
   ]
  },
  {
   "cell_type": "code",
   "execution_count": 12,
   "metadata": {},
   "outputs": [],
   "source": [
    "def fitness_i(i):\n",
    "    \n",
    "    coste_total = 0\n",
    "    \n",
    "    for c in range(len(i)-1):\n",
    "        coste_total += dist(i[c], i[c+1])\n",
    "    \n",
    "    return coste_total"
   ]
  },
  {
   "cell_type": "markdown",
   "metadata": {},
   "source": [
    "Calcular la probabilidad de que un individuo se replique"
   ]
  },
  {
   "cell_type": "code",
   "execution_count": 13,
   "metadata": {},
   "outputs": [],
   "source": [
    "def replicacion(i, fitness):\n",
    "    \n",
    "    # Probabilidad de seleccion de ese individuo\n",
    "    psi = 1 - ((fitness[i]- np.min(fitness))/np.max(fitness))\n",
    "\n",
    "    # Probabilidad por el Método de Montecarlo simple\n",
    "    pmm = aleatorio(0, 1000)\n",
    "    \n",
    "    return (psi >= pmm)"
   ]
  },
  {
   "cell_type": "markdown",
   "metadata": {},
   "source": [
    "Mutación de un individuo"
   ]
  },
  {
   "cell_type": "code",
   "execution_count": 14,
   "metadata": {},
   "outputs": [],
   "source": [
    "def mutar(individuo, Q):\n",
    "    \n",
    "    nuevo_individuo = individuo.copy()\n",
    "    n = len(nuevo_individuo)-2 # Para evitar la ultima ciudad\n",
    "    \n",
    "    # Probabilidad por el Método de Montecarlo simple\n",
    "    pmm = aleatorio(0, 1000)\n",
    "    \n",
    "    # Q es la prob de NO mutar\n",
    "    if (Q < pmm):\n",
    "    \n",
    "        c1 = int(aleatorio(1,n)*n)\n",
    "        c2 = int(aleatorio(1,n)*n)\n",
    "        while(c1 == c2): c2 = int(aleatorio(1,n)*n)\n",
    "        \n",
    "        # Cambio de orden\n",
    "        nuevo_individuo[c2] = individuo[c1]\n",
    "        nuevo_individuo[c1] = individuo[c2]\n",
    "        \n",
    "#         print('MUTA', individuo, t1, '<->', t2, nuevo_individuo)\n",
    "    \n",
    "    return nuevo_individuo"
   ]
  },
  {
   "cell_type": "markdown",
   "metadata": {},
   "source": [
    "Imprimir una poblacion de forma visualmente placentera"
   ]
  },
  {
   "cell_type": "code",
   "execution_count": 15,
   "metadata": {},
   "outputs": [],
   "source": [
    "def print_pob(poblacion, p):\n",
    "    \n",
    "    n = int(len(poblacion)*p)\n",
    "    \n",
    "    for i in poblacion[:n]:\n",
    "        print(i)"
   ]
  },
  {
   "cell_type": "markdown",
   "metadata": {},
   "source": [
    "Calcular cual es el mejor individuo y cuantas veces aparece"
   ]
  },
  {
   "cell_type": "code",
   "execution_count": 16,
   "metadata": {},
   "outputs": [],
   "source": [
    "def veces_mejor(poblacion):\n",
    "    \n",
    "    cont = 0\n",
    "    mejor = poblacion[np.argmin(fitness)]\n",
    "    \n",
    "    for i in poblacion:\n",
    "        if i == mejor:\n",
    "            cont += 1\n",
    "    \n",
    "    veces = (cont/len(poblacion))*100\n",
    "    \n",
    "    return mejor, veces"
   ]
  },
  {
   "cell_type": "markdown",
   "metadata": {},
   "source": [
    "---"
   ]
  },
  {
   "cell_type": "markdown",
   "metadata": {},
   "source": [
    "### Generar primera población"
   ]
  },
  {
   "cell_type": "code",
   "execution_count": 41,
   "metadata": {
    "scrolled": true
   },
   "outputs": [
    {
     "name": "stdout",
     "output_type": "stream",
     "text": [
      "['CHE', 'CHI', 'CAN', 'TU', 'CAM', 'UX', 'IZ', 'PM', 'VA', 'ME', 'TI', 'PC', 'CHE']\n",
      "['TI', 'UX', 'CAN', 'VA', 'ME', 'IZ', 'PC', 'CHE', 'PM', 'TU', 'CHI', 'CAM', 'TI']\n",
      "['VA', 'CHI', 'PM', 'TU', 'IZ', 'UX', 'CHE', 'CAN', 'ME', 'TI', 'PC', 'CAM', 'VA']\n",
      "['CHE', 'IZ', 'ME', 'VA', 'TI', 'CAM', 'CHI', 'TU', 'UX', 'PC', 'CAN', 'PM', 'CHE']\n",
      "['ME', 'TI', 'PM', 'PC', 'CHE', 'IZ', 'CAN', 'CAM', 'UX', 'VA', 'CHI', 'TU', 'ME']\n",
      "['PC', 'UX', 'IZ', 'CAM', 'PM', 'TU', 'CAN', 'CHE', 'CHI', 'ME', 'VA', 'TI', 'PC']\n",
      "['UX', 'IZ', 'PC', 'CAM', 'CHE', 'TI', 'ME', 'CHI', 'CAN', 'VA', 'PM', 'TU', 'UX']\n",
      "['IZ', 'CAM', 'ME', 'TU', 'UX', 'VA', 'CAN', 'TI', 'PM', 'CHI', 'PC', 'CHE', 'IZ']\n",
      "['PC', 'VA', 'TI', 'IZ', 'CHE', 'CHI', 'PM', 'ME', 'UX', 'CAM', 'TU', 'CAN', 'PC']\n",
      "['ME', 'PM', 'IZ', 'VA', 'CAM', 'UX', 'TI', 'TU', 'PC', 'CHE', 'CHI', 'CAN', 'ME']\n",
      "['CHI', 'PC', 'CHE', 'UX', 'CAN', 'TU', 'ME', 'CAM', 'TI', 'PM', 'IZ', 'VA', 'CHI']\n",
      "['PC', 'PM', 'UX', 'CHI', 'IZ', 'ME', 'CHE', 'CAM', 'TU', 'TI', 'CAN', 'VA', 'PC']\n",
      "['UX', 'TU', 'VA', 'ME', 'CHE', 'PM', 'PC', 'CAM', 'TI', 'CHI', 'IZ', 'CAN', 'UX']\n",
      "['CAN', 'VA', 'PC', 'TU', 'CHI', 'CAM', 'IZ', 'ME', 'CHE', 'TI', 'UX', 'PM', 'CAN']\n",
      "['CHE', 'ME', 'UX', 'IZ', 'PM', 'CHI', 'VA', 'PC', 'TI', 'CAM', 'CAN', 'TU', 'CHE']\n",
      "['CAM', 'VA', 'ME', 'UX', 'TI', 'CHE', 'IZ', 'CHI', 'PM', 'TU', 'PC', 'CAN', 'CAM']\n",
      "['CAM', 'CAN', 'IZ', 'CHE', 'PC', 'TU', 'PM', 'TI', 'ME', 'VA', 'UX', 'CHI', 'CAM']\n",
      "['PM', 'CAM', 'ME', 'IZ', 'CAN', 'CHE', 'TU', 'UX', 'VA', 'TI', 'PC', 'CHI', 'PM']\n",
      "['CHE', 'ME', 'PC', 'PM', 'VA', 'TI', 'TU', 'IZ', 'UX', 'CHI', 'CAM', 'CAN', 'CHE']\n",
      "['PC', 'ME', 'TU', 'IZ', 'UX', 'CAM', 'CAN', 'CHI', 'VA', 'CHE', 'TI', 'PM', 'PC']\n"
     ]
    }
   ],
   "source": [
    "poblacion = nueva_poblacion(NTOWN, NPOB)\n",
    "fitness, _, _, _ = fitness_p(poblacion)\n",
    "print_pob(poblacion, 1)"
   ]
  },
  {
   "cell_type": "markdown",
   "metadata": {},
   "source": [
    "### Bucle del AG"
   ]
  },
  {
   "cell_type": "code",
   "execution_count": 42,
   "metadata": {
    "scrolled": true
   },
   "outputs": [
    {
     "name": "stdout",
     "output_type": "stream",
     "text": [
      "\n",
      "********************************************************************************************************\n",
      "Generación: 0\n",
      "Distancias: Mínima 2737 Media 3097.85 Máxima 3536\n",
      "Mejor individuo: ['PC', 'VA', 'TI', 'IZ', 'CHE', 'CHI', 'PM', 'ME', 'UX', 'CAM', 'TU', 'CAN', 'PC']\n",
      "Aparecece en el 10.0 % de indiviuos\n",
      "Individuo consenso: [['PC' 'PM' 'IZ' 'VA' 'CHE' 'TU' 'PM' 'CAM' 'UX' 'VA' 'CHI' 'CAN' 'PC']]\n",
      "\n",
      "20% de la población:\n",
      "['CHE', 'CHI', 'CAN', 'TU', 'CAM', 'UX', 'IZ', 'PM', 'VA', 'ME', 'TI', 'PC', 'CHE']\n",
      "['TI', 'UX', 'CAN', 'VA', 'ME', 'IZ', 'PC', 'CHE', 'PM', 'TU', 'CHI', 'CAM', 'TI']\n",
      "['TI', 'UX', 'CAN', 'VA', 'ME', 'IZ', 'PC', 'CHE', 'PM', 'TU', 'CHI', 'CAM', 'TI']\n",
      "['CHI', 'PC', 'CHE', 'UX', 'CAN', 'TU', 'ME', 'CAM', 'TI', 'PM', 'IZ', 'VA', 'CHI']\n",
      "\n",
      "********************************************************************************************************\n",
      "Generación: 50\n",
      "Distancias: Mínima 2549 Media 2982.0 Máxima 3478\n",
      "Mejor individuo: ['UX', 'CHI', 'IZ', 'CAM', 'ME', 'TI', 'CHE', 'PC', 'CAN', 'VA', 'PM', 'TU', 'UX']\n",
      "Aparecece en el 25.0 % de indiviuos\n",
      "Individuo consenso: [['UX' 'CHI' 'IZ' 'CAM' 'CHE' 'TI' 'ME' 'PC' 'CAN' 'VA' 'PM' 'TU' 'UX']]\n",
      "\n",
      "********************************************************************************************************\n",
      "Generación: 100\n",
      "Distancias: Mínima 2440 Media 2687.1 Máxima 3220\n",
      "Mejor individuo: ['UX', 'CAM', 'IZ', 'CHI', 'ME', 'TI', 'CHE', 'PC', 'CAN', 'VA', 'PM', 'TU', 'UX']\n",
      "Aparecece en el 10.0 % de indiviuos\n",
      "Individuo consenso: [['UX' 'CHI' 'IZ' 'CAM' 'ME' 'TI' 'CHE' 'PC' 'CAN' 'VA' 'PM' 'TU' 'UX']]\n",
      "\n",
      "********************************************************************************************************\n",
      "Generación: 150\n",
      "Distancias: Mínima 2430 Media 2476.95 Máxima 2616\n",
      "Mejor individuo: ['UX', 'CAM', 'TI', 'CHI', 'ME', 'IZ', 'CHE', 'VA', 'CAN', 'PC', 'PM', 'TU', 'UX']\n",
      "Aparecece en el 5.0 % de indiviuos\n",
      "Individuo consenso: [['UX' 'CAM' 'IZ' 'CHI' 'ME' 'TI' 'CHE' 'PC' 'CAN' 'VA' 'PM' 'TU' 'UX']]\n",
      "\n",
      "********************************************************************************************************\n",
      "Generación: 200\n",
      "Distancias: Mínima 2337 Media 2823.65 Máxima 3807\n",
      "Mejor individuo: ['UX', 'CAM', 'IZ', 'CHI', 'ME', 'TI', 'CHE', 'VA', 'CAN', 'PC', 'PM', 'TU', 'UX']\n",
      "Aparecece en el 5.0 % de indiviuos\n",
      "Individuo consenso: [['UX' 'CAM' 'IZ' 'CHI' 'ME' 'TI' 'CHE' 'PC' 'CAN' 'VA' 'PM' 'TU' 'UX']]\n",
      "\n",
      "20% de la población:\n",
      "['UX', 'ME', 'IZ', 'CAM', 'CHI', 'VA', 'CHE', 'PC', 'CAN', 'TI', 'PM', 'TU', 'UX']\n",
      "['UX', 'VA', 'PM', 'CHI', 'ME', 'TI', 'CHE', 'PC', 'CAN', 'CAM', 'IZ', 'TU', 'UX']\n",
      "['UX', 'CAM', 'TI', 'CHI', 'ME', 'VA', 'CHE', 'PC', 'CAN', 'IZ', 'PM', 'TU', 'UX']\n",
      "['UX', 'CAM', 'IZ', 'CHI', 'ME', 'TI', 'CHE', 'PC', 'CAN', 'VA', 'PM', 'TU', 'UX']\n",
      "\n",
      "********************************************************************************************************\n",
      "Generación: 250\n",
      "Distancias: Mínima 2390 Media 2695.25 Máxima 3324\n",
      "Mejor individuo: ['UX', 'CAM', 'IZ', 'CHI', 'ME', 'VA', 'CHE', 'PC', 'CAN', 'TI', 'PM', 'TU', 'UX']\n",
      "Aparecece en el 5.0 % de indiviuos\n",
      "Individuo consenso: [['UX' 'CAM' 'IZ' 'CHI' 'ME' 'TI' 'CHE' 'PC' 'CAN' 'VA' 'PM' 'TU' 'UX']]\n",
      "\n",
      "********************************************************************************************************\n",
      "Generación: 300\n",
      "Distancias: Mínima 2415 Media 2699.95 Máxima 3593\n",
      "Mejor individuo: ['UX', 'CAM', 'IZ', 'CHI', 'VA', 'TI', 'CAN', 'PC', 'TU', 'ME', 'PM', 'CHE', 'UX']\n",
      "Aparecece en el 10.0 % de indiviuos\n",
      "Individuo consenso: [['UX' 'CAM' 'IZ' 'CHI' 'ME' 'CAN' 'PC' 'PM' 'VA' 'ME' 'PM' 'TI' 'UX']]\n",
      "\n",
      "********************************************************************************************************\n",
      "Generación: 350\n",
      "Distancias: Mínima 2490 Media 2610.2 Máxima 2941\n",
      "Mejor individuo: ['UX', 'CAM', 'IZ', 'CHI', 'ME', 'CAN', 'PC', 'CHE', 'VA', 'TI', 'PM', 'TU', 'UX']\n",
      "Aparecece en el 70.0 % de indiviuos\n",
      "Individuo consenso: [['UX' 'CAM' 'IZ' 'CHI' 'ME' 'CAN' 'PC' 'CHE' 'VA' 'TI' 'PM' 'TU' 'UX']]\n",
      "\n",
      "********************************************************************************************************\n",
      "Generación: 400\n",
      "Distancias: Mínima 2220 Media 2527.25 Máxima 3105\n",
      "Mejor individuo: ['UX', 'CAM', 'IZ', 'CHI', 'TU', 'CAN', 'PC', 'CHE', 'VA', 'TI', 'PM', 'ME', 'UX']\n",
      "Aparecece en el 30.0 % de indiviuos\n",
      "Individuo consenso: [['UX' 'CAM' 'IZ' 'CHI' 'ME' 'CAN' 'PC' 'CHE' 'VA' 'TI' 'PM' 'TU' 'UX']]\n",
      "\n",
      "20% de la población:\n",
      "['UX', 'CAM', 'IZ', 'CHI', 'TU', 'CAN', 'PC', 'CHE', 'VA', 'TI', 'PM', 'ME', 'UX']\n",
      "['UX', 'CAM', 'VA', 'CAN', 'ME', 'CHI', 'PC', 'CHE', 'IZ', 'TI', 'PM', 'TU', 'UX']\n",
      "['UX', 'CAM', 'CHI', 'IZ', 'ME', 'CAN', 'PC', 'CHE', 'VA', 'TI', 'PM', 'TU', 'UX']\n",
      "['UX', 'CAM', 'VA', 'CHI', 'ME', 'CAN', 'PC', 'CHE', 'IZ', 'TI', 'PM', 'TU', 'UX']\n",
      "\n",
      "********************************************************************************************************\n",
      "Generación: 450\n",
      "Distancias: Mínima 2096 Media 2423.7 Máxima 2659\n",
      "Mejor individuo: ['UX', 'CAM', 'CHI', 'IZ', 'TI', 'CAN', 'PC', 'TU', 'PM', 'CHE', 'VA', 'ME', 'UX']\n",
      "Aparecece en el 20.0 % de indiviuos\n",
      "Individuo consenso: [['UX' 'CAM' 'IZ' 'CHI' 'TU' 'CAN' 'PC' 'CHE' 'VA' 'ME' 'PM' 'TI' 'UX']]\n",
      "\n",
      "********************************************************************************************************\n",
      "Generación: 500\n",
      "Distancias: Mínima 2096 Media 2421.6 Máxima 3111\n",
      "Mejor individuo: ['UX', 'CAM', 'CHI', 'IZ', 'TI', 'CAN', 'PC', 'TU', 'PM', 'CHE', 'VA', 'ME', 'UX']\n",
      "Aparecece en el 15.0 % de indiviuos\n",
      "Individuo consenso: [['UX' 'CAM' 'CHI' 'IZ' 'TI' 'CAN' 'PC' 'VA' 'PM' 'CHE' 'TU' 'ME' 'UX']]\n",
      "\n",
      "********************************************************************************************************\n",
      "Generación: 550\n",
      "Distancias: Mínima 2054 Media 2291.2 Máxima 2900\n",
      "Mejor individuo: ['UX', 'ME', 'CHI', 'TI', 'IZ', 'CAN', 'PC', 'PM', 'TU', 'CHE', 'VA', 'CAM', 'UX']\n",
      "Aparecece en el 10.0 % de indiviuos\n",
      "Individuo consenso: [['UX' 'ME' 'CHI' 'TI' 'IZ' 'CAN' 'PC' 'TU' 'PM' 'CHE' 'VA' 'CAM' 'UX']]\n",
      "\n",
      "********************************************************************************************************\n",
      "Generación: 600\n",
      "Distancias: Mínima 2078 Media 2321.35 Máxima 3292\n",
      "Mejor individuo: ['UX', 'TI', 'CHI', 'ME', 'IZ', 'VA', 'CHE', 'TU', 'PM', 'PC', 'CAN', 'CAM', 'UX']\n",
      "Aparecece en el 25.0 % de indiviuos\n",
      "Individuo consenso: [['UX' 'ME' 'CHI' 'TI' 'IZ' 'PC' 'CAN' 'TU' 'PM' 'CHE' 'IZ' 'CAM' 'UX']]\n",
      "\n",
      "20% de la población:\n",
      "['UX', 'TI', 'CHI', 'ME', 'IZ', 'VA', 'CHE', 'TU', 'PM', 'PC', 'CAN', 'CAM', 'UX']\n",
      "['UX', 'ME', 'VA', 'TI', 'PM', 'PC', 'CAN', 'TU', 'CHI', 'CHE', 'IZ', 'CAM', 'UX']\n",
      "['UX', 'ME', 'VA', 'TI', 'PM', 'PC', 'CAN', 'TU', 'CHI', 'CHE', 'IZ', 'CAM', 'UX']\n",
      "['UX', 'TI', 'CHI', 'ME', 'IZ', 'CHE', 'PC', 'TU', 'PM', 'CAN', 'VA', 'CAM', 'UX']\n",
      "\n",
      "********************************************************************************************************\n",
      "Generación: 650\n",
      "Distancias: Mínima 1954 Media 2265.6 Máxima 2840\n",
      "Mejor individuo: ['UX', 'ME', 'TI', 'CHI', 'IZ', 'VA', 'CHE', 'TU', 'PM', 'PC', 'CAN', 'CAM', 'UX']\n",
      "Aparecece en el 25.0 % de indiviuos\n",
      "Individuo consenso: [['UX' 'TI' 'CHI' 'CHI' 'IZ' 'VA' 'CHE' 'TU' 'PM' 'PC' 'CAN' 'CAM' 'UX']]\n",
      "\n",
      "********************************************************************************************************\n",
      "Generación: 700\n",
      "Distancias: Mínima 2283 Media 2512.95 Máxima 2836\n",
      "Mejor individuo: ['UX', 'TI', 'CHI', 'CAN', 'IZ', 'VA', 'CHE', 'TU', 'PM', 'PC', 'ME', 'CAM', 'UX']\n",
      "Aparecece en el 10.0 % de indiviuos\n",
      "Individuo consenso: [['UX' 'ME' 'TU' 'CHI' 'IZ' 'VA' 'CHE' 'TI' 'PM' 'PC' 'CAN' 'CAM' 'UX']]\n",
      "\n",
      "********************************************************************************************************\n",
      "Generación: 750\n",
      "Distancias: Mínima 2268 Media 2583.35 Máxima 3264\n",
      "Mejor individuo: ['UX', 'ME', 'TI', 'CHI', 'IZ', 'TU', 'CHE', 'VA', 'PM', 'PC', 'CAN', 'CAM', 'UX']\n",
      "Aparecece en el 20.0 % de indiviuos\n",
      "Individuo consenso: [['UX' 'TI' 'TI' 'CHI' 'IZ' 'TU' 'CHE' 'VA' 'PM' 'PC' 'CAN' 'CAM' 'UX']]\n",
      "\n",
      "********************************************************************************************************\n",
      "Generación: 800\n",
      "Distancias: Mínima 2108 Media 2366.1 Máxima 2618\n",
      "Mejor individuo: ['UX', 'ME', 'CHI', 'TI', 'IZ', 'TU', 'PM', 'VA', 'CAN', 'PC', 'CHE', 'CAM', 'UX']\n",
      "Aparecece en el 5.0 % de indiviuos\n",
      "Individuo consenso: [['UX' 'ME' 'TI' 'CHI' 'IZ' 'TU' 'PM' 'VA' 'CHE' 'PC' 'CAN' 'CAM' 'UX']]\n",
      "\n",
      "20% de la población:\n",
      "['UX', 'ME', 'TI', 'CHI', 'IZ', 'TU', 'PM', 'VA', 'CHE', 'PC', 'CAN', 'CAM', 'UX']\n",
      "['UX', 'ME', 'TI', 'CHI', 'IZ', 'TU', 'PM', 'CAM', 'CHE', 'PC', 'CAN', 'VA', 'UX']\n",
      "['UX', 'CAM', 'CHI', 'TI', 'PM', 'TU', 'IZ', 'VA', 'CHE', 'PC', 'CAN', 'ME', 'UX']\n",
      "['UX', 'ME', 'TI', 'CHI', 'IZ', 'TU', 'PM', 'CAM', 'CHE', 'PC', 'CAN', 'VA', 'UX']\n"
     ]
    },
    {
     "name": "stdout",
     "output_type": "stream",
     "text": [
      "\n",
      "********************************************************************************************************\n",
      "Generación: 850\n",
      "Distancias: Mínima 2297 Media 2484.55 Máxima 2818\n",
      "Mejor individuo: ['UX', 'CAM', 'IZ', 'TI', 'CHI', 'TU', 'PM', 'VA', 'CAN', 'PC', 'CHE', 'ME', 'UX']\n",
      "Aparecece en el 10.0 % de indiviuos\n",
      "Individuo consenso: [['UX' 'CAM' 'CHI' 'TI' 'IZ' 'TU' 'PM' 'VA' 'CAN' 'PC' 'CHE' 'ME' 'UX']]\n",
      "\n",
      "********************************************************************************************************\n",
      "Generación: 900\n",
      "Distancias: Mínima 2238 Media 2395.3 Máxima 2837\n",
      "Mejor individuo: ['UX', 'CAM', 'IZ', 'TI', 'CHI', 'VA', 'PM', 'TU', 'CAN', 'CHE', 'PC', 'ME', 'UX']\n",
      "Aparecece en el 55.00000000000001 % de indiviuos\n",
      "Individuo consenso: [['UX' 'CAM' 'IZ' 'TI' 'CHI' 'VA' 'PM' 'TU' 'CAN' 'CHE' 'PC' 'ME' 'UX']]\n",
      "\n",
      "********************************************************************************************************\n",
      "Generación: 950\n",
      "Distancias: Mínima 2014 Media 2308.8 Máxima 2706\n",
      "Mejor individuo: ['UX', 'CAM', 'ME', 'TI', 'CHI', 'VA', 'PM', 'PC', 'CAN', 'CHE', 'TU', 'IZ', 'UX']\n",
      "Aparecece en el 10.0 % de indiviuos\n",
      "Individuo consenso: [['UX' 'CAM' 'ME' 'TI' 'CHI' 'VA' 'PM' 'TU' 'CAN' 'CHE' 'CHE' 'IZ' 'UX']]\n",
      "\n",
      "********************************************************************************************************\n",
      "Generación: 1000\n",
      "Distancias: Mínima 2514 Media 2735.35 Máxima 3094\n",
      "Mejor individuo: ['UX', 'CAM', 'VA', 'CHE', 'ME', 'PC', 'PM', 'TU', 'CAN', 'TI', 'IZ', 'CHI', 'UX']\n",
      "Aparecece en el 5.0 % de indiviuos\n",
      "Individuo consenso: [['UX' 'CAM' 'ME' 'PC' 'VA' 'IZ' 'PM' 'TU' 'CAN' 'TI' 'CHE' 'CHI' 'UX']]\n",
      "\n",
      "20% de la población:\n",
      "['UX', 'CAM', 'ME', 'PC', 'VA', 'IZ', 'PM', 'TU', 'CAN', 'TI', 'CHE', 'CHI', 'UX']\n",
      "['UX', 'TI', 'IZ', 'CAM', 'CHI', 'ME', 'CAN', 'TU', 'PM', 'PC', 'CHE', 'VA', 'UX']\n",
      "['UX', 'CAM', 'ME', 'CHE', 'VA', 'IZ', 'PM', 'TU', 'CAN', 'TI', 'PC', 'CHI', 'UX']\n",
      "['UX', 'TI', 'IZ', 'CAM', 'CHI', 'ME', 'CAN', 'TU', 'PM', 'PC', 'CHE', 'VA', 'UX']\n",
      "\n",
      "********************************************************************************************************\n",
      "Generación: 1050\n",
      "Distancias: Mínima 2480 Media 2624.45 Máxima 3341\n",
      "Mejor individuo: ['UX', 'CAM', 'CHE', 'PC', 'ME', 'TI', 'PM', 'TU', 'CAN', 'VA', 'IZ', 'CHI', 'UX']\n",
      "Aparecece en el 5.0 % de indiviuos\n",
      "Individuo consenso: [['UX' 'CAM' 'VA' 'CHE' 'ME' 'PC' 'PM' 'TU' 'CAN' 'TI' 'IZ' 'CHI' 'UX']]\n",
      "\n",
      "********************************************************************************************************\n",
      "Generación: 1100\n",
      "Distancias: Mínima 1983 Media 2432.3 Máxima 2782\n",
      "Mejor individuo: ['UX', 'CAM', 'IZ', 'ME', 'CHE', 'TU', 'PM', 'PC', 'CAN', 'TI', 'VA', 'CHI', 'UX']\n",
      "Aparecece en el 5.0 % de indiviuos\n",
      "Individuo consenso: [['UX' 'CAM' 'VA' 'ME' 'CHE' 'TU' 'PM' 'PC' 'CAN' 'TI' 'IZ' 'CHI' 'UX']]\n",
      "\n",
      "********************************************************************************************************\n",
      "Generación: 1150\n",
      "Distancias: Mínima 2283 Media 2564.45 Máxima 3416\n",
      "Mejor individuo: ['UX', 'CAM', 'ME', 'CHE', 'TU', 'IZ', 'TI', 'VA', 'CAN', 'PM', 'PC', 'CHI', 'UX']\n",
      "Aparecece en el 15.0 % de indiviuos\n",
      "Individuo consenso: [['UX' 'CAM' 'IZ' 'CHE' 'TU' 'ME' 'TI' 'PC' 'CAN' 'PM' 'VA' 'CHI' 'UX']]\n",
      "\n",
      "********************************************************************************************************\n",
      "Generación: 1200\n",
      "Distancias: Mínima 2183 Media 2335.2 Máxima 2654\n",
      "Mejor individuo: ['UX', 'CAM', 'IZ', 'TI', 'TU', 'CHI', 'CHE', 'PC', 'CAN', 'PM', 'VA', 'ME', 'UX']\n",
      "Aparecece en el 10.0 % de indiviuos\n",
      "Individuo consenso: [['UX' 'CAM' 'IZ' 'CHE' 'TU' 'CHI' 'TI' 'PC' 'CAN' 'PM' 'VA' 'ME' 'UX']]\n",
      "\n",
      "20% de la población:\n",
      "['UX', 'CAM', 'IZ', 'PM', 'TU', 'CHI', 'TI', 'PC', 'CAN', 'CHE', 'VA', 'ME', 'UX']\n",
      "['UX', 'CAM', 'IZ', 'TI', 'TU', 'CHI', 'CHE', 'PC', 'CAN', 'PM', 'VA', 'ME', 'UX']\n",
      "['UX', 'CAM', 'IZ', 'CHE', 'TU', 'CHI', 'TI', 'PC', 'CAN', 'PM', 'VA', 'ME', 'UX']\n",
      "['UX', 'CAM', 'IZ', 'CHE', 'VA', 'CHI', 'TU', 'PC', 'CAN', 'PM', 'TI', 'ME', 'UX']\n",
      "\n",
      "********************************************************************************************************\n",
      "Generación: 1250\n",
      "Distancias: Mínima 2233 Media 2389.2 Máxima 3325\n",
      "Mejor individuo: ['UX', 'CAM', 'IZ', 'CHE', 'TU', 'TI', 'CHI', 'PC', 'CAN', 'PM', 'VA', 'ME', 'UX']\n",
      "Aparecece en el 40.0 % de indiviuos\n",
      "Individuo consenso: [['UX' 'CAM' 'IZ' 'CHI' 'TU' 'TI' 'CHI' 'PC' 'CAN' 'PM' 'VA' 'ME' 'UX']]\n",
      "\n",
      "********************************************************************************************************\n",
      "Generación: 1300\n",
      "Distancias: Mínima 2093 Media 2406.35 Máxima 3222\n",
      "Mejor individuo: ['UX', 'CAM', 'IZ', 'CHI', 'TU', 'TI', 'CHE', 'PC', 'CAN', 'PM', 'VA', 'ME', 'UX']\n",
      "Aparecece en el 5.0 % de indiviuos\n",
      "Individuo consenso: [['UX' 'CAM' 'IZ' 'CHE' 'TU' 'TI' 'CHI' 'PC' 'CAN' 'PM' 'VA' 'ME' 'UX']]\n",
      "\n",
      "********************************************************************************************************\n",
      "Generación: 1350\n",
      "Distancias: Mínima 2093 Media 2176.4 Máxima 2291\n",
      "Mejor individuo: ['UX', 'CAM', 'IZ', 'CHI', 'TU', 'TI', 'CHE', 'PC', 'CAN', 'PM', 'VA', 'ME', 'UX']\n",
      "Aparecece en el 25.0 % de indiviuos\n",
      "Individuo consenso: [['UX' 'CAM' 'IZ' 'CHI' 'TU' 'TI' 'CHE' 'PC' 'CAN' 'PM' 'VA' 'ME' 'UX']]\n",
      "\n",
      "********************************************************************************************************\n",
      "Generación: 1400\n",
      "Distancias: Mínima 2134 Media 2553.6 Máxima 3064\n",
      "Mejor individuo: ['UX', 'ME', 'VA', 'CHE', 'TU', 'TI', 'CHI', 'PC', 'CAN', 'PM', 'IZ', 'CAM', 'UX']\n",
      "Aparecece en el 5.0 % de indiviuos\n",
      "Individuo consenso: [['UX' 'ME' 'VA' 'CHE' 'TU' 'IZ' 'CAM' 'PC' 'CAN' 'PM' 'TI' 'CAM' 'UX']]\n",
      "\n",
      "20% de la población:\n",
      "['UX', 'ME', 'VA', 'CHE', 'TU', 'IZ', 'CHI', 'PC', 'CAN', 'PM', 'TI', 'CAM', 'UX']\n",
      "['UX', 'ME', 'VA', 'CHE', 'TU', 'IZ', 'CAM', 'PC', 'CAN', 'PM', 'TI', 'CHI', 'UX']\n",
      "['UX', 'ME', 'VA', 'CHE', 'TU', 'IZ', 'CAM', 'CHI', 'CAN', 'PM', 'TI', 'PC', 'UX']\n",
      "['UX', 'ME', 'VA', 'CHE', 'IZ', 'TU', 'CAM', 'PC', 'CAN', 'PM', 'TI', 'CHI', 'UX']\n",
      "\n",
      "********************************************************************************************************\n",
      "Generación: 1450\n",
      "Distancias: Mínima 2256 Media 2369.65 Máxima 2948\n",
      "Mejor individuo: ['UX', 'ME', 'VA', 'CHE', 'TI', 'IZ', 'CHI', 'PC', 'CAN', 'PM', 'TU', 'CAM', 'UX']\n",
      "Aparecece en el 5.0 % de indiviuos\n",
      "Individuo consenso: [['UX' 'ME' 'VA' 'CHE' 'TU' 'IZ' 'CHI' 'PC' 'CAN' 'PM' 'TI' 'CAM' 'UX']]\n",
      "\n",
      "********************************************************************************************************\n",
      "Generación: 1500\n",
      "Distancias: Mínima 2059 Media 2146.95 Máxima 2576\n",
      "Mejor individuo: ['UX', 'ME', 'VA', 'TI', 'TU', 'IZ', 'CHI', 'PC', 'CAN', 'PM', 'CHE', 'CAM', 'UX']\n",
      "Aparecece en el 65.0 % de indiviuos\n",
      "Individuo consenso: [['UX' 'ME' 'VA' 'TI' 'TU' 'IZ' 'CHI' 'PC' 'CAN' 'PM' 'CHE' 'CAM' 'UX']]\n",
      "\n",
      "********************************************************************************************************\n",
      "Generación: 1550\n",
      "Distancias: Mínima 1780 Media 2084.45 Máxima 2573\n",
      "Mejor individuo: ['UX', 'ME', 'VA', 'TI', 'CHI', 'IZ', 'TU', 'PC', 'CAN', 'PM', 'CHE', 'CAM', 'UX']\n",
      "Aparecece en el 20.0 % de indiviuos\n",
      "Individuo consenso: [['UX' 'ME' 'VA' 'TI' 'TU' 'IZ' 'VA' 'PC' 'CAN' 'PM' 'CHE' 'CAM' 'UX']]\n",
      "\n",
      "********************************************************************************************************\n",
      "Generación: 1600\n",
      "Distancias: Mínima 1779 Media 1910.85 Máxima 2991\n",
      "Mejor individuo: ['UX', 'ME', 'CHI', 'TI', 'VA', 'IZ', 'TU', 'PC', 'CAN', 'PM', 'CHE', 'CAM', 'UX']\n",
      "Aparecece en el 10.0 % de indiviuos\n",
      "Individuo consenso: [['UX' 'ME' 'VA' 'TI' 'CHI' 'IZ' 'TU' 'PC' 'CAN' 'PM' 'CHE' 'CAM' 'UX']]\n",
      "\n",
      "20% de la población:\n",
      "['UX', 'ME', 'VA', 'TI', 'CHI', 'TU', 'IZ', 'PC', 'CAN', 'PM', 'CHE', 'CAM', 'UX']\n",
      "['UX', 'ME', 'VA', 'TI', 'CHI', 'IZ', 'TU', 'PC', 'CAN', 'PM', 'CHE', 'CAM', 'UX']\n",
      "['UX', 'ME', 'VA', 'TI', 'CHI', 'IZ', 'TU', 'PC', 'CAN', 'PM', 'CHE', 'CAM', 'UX']\n",
      "['UX', 'ME', 'CHI', 'TI', 'VA', 'IZ', 'TU', 'PC', 'CAN', 'PM', 'CHE', 'CAM', 'UX']\n",
      "\n",
      "********************************************************************************************************\n",
      "Generación: 1650\n",
      "Distancias: Mínima 1866 Media 2048.55 Máxima 2553\n",
      "Mejor individuo: ['UX', 'ME', 'VA', 'CHI', 'TI', 'IZ', 'TU', 'PM', 'CAN', 'PC', 'CHE', 'CAM', 'UX']\n",
      "Aparecece en el 60.0 % de indiviuos\n",
      "Individuo consenso: [['UX' 'ME' 'VA' 'CHI' 'TI' 'IZ' 'TU' 'PM' 'CAN' 'PC' 'CHE' 'CAM' 'UX']]\n"
     ]
    },
    {
     "name": "stdout",
     "output_type": "stream",
     "text": [
      "\n",
      "********************************************************************************************************\n",
      "Generación: 1700\n",
      "Distancias: Mínima 1777 Media 1996.0 Máxima 2396\n",
      "Mejor individuo: ['UX', 'ME', 'VA', 'CHI', 'IZ', 'TI', 'TU', 'PM', 'CAN', 'PC', 'CHE', 'CAM', 'UX']\n",
      "Aparecece en el 5.0 % de indiviuos\n",
      "Individuo consenso: [['UX' 'ME' 'VA' 'CHI' 'TI' 'IZ' 'TU' 'PM' 'CAN' 'PC' 'CHE' 'CAM' 'UX']]\n",
      "\n",
      "********************************************************************************************************\n",
      "Generación: 1750\n",
      "Distancias: Mínima 1866 Media 2079.35 Máxima 2658\n",
      "Mejor individuo: ['UX', 'ME', 'VA', 'CHI', 'TI', 'IZ', 'TU', 'PM', 'CAN', 'PC', 'CHE', 'CAM', 'UX']\n",
      "Aparecece en el 55.00000000000001 % de indiviuos\n",
      "Individuo consenso: [['UX' 'ME' 'VA' 'CHI' 'TI' 'IZ' 'TU' 'PM' 'CAN' 'PC' 'CHE' 'CAM' 'UX']]\n",
      "\n",
      "********************************************************************************************************\n",
      "Generación: 1800\n",
      "Distancias: Mínima 1777 Media 1970.85 Máxima 2905\n",
      "Mejor individuo: ['UX', 'ME', 'VA', 'CHI', 'IZ', 'TI', 'TU', 'PM', 'CAN', 'PC', 'CHE', 'CAM', 'UX']\n",
      "Aparecece en el 5.0 % de indiviuos\n",
      "Individuo consenso: [['UX' 'ME' 'VA' 'CHI' 'TI' 'IZ' 'TU' 'PM' 'CAN' 'PC' 'CHE' 'CAM' 'UX']]\n",
      "\n",
      "20% de la población:\n",
      "['UX', 'ME', 'VA', 'CHI', 'TI', 'IZ', 'TU', 'PM', 'CAN', 'PC', 'CHE', 'CAM', 'UX']\n",
      "['UX', 'ME', 'VA', 'CHI', 'TI', 'IZ', 'TU', 'PM', 'CAN', 'PC', 'CHE', 'CAM', 'UX']\n",
      "['UX', 'ME', 'VA', 'CHI', 'TI', 'IZ', 'TU', 'PM', 'CAN', 'PC', 'CHE', 'CAM', 'UX']\n",
      "['UX', 'ME', 'VA', 'CHI', 'TI', 'IZ', 'TU', 'PM', 'CAN', 'PC', 'CHE', 'CAM', 'UX']\n",
      "\n",
      "********************************************************************************************************\n",
      "Generación: 1850\n",
      "Distancias: Mínima 1763 Media 1946.75 Máxima 2468\n",
      "Mejor individuo: ['UX', 'ME', 'IZ', 'CHI', 'TI', 'VA', 'TU', 'PM', 'CAN', 'PC', 'CHE', 'CAM', 'UX']\n",
      "Aparecece en el 35.0 % de indiviuos\n",
      "Individuo consenso: [['UX' 'ME' 'VA' 'CHI' 'TI' 'IZ' 'TU' 'PM' 'CAN' 'PC' 'CHE' 'CAM' 'UX']]\n",
      "\n",
      "********************************************************************************************************\n",
      "Generación: 1900\n",
      "Distancias: Mínima 1866 Media 2040.25 Máxima 2673\n",
      "Mejor individuo: ['UX', 'ME', 'VA', 'CHI', 'TI', 'IZ', 'TU', 'PM', 'CAN', 'PC', 'CHE', 'CAM', 'UX']\n",
      "Aparecece en el 5.0 % de indiviuos\n",
      "Individuo consenso: [['UX' 'ME' 'VA' 'CHI' 'TI' 'IZ' 'TU' 'PM' 'PC' 'CAN' 'CHE' 'CAM' 'UX']]\n",
      "\n",
      "********************************************************************************************************\n",
      "Generación: 1950\n",
      "Distancias: Mínima 1781 Media 2015.3 Máxima 2801\n",
      "Mejor individuo: ['UX', 'ME', 'VA', 'CHI', 'TI', 'IZ', 'CAN', 'PM', 'PC', 'TU', 'CHE', 'CAM', 'UX']\n",
      "Aparecece en el 25.0 % de indiviuos\n",
      "Individuo consenso: [['UX' 'ME' 'VA' 'CHI' 'TI' 'IZ' 'TU' 'PM' 'PC' 'CAN' 'CHE' 'CAM' 'UX']]\n"
     ]
    }
   ],
   "source": [
    "for gen in range(NGEN):\n",
    "\n",
    "    # Se copia la poblacion para hacer en ella los cambios\n",
    "    n_poblacion = poblacion.copy()\n",
    "    \n",
    "    # Individuo inicial\n",
    "    i = rd.randint(0,NPOB-1)\n",
    "    \n",
    "    # Seleccionar ultimo individuo\n",
    "    if (i==0):\n",
    "        fin = NPOB-1 \n",
    "    else:\n",
    "        fin = i-1\n",
    "        \n",
    "    # Pasar por cada individuo\n",
    "    while (not i == fin):\n",
    "        \n",
    "        # Decidir si el padre se repetirá en la nueva población\n",
    "        if (replicacion(i, fitness)):\n",
    "            n_poblacion[int(aleatorio(0,NPOB-1)*(NPOB-1))] = mutar(poblacion[i], Q)\n",
    "\n",
    "        if (i == NPOB-1):\n",
    "            i=0\n",
    "        else:\n",
    "            i +=1\n",
    "            \n",
    "    # Calculo del nuevo fitness\n",
    "    poblacion = n_poblacion.copy()\n",
    "    fitness, mi, me, ma = fitness_p(poblacion)\n",
    "    \n",
    "    # Imrpimir informacion\n",
    "    if gen % NRES == 0:\n",
    "        \n",
    "        mejor, veces = veces_mejor(poblacion)\n",
    "        consenso = stats.mode(poblacion).mode\n",
    "        \n",
    "        print('\\n********************************************************************************************************')\n",
    "        print('Generación:', gen)\n",
    "        print('Distancias:', 'Mínima', mi, 'Media', me, 'Máxima', ma)\n",
    "        print('Mejor individuo:', mejor)\n",
    "        print('Aparecece en el', veces, '% de indiviuos')\n",
    "        print('Individuo consenso:', consenso)\n",
    "        \n",
    "        \n",
    "        \n",
    "    if gen % NSAMPLE == 0:\n",
    "        print('\\n20% de la población:')\n",
    "        print_pob(poblacion, 0.2)\n"
   ]
  },
  {
   "cell_type": "markdown",
   "metadata": {},
   "source": [
    "---"
   ]
  }
 ],
 "metadata": {
  "kernelspec": {
   "display_name": "Python 3",
   "language": "python",
   "name": "python3"
  },
  "language_info": {
   "codemirror_mode": {
    "name": "ipython",
    "version": 3
   },
   "file_extension": ".py",
   "mimetype": "text/x-python",
   "name": "python",
   "nbconvert_exporter": "python",
   "pygments_lexer": "ipython3",
   "version": "3.7.6"
  }
 },
 "nbformat": 4,
 "nbformat_minor": 2
}
