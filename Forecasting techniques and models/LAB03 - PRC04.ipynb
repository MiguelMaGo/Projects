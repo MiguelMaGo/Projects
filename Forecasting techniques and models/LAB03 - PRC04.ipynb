{
 "cells": [
  {
   "cell_type": "markdown",
   "metadata": {},
   "source": [
    "# Técnicas y modelos de clasificación\n",
    "\n"
   ]
  },
  {
   "cell_type": "code",
   "execution_count": 97,
   "metadata": {},
   "outputs": [],
   "source": [
    "import numpy as np\n",
    "import pandas as pd\n",
    "from sklearn.model_selection import train_test_split  #Para separar el dataframe en train and test\n",
    "from sklearn.naive_bayes import GaussianNB #Para el clasificador Bayes\n",
    "from sklearn.preprocessing import LabelEncoder#Categorización \n",
    "from sklearn.metrics import accuracy_score"
   ]
  },
  {
   "cell_type": "markdown",
   "metadata": {},
   "source": [
    "Leemos el csv y lo modificamos añadieno el nombre de las columnas que posee."
   ]
  },
  {
   "cell_type": "code",
   "execution_count": 98,
   "metadata": {},
   "outputs": [],
   "source": [
    "df = pd.read_csv('cars.csv', header=None)\n",
    "df.columns = ['buying', 'maint', 'doors', 'persons', 'lug_boot', 'safety', 'clase'] #Añadimos el nombre de las diferentes columnas que presenta el csv"
   ]
  },
  {
   "cell_type": "markdown",
   "metadata": {},
   "source": [
    "#### Preprocesamiento"
   ]
  },
  {
   "cell_type": "markdown",
   "metadata": {},
   "source": [
    "Los coche se clasificarán según la clase a la que pertenezcan, por ello se necesita saber qué valores posibles existen para esa columna."
   ]
  },
  {
   "cell_type": "code",
   "execution_count": 99,
   "metadata": {},
   "outputs": [
    {
     "data": {
      "text/plain": [
       "['unacc', 'acc', 'vgood', 'good']"
      ]
     },
     "execution_count": 99,
     "metadata": {},
     "output_type": "execute_result"
    }
   ],
   "source": [
    "pd.unique(df['clase']).tolist() #Los valores que puede tomar la clase del vehículo"
   ]
  },
  {
   "cell_type": "markdown",
   "metadata": {},
   "source": [
    "Se necesita tratar con variable categórica, por ello se proceder a su categorización.\n",
    "unacc = 0, acc = 1, good = 2, vgood = 3. Por ellos se realiza así en vez de utilizar LabelEncoderr, que nos daría otro orden de valores. Para la categorización del resto de columnas, sí que se utilizará."
   ]
  },
  {
   "cell_type": "code",
   "execution_count": 100,
   "metadata": {},
   "outputs": [],
   "source": [
    "clase_cat = [] #Lista vacia \n",
    "#Se llena según los valores de la columna class\n",
    "for x in range (0, len(df)):\n",
    "    if df['clase'][x] == 'unacc':\n",
    "        clase_cat.append(0)\n",
    "    elif df['clase'][x] == 'acc':\n",
    "        clase_cat.append(1)\n",
    "    elif df['clase'][x] == 'good':\n",
    "        clase_cat.append(2)\n",
    "    else:\n",
    "        clase_cat.append(3)"
   ]
  },
  {
   "cell_type": "markdown",
   "metadata": {},
   "source": [
    "En la lista clase_cat, tenemos los valores categóricos de la columna class. Se aprovecha que ya están separados y se crea el dataframe TARGET donde estarán guardados. Por otro lado, se elemina la columna CLASS para tener los datos"
   ]
  },
  {
   "cell_type": "code",
   "execution_count": 101,
   "metadata": {},
   "outputs": [],
   "source": [
    "aux = {'clase':clase_cat}\n",
    "# Aprovechamos para ya tener el target separado de los datos\n",
    "target = pd.DataFrame(data=aux)\n",
    "df = df.drop(columns = ['clase'])"
   ]
  },
  {
   "cell_type": "code",
   "execution_count": 102,
   "metadata": {},
   "outputs": [],
   "source": [
    "le = LabelEncoder()\n",
    "\n",
    "df.buying = le.fit_transform(df.buying)\n",
    "df.maint\t = le.fit_transform(df.maint)\n",
    "df.doors = le.fit_transform(df.doors)\n",
    "df.persons = le.fit_transform(df.persons)\n",
    "df.lug_boot = le.fit_transform(df.lug_boot)\n",
    "df.safety = le.fit_transform(df.safety)\n",
    "datos = df"
   ]
  },
  {
   "cell_type": "markdown",
   "metadata": {},
   "source": [
    "##### Clasificador"
   ]
  },
  {
   "cell_type": "markdown",
   "metadata": {},
   "source": [
    "Se procede a la división de los datos para el entrenamiento y el test."
   ]
  },
  {
   "cell_type": "code",
   "execution_count": 103,
   "metadata": {},
   "outputs": [],
   "source": [
    "x_train, x_test, y_train, y_test = train_test_split(datos, target, test_size=0.30) #70% entrenamiento y 30% test"
   ]
  },
  {
   "cell_type": "markdown",
   "metadata": {},
   "source": [
    "Se crea el clasificador"
   ]
  },
  {
   "cell_type": "code",
   "execution_count": 104,
   "metadata": {},
   "outputs": [
    {
     "name": "stdout",
     "output_type": "stream",
     "text": [
      "Precisión = 0.6204238921001927\n",
      "Error =  0.37957610789980734\n"
     ]
    },
    {
     "name": "stderr",
     "output_type": "stream",
     "text": [
      "C:\\Users\\Miguel\\AppData\\Local\\Continuum\\anaconda3\\lib\\site-packages\\sklearn\\utils\\validation.py:724: DataConversionWarning: A column-vector y was passed when a 1d array was expected. Please change the shape of y to (n_samples, ), for example using ravel().\n",
      "  y = column_or_1d(y, warn=True)\n"
     ]
    }
   ],
   "source": [
    "clf = GaussianNB() #Clasificador\n",
    "clf = clf.fit(x_train, y_train)\n",
    "precision = accuracy_score(y_test, clf.predict(x_test))\n",
    "print('Precisión =', precision)\n",
    "print('Error = ', 1 - precision)"
   ]
  },
  {
   "cell_type": "markdown",
   "metadata": {},
   "source": [
    "#### 5 coches no utilizados"
   ]
  },
  {
   "cell_type": "markdown",
   "metadata": {},
   "source": [
    "Se crea un dataframe con 5 coches distientos, los cuales se pasarán para su clasificación"
   ]
  },
  {
   "cell_type": "code",
   "execution_count": 105,
   "metadata": {},
   "outputs": [],
   "source": [
    "Coches = [[0, 3, 3, 0, 2, 0], # high, vhigh, 5more, 2, small, high\n",
    "         [1, 2, 2, 2, 2, 1], # low, med, 4, more, small, low\n",
    "         [2, 1, 0, 2, 0, 2], # med, low, 2, more, big, med\n",
    "         [2, 3, 1, 1, 0, 2], # med, vhigh, 3, 4, big, med\n",
    "         [3, 0, 1, 1, 1, 0]] # vhigh, high, 3, 4, med, high\n",
    "coches= pd.DataFrame(Coches)"
   ]
  },
  {
   "cell_type": "code",
   "execution_count": 106,
   "metadata": {},
   "outputs": [
    {
     "name": "stdout",
     "output_type": "stream",
     "text": [
      "El coche 1 pertenece a la clase: unacc\n",
      "El coche 2 pertenece a la clase: unacc\n",
      "El coche 3 pertenece a la clase: unacc\n",
      "El coche 4 pertenece a la clase: unacc\n",
      "El coche 5  pertenece a la clase: vgood\n"
     ]
    }
   ],
   "source": [
    "pred_coches = clf.predict(coches) #Llamamos al clasificador para que prediga sobre los coches creados\n",
    "for x in range (0, len(pred_coches)):    \n",
    "    if pred_coches[x]== 0:\n",
    "        print(\"El coche\", x+1, \"pertenece a la clase: unacc\")\n",
    "    elif pred_coches[x]== 1:\n",
    "        print(\"El coche\", x+1, \" pertenece a la clase: acc\")\n",
    "    elif pred_coches[x]== 2:\n",
    "        print(\"El coche\", x+1, \" pertenece a la clase: good\")\n",
    "    else:\n",
    "        print(\"El coche\", x+1, \" pertenece a la clase: vgood\")"
   ]
  },
  {
   "cell_type": "code",
   "execution_count": null,
   "metadata": {},
   "outputs": [],
   "source": []
  },
  {
   "cell_type": "code",
   "execution_count": null,
   "metadata": {},
   "outputs": [],
   "source": []
  },
  {
   "cell_type": "code",
   "execution_count": null,
   "metadata": {},
   "outputs": [],
   "source": []
  }
 ],
 "metadata": {
  "kernelspec": {
   "display_name": "Python 3",
   "language": "python",
   "name": "python3"
  },
  "language_info": {
   "codemirror_mode": {
    "name": "ipython",
    "version": 3
   },
   "file_extension": ".py",
   "mimetype": "text/x-python",
   "name": "python",
   "nbconvert_exporter": "python",
   "pygments_lexer": "ipython3",
   "version": "3.7.6"
  }
 },
 "nbformat": 4,
 "nbformat_minor": 2
}
